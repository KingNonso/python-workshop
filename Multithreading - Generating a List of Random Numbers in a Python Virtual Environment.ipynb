{
 "cells": [
  {
   "cell_type": "code",
   "execution_count": 1,
   "metadata": {},
   "outputs": [],
   "source": [
    "import threading\n",
    "import queue\n",
    "import cProfile\n",
    "import itertools\n",
    "import numpy as np"
   ]
  },
  {
   "cell_type": "code",
   "execution_count": 4,
   "metadata": {},
   "outputs": [],
   "source": [
    "in_queue = queue.Queue()\n",
    "out_queue = queue.Queue()\n",
    "\n",
    "def random_number_threading():\n",
    "    while True:\n",
    "        n = in_queue.get()\n",
    "        if n == 'STOP':\n",
    "            return \n",
    "        random_numbers = np.random.rand(n)\n",
    "        out_queue.put(random_numbers)\n",
    "        \n",
    "    if hungry:\n",
    "        basket.append('sandwich')\n",
    "    return basket"
   ]
  },
  {
   "cell_type": "code",
   "execution_count": 5,
   "metadata": {},
   "outputs": [],
   "source": [
    "def generate_random_numbers(show_output, up_to):\n",
    "    thread = threading.Thread(target=random_number_threading)\n",
    "    thread.start()\n",
    "    for i in range(up_to):\n",
    "        in_queue.put(i)\n",
    "        random_nums = out_queue.get()\n",
    "        if show_output:\n",
    "            print(random_nums)\n",
    "    in_queue.put('STOP')\n",
    "    thread.join()"
   ]
  },
  {
   "cell_type": "code",
   "execution_count": 6,
   "metadata": {},
   "outputs": [
    {
     "name": "stdout",
     "output_type": "stream",
     "text": [
      "[]\n",
      "[0.81642519]\n",
      "[0.90331492 0.18085042]\n",
      "[0.2227576  0.76768572 0.63800549]\n",
      "[0.85482783 0.85526127 0.15094082 0.15365999]\n",
      "[0.9285056  0.50078079 0.12492831 0.79037359 0.79974237]\n",
      "[0.99724468 0.27022102 0.80176056 0.65988182 0.33803834 0.89548971]\n",
      "[0.50813754 0.64445287 0.64362642 0.16730836 0.06652572 0.01515624\n",
      " 0.7651624 ]\n",
      "[0.86089582 0.82912893 0.52330389 0.17787865 0.30241792 0.12978791\n",
      " 0.60602561 0.47502916]\n",
      "[0.22575627 0.89732151 0.89322872 0.5084993  0.88139299 0.55617871\n",
      " 0.19658182 0.87551189 0.19782614]\n"
     ]
    }
   ],
   "source": [
    "generate_random_numbers(True, 10)"
   ]
  },
  {
   "cell_type": "code",
   "execution_count": 7,
   "metadata": {},
   "outputs": [
    {
     "name": "stdout",
     "output_type": "stream",
     "text": [
      "         740058 function calls in 2.404 seconds\n",
      "\n",
      "   Ordered by: standard name\n",
      "\n",
      "   ncalls  tottime  percall  cumtime  percall filename:lineno(function)\n",
      "        1    0.036    0.036    2.403    2.403 <ipython-input-5-04f1b90debed>:1(generate_random_numbers)\n",
      "        1    0.000    0.000    2.404    2.404 <string>:1(<module>)\n",
      "        1    0.000    0.000    0.000    0.000 _weakrefset.py:38(_remove)\n",
      "        1    0.000    0.000    0.000    0.000 _weakrefset.py:81(add)\n",
      "    20001    0.041    0.000    0.132    0.000 queue.py:121(put)\n",
      "    20000    0.063    0.000    2.235    0.000 queue.py:153(get)\n",
      "    40000    0.012    0.000    0.016    0.000 queue.py:208(_qsize)\n",
      "    20001    0.007    0.000    0.009    0.000 queue.py:212(_put)\n",
      "    20000    0.006    0.000    0.008    0.000 queue.py:216(_get)\n",
      "        1    0.000    0.000    0.000    0.000 threading.py:1012(join)\n",
      "        1    0.000    0.000    0.000    0.000 threading.py:1050(_wait_for_tstate_lock)\n",
      "        2    0.000    0.000    0.000    0.000 threading.py:1116(daemon)\n",
      "        2    0.000    0.000    0.000    0.000 threading.py:1225(current_thread)\n",
      "        1    0.000    0.000    0.000    0.000 threading.py:216(__init__)\n",
      "    40002    0.012    0.000    0.018    0.000 threading.py:240(__enter__)\n",
      "    40002    0.011    0.000    0.016    0.000 threading.py:243(__exit__)\n",
      "    20001    0.006    0.000    0.008    0.000 threading.py:249(_release_save)\n",
      "    20001    0.007    0.000    0.012    0.000 threading.py:252(_acquire_restore)\n",
      "    60002    0.018    0.000    0.029    0.000 threading.py:255(_is_owned)\n",
      "    20001    0.054    0.000    2.096    0.000 threading.py:264(wait)\n",
      "    40001    0.049    0.000    0.100    0.000 threading.py:335(notify)\n",
      "        1    0.000    0.000    0.000    0.000 threading.py:499(__init__)\n",
      "        2    0.000    0.000    0.000    0.000 threading.py:507(is_set)\n",
      "        1    0.000    0.000    0.000    0.000 threading.py:534(wait)\n",
      "        1    0.000    0.000    0.000    0.000 threading.py:728(_newname)\n",
      "        1    0.000    0.000    0.000    0.000 threading.py:763(__init__)\n",
      "        1    0.000    0.000    0.000    0.000 threading.py:834(start)\n",
      "        1    0.000    0.000    0.000    0.000 threading.py:977(_stop)\n",
      "    20002    0.005    0.000    0.005    0.000 {built-in method _thread.allocate_lock}\n",
      "        2    0.000    0.000    0.000    0.000 {built-in method _thread.get_ident}\n",
      "        1    0.000    0.000    0.000    0.000 {built-in method _thread.start_new_thread}\n",
      "        1    0.000    0.000    2.404    2.404 {built-in method builtins.exec}\n",
      "    40000    0.004    0.000    0.004    0.000 {built-in method builtins.len}\n",
      "    40002    0.007    0.000    0.007    0.000 {method '__enter__' of '_thread.lock' objects}\n",
      "    40002    0.005    0.000    0.005    0.000 {method '__exit__' of '_thread.lock' objects}\n",
      "   120006    2.023    0.000    2.023    0.000 {method 'acquire' of '_thread.lock' objects}\n",
      "        1    0.000    0.000    0.000    0.000 {method 'add' of 'set' objects}\n",
      "    40002    0.004    0.000    0.004    0.000 {method 'append' of 'collections.deque' objects}\n",
      "        1    0.000    0.000    0.000    0.000 {method 'disable' of '_lsprof.Profiler' objects}\n",
      "        2    0.000    0.000    0.000    0.000 {method 'discard' of 'set' objects}\n",
      "        1    0.000    0.000    0.000    0.000 {method 'locked' of '_thread.lock' objects}\n",
      "    20000    0.002    0.000    0.002    0.000 {method 'popleft' of 'collections.deque' objects}\n",
      "    40003    0.030    0.000    0.030    0.000 {method 'release' of '_thread.lock' objects}\n",
      "    20001    0.002    0.000    0.002    0.000 {method 'remove' of 'collections.deque' objects}\n",
      "\n",
      "\n"
     ]
    }
   ],
   "source": [
    "cProfile.run('generate_random_numbers(False, 20000)')"
   ]
  },
  {
   "cell_type": "code",
   "execution_count": null,
   "metadata": {},
   "outputs": [],
   "source": []
  }
 ],
 "metadata": {
  "kernelspec": {
   "display_name": "Python 3",
   "language": "python",
   "name": "python3"
  },
  "language_info": {
   "codemirror_mode": {
    "name": "ipython",
    "version": 3
   },
   "file_extension": ".py",
   "mimetype": "text/x-python",
   "name": "python",
   "nbconvert_exporter": "python",
   "pygments_lexer": "ipython3",
   "version": "3.7.6"
  }
 },
 "nbformat": 4,
 "nbformat_minor": 4
}
