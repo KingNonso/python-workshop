{
 "cells": [
  {
   "cell_type": "markdown",
   "metadata": {},
   "source": [
    "# Exploring Strings"
   ]
  },
  {
   "cell_type": "code",
   "execution_count": 78,
   "metadata": {},
   "outputs": [],
   "source": [
    "my_str = 'hello World!'"
   ]
  },
  {
   "cell_type": "code",
   "execution_count": 79,
   "metadata": {},
   "outputs": [
    {
     "data": {
      "text/plain": [
       "str"
      ]
     },
     "execution_count": 79,
     "metadata": {},
     "output_type": "execute_result"
    }
   ],
   "source": [
    "type(my_str)"
   ]
  },
  {
   "cell_type": "code",
   "execution_count": 80,
   "metadata": {},
   "outputs": [
    {
     "name": "stdout",
     "output_type": "stream",
     "text": [
      "str(object='') -> str\n",
      "str(bytes_or_buffer[, encoding[, errors]]) -> str\n",
      "\n",
      "Create a new string object from the given object. If encoding or\n",
      "errors is specified, then the object must expose a data buffer\n",
      "that will be decoded using the given encoding and error handler.\n",
      "Otherwise, returns the result of object.__str__() (if defined)\n",
      "or repr(object).\n",
      "encoding defaults to sys.getdefaultencoding().\n",
      "errors defaults to 'strict'.\n"
     ]
    }
   ],
   "source": [
    "print(my_str.__doc__)"
   ]
  },
  {
   "cell_type": "code",
   "execution_count": 81,
   "metadata": {
    "scrolled": true
   },
   "outputs": [
    {
     "data": {
      "text/plain": [
       "['__repr__',\n",
       " '__hash__',\n",
       " '__str__',\n",
       " '__getattribute__',\n",
       " '__lt__',\n",
       " '__le__',\n",
       " '__eq__',\n",
       " '__ne__',\n",
       " '__gt__',\n",
       " '__ge__',\n",
       " '__iter__',\n",
       " '__mod__',\n",
       " '__rmod__',\n",
       " '__len__',\n",
       " '__getitem__',\n",
       " '__add__',\n",
       " '__mul__',\n",
       " '__rmul__',\n",
       " '__contains__',\n",
       " '__new__',\n",
       " 'encode',\n",
       " 'replace',\n",
       " 'split',\n",
       " 'rsplit',\n",
       " 'join',\n",
       " 'capitalize',\n",
       " 'casefold',\n",
       " 'title',\n",
       " 'center',\n",
       " 'count',\n",
       " 'expandtabs',\n",
       " 'find',\n",
       " 'partition',\n",
       " 'index',\n",
       " 'ljust',\n",
       " 'lower',\n",
       " 'lstrip',\n",
       " 'rfind',\n",
       " 'rindex',\n",
       " 'rjust',\n",
       " 'rstrip',\n",
       " 'rpartition',\n",
       " 'splitlines',\n",
       " 'strip',\n",
       " 'swapcase',\n",
       " 'translate',\n",
       " 'upper',\n",
       " 'startswith',\n",
       " 'endswith',\n",
       " 'isascii',\n",
       " 'islower',\n",
       " 'isupper',\n",
       " 'istitle',\n",
       " 'isspace',\n",
       " 'isdecimal',\n",
       " 'isdigit',\n",
       " 'isnumeric',\n",
       " 'isalpha',\n",
       " 'isalnum',\n",
       " 'isidentifier',\n",
       " 'isprintable',\n",
       " 'zfill',\n",
       " 'format',\n",
       " 'format_map',\n",
       " '__format__',\n",
       " 'maketrans',\n",
       " '__sizeof__',\n",
       " '__getnewargs__',\n",
       " '__doc__',\n",
       " '__setattr__',\n",
       " '__delattr__',\n",
       " '__init__',\n",
       " '__reduce_ex__',\n",
       " '__reduce__',\n",
       " '__subclasshook__',\n",
       " '__init_subclass__',\n",
       " '__dir__',\n",
       " '__class__']"
      ]
     },
     "execution_count": 81,
     "metadata": {},
     "output_type": "execute_result"
    }
   ],
   "source": [
    "my_str.__dir__()"
   ]
  },
  {
   "cell_type": "code",
   "execution_count": 82,
   "metadata": {},
   "outputs": [
    {
     "data": {
      "text/plain": [
       "'Hello world!'"
      ]
     },
     "execution_count": 82,
     "metadata": {},
     "output_type": "execute_result"
    }
   ],
   "source": [
    "my_str.capitalize()"
   ]
  },
  {
   "cell_type": "code",
   "execution_count": 83,
   "metadata": {},
   "outputs": [
    {
     "data": {
      "text/plain": [
       "'HELLO WORLD!'"
      ]
     },
     "execution_count": 83,
     "metadata": {},
     "output_type": "execute_result"
    }
   ],
   "source": [
    "my_str.upper()"
   ]
  },
  {
   "cell_type": "code",
   "execution_count": 84,
   "metadata": {},
   "outputs": [
    {
     "data": {
      "text/plain": [
       "'hello*World!'"
      ]
     },
     "execution_count": 84,
     "metadata": {},
     "output_type": "execute_result"
    }
   ],
   "source": [
    "my_str.replace(' ', '*')"
   ]
  },
  {
   "cell_type": "markdown",
   "metadata": {},
   "source": [
    "# Defining Classes"
   ]
  },
  {
   "cell_type": "code",
   "execution_count": 85,
   "metadata": {},
   "outputs": [],
   "source": [
    "class Pet():\n",
    "    \"\"\"\n",
    "    A class to capture useful information regarding my pets, just incase\n",
    "    I lose track of them.\n",
    "    \"\"\"\n",
    "    is_human = False\n",
    "    owner = 'Michael Smith'"
   ]
  },
  {
   "cell_type": "code",
   "execution_count": 86,
   "metadata": {},
   "outputs": [
    {
     "name": "stdout",
     "output_type": "stream",
     "text": [
      "\n",
      "    A class to capture useful information regarding my pets, just incase\n",
      "    I lose track of them.\n",
      "    \n"
     ]
    }
   ],
   "source": [
    "chubbles = Pet()\n",
    "print(chubbles.__doc__)"
   ]
  },
  {
   "cell_type": "code",
   "execution_count": 87,
   "metadata": {},
   "outputs": [
    {
     "data": {
      "text/plain": [
       "'Michael Smith'"
      ]
     },
     "execution_count": 87,
     "metadata": {},
     "output_type": "execute_result"
    }
   ],
   "source": [
    "chubbles.owner"
   ]
  },
  {
   "cell_type": "code",
   "execution_count": 88,
   "metadata": {},
   "outputs": [],
   "source": [
    "import random\n",
    "class Pet():\n",
    "    \"\"\"\n",
    "    A class to capture useful information regarding my pets, just incase\n",
    "    I lose track of them.\n",
    "    \"\"\"\n",
    "    is_human = False\n",
    "    owner = 'Michael Smith'\n",
    "    \n",
    "    def __init__(self, height, name):\n",
    "        self.height = height\n",
    "        self.name = name\n",
    "    \n",
    "    def is_tall(self, tall_if_at_least):\n",
    "        return self.height >= tall_if_at_least\n",
    "    \n",
    "    def __str__(self):\n",
    "        return '%s (height: %s cm)' % (self.name, self.height)\n",
    "    \n",
    "    @staticmethod\n",
    "    def owned_by_smith_family():\n",
    "        return 'Smith' in Pet.owner\n",
    "    \n",
    "    @classmethod\n",
    "    def owned_by_smith_family(cls):\n",
    "        return 'Smith' in cls.owner\n",
    "    \n",
    "    @classmethod\n",
    "    def create_random_height_pet(cls):\n",
    "        height = random.randrange(0, 100)\n",
    "        return cls(height, height)"
   ]
  },
  {
   "cell_type": "code",
   "execution_count": 89,
   "metadata": {},
   "outputs": [
    {
     "data": {
      "text/plain": [
       "False"
      ]
     },
     "execution_count": 89,
     "metadata": {},
     "output_type": "execute_result"
    }
   ],
   "source": [
    "pet = Pet(14, 13)\n",
    "pet.is_human"
   ]
  },
  {
   "cell_type": "code",
   "execution_count": 90,
   "metadata": {},
   "outputs": [
    {
     "data": {
      "text/plain": [
       "13"
      ]
     },
     "execution_count": 90,
     "metadata": {},
     "output_type": "execute_result"
    }
   ],
   "source": [
    "pet.name"
   ]
  },
  {
   "cell_type": "code",
   "execution_count": 91,
   "metadata": {},
   "outputs": [
    {
     "name": "stdout",
     "output_type": "stream",
     "text": [
      "35\n",
      "66\n",
      "43\n",
      "27\n",
      "80\n"
     ]
    }
   ],
   "source": [
    "for i in range(5):\n",
    "    pet = Pet.create_random_height_pet()\n",
    "    print(pet.height)"
   ]
  },
  {
   "cell_type": "code",
   "execution_count": 92,
   "metadata": {},
   "outputs": [],
   "source": [
    "class Country():\n",
    "    def __init__(self, name='Unspecified', population=None, size_kmsq=None):\n",
    "        self.name = name\n",
    "        self.population = population\n",
    "        self.size_kmsq = size_kmsq\n",
    "        \n",
    "    def size_miles_sq(self, conversion_rate=0.621371):\n",
    "        return self.size_kmsq * conversion_rate ** 2\n",
    "    \n",
    "    def __str__(self):\n",
    "        label = self.name\n",
    "        if self.population:\n",
    "            label = '%s, population: %s' % (label, self.population)\n",
    "        if self.size_kmsq:\n",
    "            label = '%s, size_kmsq: %s' % (label, self.size_kmsq)\n",
    "        return label\n",
    "    \n",
    "    "
   ]
  },
  {
   "cell_type": "code",
   "execution_count": 93,
   "metadata": {},
   "outputs": [],
   "source": [
    "usa = Country(name='United States of America', size_kmsq=9.8e6)"
   ]
  },
  {
   "cell_type": "code",
   "execution_count": 94,
   "metadata": {},
   "outputs": [
    {
     "data": {
      "text/plain": [
       "{'name': 'United States of America',\n",
       " 'population': None,\n",
       " 'size_kmsq': 9800000.0}"
      ]
     },
     "execution_count": 94,
     "metadata": {},
     "output_type": "execute_result"
    }
   ],
   "source": [
    "usa.__dict__"
   ]
  },
  {
   "cell_type": "code",
   "execution_count": 95,
   "metadata": {},
   "outputs": [],
   "source": [
    "busa = Country('United America', 9.8e6)"
   ]
  },
  {
   "cell_type": "code",
   "execution_count": 96,
   "metadata": {},
   "outputs": [
    {
     "data": {
      "text/plain": [
       "{'name': 'United America', 'population': 9800000.0, 'size_kmsq': None}"
      ]
     },
     "execution_count": 96,
     "metadata": {},
     "output_type": "execute_result"
    }
   ],
   "source": [
    "busa.__dict__"
   ]
  },
  {
   "cell_type": "markdown",
   "metadata": {},
   "source": [
    "## Methods\n",
    "Instance methods are the most common type of method you will need to use. They always take self as the first positional argument. The __init__ method discussed in the previous section is an example of an instance method.\n",
    "\n",
    "## Static Methods\n",
    "Static methods are defined by using the @staticmethod decorator. Decorators allow us to alter the behavior of functions and classes.\n",
    "\n",
    "### This method should not be written as an instance method, because it does not rely on any instance attributes of the Pet object. That is, the result will be the same for all pets created from the class."
   ]
  },
  {
   "cell_type": "markdown",
   "metadata": {},
   "source": [
    "## Class Methods\n",
    "Suppose you want to avoid a situation where you create a country where people can specify the size in square miles rather than square kilometers. You could use a class method that takes the square mile input from the user and converts it to square kilometers, before initializing an instance of the class"
   ]
  },
  {
   "cell_type": "markdown",
   "metadata": {},
   "source": [
    "# Property and The Setter Method"
   ]
  },
  {
   "cell_type": "code",
   "execution_count": 97,
   "metadata": {},
   "outputs": [],
   "source": [
    "class Person():\n",
    "    def __init__(self, first_name, last_name):\n",
    "        self.first_name = first_name\n",
    "        self.last_name = last_name\n",
    "    \n",
    "    @property\n",
    "    def full_name(self):\n",
    "        return '%s %s' %(self.first_name, self.last_name)\n",
    "    \n",
    "    @full_name.setter\n",
    "    def full_name(self, name):\n",
    "        first, last = name.split(' ')\n",
    "        self.first_name = first\n",
    "        self.last_name = last"
   ]
  },
  {
   "cell_type": "code",
   "execution_count": 98,
   "metadata": {},
   "outputs": [
    {
     "data": {
      "text/plain": [
       "'Schmidt'"
      ]
     },
     "execution_count": 98,
     "metadata": {},
     "output_type": "execute_result"
    }
   ],
   "source": [
    "customer = Person('Mary', 'Lou')\n",
    "customer.full_name = 'Mary Schmidt'\n",
    "customer.last_name"
   ]
  },
  {
   "cell_type": "markdown",
   "metadata": {},
   "source": [
    "* setter method to customize the way values are assigned to properties."
   ]
  },
  {
   "cell_type": "code",
   "execution_count": 99,
   "metadata": {},
   "outputs": [],
   "source": [
    "class Temperature():\n",
    "    def __init__(self, celcius):\n",
    "        self.celcius = celcius  \n",
    "        \n",
    "    @property\n",
    "    def fahrenheit(self):\n",
    "        return self.celcius * 9 / 5 + 32\n",
    "    \n",
    "    @fahrenheit.setter\n",
    "    def fahrenheit(self, value):\n",
    "        if value < -460:\n",
    "                raise ValueError('Temperatures less than -460F are not possible')\n",
    "        self.celsius = (value - 32) * 5 / 9"
   ]
  },
  {
   "cell_type": "code",
   "execution_count": 100,
   "metadata": {},
   "outputs": [],
   "source": [
    "temp = Temperature(5)\n",
    "#temp.fahrenheit = -500"
   ]
  },
  {
   "cell_type": "code",
   "execution_count": 101,
   "metadata": {},
   "outputs": [
    {
     "data": {
      "text/plain": [
       "0.0"
      ]
     },
     "execution_count": 101,
     "metadata": {},
     "output_type": "execute_result"
    }
   ],
   "source": [
    "temp.fahrenheit = 32\n",
    "temp.celsius"
   ]
  },
  {
   "cell_type": "markdown",
   "metadata": {},
   "source": [
    "# Inheritance"
   ]
  },
  {
   "cell_type": "markdown",
   "metadata": {},
   "source": [
    "Single inheritance, also known as sub-classing, involves creating a child class that inherits the attributes and methods of a single parent class"
   ]
  },
  {
   "cell_type": "code",
   "execution_count": 102,
   "metadata": {},
   "outputs": [],
   "source": [
    "class Pet():\n",
    "    def __init__(self, name, weight):\n",
    "        self.name = name\n",
    "        self.weight = weight\n",
    "        \n",
    "class Cat(Pet):\n",
    "    is_feline = True\n",
    "    \n",
    "class Dog(Pet):\n",
    "    is_feline = False"
   ]
  },
  {
   "cell_type": "code",
   "execution_count": 103,
   "metadata": {},
   "outputs": [
    {
     "data": {
      "text/plain": [
       "'Kibbles'"
      ]
     },
     "execution_count": 103,
     "metadata": {},
     "output_type": "execute_result"
    }
   ],
   "source": [
    "my_cat = Cat('Kibbles', 8)\n",
    "my_cat.name"
   ]
  },
  {
   "cell_type": "code",
   "execution_count": 104,
   "metadata": {},
   "outputs": [],
   "source": [
    "class Person():\n",
    "    def __init__(self, first_name, last_name):\n",
    "        self.first_name = first_name\n",
    "        self.last_name = last_name\n",
    "        \n",
    "    def speak(self):\n",
    "        print('Hello, my name is %s' % self.first_name)    \n",
    "    \n",
    "        \n",
    "class Baby(Person):\n",
    "    def speak(self):\n",
    "        print('Blah blah blah')\n",
    "        \n",
    "class Adult(Person):\n",
    "    def speak(self):\n",
    "        print('Hello, my name is %s' % self.first_name)"
   ]
  },
  {
   "cell_type": "code",
   "execution_count": 105,
   "metadata": {},
   "outputs": [
    {
     "name": "stdout",
     "output_type": "stream",
     "text": [
      "Blah blah blah\n",
      "Hello, my name is Thomas\n"
     ]
    }
   ],
   "source": [
    "jess = Baby('Jessie', 'Mcdonald')\n",
    "tom = Adult('Thomas', 'Smith')\n",
    "jess.speak()\n",
    "tom.speak()"
   ]
  },
  {
   "cell_type": "code",
   "execution_count": 106,
   "metadata": {},
   "outputs": [
    {
     "name": "stdout",
     "output_type": "stream",
     "text": [
      "Hello, my name is John\n",
      "It is a pleasure to meet you!\n"
     ]
    }
   ],
   "source": [
    "class TalkativePerson(Person):\n",
    "    def speak(self):\n",
    "        super().speak()\n",
    "        print('It is a pleasure to meet you!')\n",
    "john = TalkativePerson('John', 'Tomic')\n",
    "john.speak()"
   ]
  },
  {
   "cell_type": "code",
   "execution_count": 107,
   "metadata": {},
   "outputs": [],
   "source": [
    "\"\"\"Overriding Methods Using super()\n",
    "\"\"\"\n",
    "import datetime\n",
    "class Diary():\n",
    "    def __init__(self, birthday, christmas):\n",
    "        self.birthday = birthday\n",
    "        self.christmas = christmas    \n",
    "        \n",
    "    @staticmethod\n",
    "    def format_date(date):\n",
    "        return date.strftime('%d-%b-%y')    \n",
    "    \n",
    "    def show_birthday(self):\n",
    "        return self.format_date(self.birthday)\n",
    "    \n",
    "    def show_christmas(self):\n",
    "        return self.format_date(self.christmas)"
   ]
  },
  {
   "cell_type": "code",
   "execution_count": 108,
   "metadata": {},
   "outputs": [],
   "source": [
    "class CustomDiary(Diary):\n",
    "    def __init__(self, birthday, christmas, date_format):\n",
    "        self.date_format = date_format\n",
    "        super().__init__(birthday, christmas)\n",
    "    \n",
    "    def format_date(self, date):\n",
    "        return date.strftime(self.date_format)"
   ]
  },
  {
   "cell_type": "code",
   "execution_count": 109,
   "metadata": {},
   "outputs": [
    {
     "name": "stdout",
     "output_type": "stream",
     "text": [
      "01-Jan-2018\n",
      "03/03/2018\n"
     ]
    }
   ],
   "source": [
    "first_diary = CustomDiary(datetime.date(2018,1,1), datetime.date(2018,3,3), '%d-%b-%Y')\n",
    "second_diary = CustomDiary(datetime.date(2018,1,1), datetime.date(2018,3,3), '%d/%m/%Y')\n",
    "print(first_diary.show_birthday())\n",
    "print(second_diary.show_christmas())"
   ]
  },
  {
   "cell_type": "markdown",
   "metadata": {},
   "source": [
    "# Multiple Inheritance"
   ]
  },
  {
   "cell_type": "code",
   "execution_count": 110,
   "metadata": {},
   "outputs": [],
   "source": [
    "class Calendar():\n",
    "    def book_appointment(self, date):\n",
    "        print('Booking appointment for date %s' % date)"
   ]
  },
  {
   "cell_type": "code",
   "execution_count": 111,
   "metadata": {},
   "outputs": [],
   "source": [
    "class OrganizedAdult(Adult, Calendar):\n",
    "    pass\n",
    "class OrganizedBaby(Baby, Calendar):\n",
    "    pass"
   ]
  },
  {
   "cell_type": "code",
   "execution_count": 112,
   "metadata": {},
   "outputs": [
    {
     "name": "stdout",
     "output_type": "stream",
     "text": [
      "Hello, my name is Andres\n",
      "Blah blah blah\n",
      "Booking appointment for date 2018-01-01\n"
     ]
    }
   ],
   "source": [
    "andres = OrganizedAdult('Andres', 'Gomez')\n",
    "boris = OrganizedBaby('Boris', 'Bumblebutton')\n",
    "andres.speak()\n",
    "boris.speak()\n",
    "boris.book_appointment(datetime.date(2018,1,1))"
   ]
  },
  {
   "cell_type": "code",
   "execution_count": 113,
   "metadata": {},
   "outputs": [],
   "source": [
    "class OrganizedBaby(Baby, Calendar):\n",
    "    def book_appointment(self, date):\n",
    "        print('Note that you are booking an appointment with a baby.')\n",
    "        super().book_appointment(date)"
   ]
  },
  {
   "cell_type": "code",
   "execution_count": 114,
   "metadata": {},
   "outputs": [
    {
     "name": "stdout",
     "output_type": "stream",
     "text": [
      "Note that you are booking an appointment with a baby.\n",
      "Booking appointment for date 2018-01-01\n"
     ]
    }
   ],
   "source": [
    "boris = OrganizedBaby('Boris', 'Bumblebutton')\n",
    "boris.book_appointment(datetime.date(2018,1,1))"
   ]
  },
  {
   "cell_type": "markdown",
   "metadata": {},
   "source": [
    "## Method Resolution Order\n",
    "Suppose you were inheriting from two parent classes, both of which have a method of the same name. Which would be used when calling the method on the child class? Which would be used when calling it via super()?"
   ]
  },
  {
   "cell_type": "code",
   "execution_count": 116,
   "metadata": {},
   "outputs": [],
   "source": [
    "class Dog():\n",
    "    def make_sound(self):\n",
    "        print('Woof!')\n",
    "class Cat():\n",
    "    def make_sound(self):\n",
    "        print('Miaw!')\n",
    "class DogCat(Dog, Cat):\n",
    "    pass"
   ]
  },
  {
   "cell_type": "code",
   "execution_count": 117,
   "metadata": {},
   "outputs": [
    {
     "name": "stdout",
     "output_type": "stream",
     "text": [
      "Woof!\n"
     ]
    }
   ],
   "source": [
    "my_pet = DogCat()\n",
    "my_pet.make_sound()"
   ]
  },
  {
   "cell_type": "code",
   "execution_count": 118,
   "metadata": {},
   "outputs": [
    {
     "name": "stdout",
     "output_type": "stream",
     "text": [
      "Miaw!\n"
     ]
    }
   ],
   "source": [
    "class DogCat(Cat, Dog):\n",
    "    pass\n",
    "my_pet = DogCat()\n",
    "my_pet.make_sound()"
   ]
  },
  {
   "cell_type": "markdown",
   "metadata": {},
   "source": [
    "### Creating Classes and Inheriting from a Parent Class"
   ]
  },
  {
   "cell_type": "code",
   "execution_count": 125,
   "metadata": {},
   "outputs": [],
   "source": [
    "class Polygon():\n",
    "    \"\"\"This is a Polygon class\"\"\"\n",
    "    def __init__(self, side_lengths):\n",
    "        self.side_lengths = side_lengths\n",
    "    \n",
    "    @property\n",
    "    def num_sides(self):\n",
    "        return len(self.side_lengths)\n",
    "    \n",
    "    @property\n",
    "    def perimeter(self):\n",
    "        return sum(self.side_lengths)\n",
    "    \n",
    "    def __str__(self):\n",
    "        return \"Polygon with %s sides\" %self.num_sides"
   ]
  },
  {
   "cell_type": "code",
   "execution_count": 126,
   "metadata": {},
   "outputs": [],
   "source": [
    "class Rectangle(Polygon):\n",
    "    \"\"\"This is a rectangle class\"\"\"\n",
    "    def __init__(self, height, width):\n",
    "        self.height = height\n",
    "        self.width = width\n",
    "        super().__init__([height, width, height, width])\n",
    "    \n",
    "    @property\n",
    "    def area(self):\n",
    "        area = self.height * self.width\n",
    "        return area"
   ]
  },
  {
   "cell_type": "code",
   "execution_count": 133,
   "metadata": {},
   "outputs": [],
   "source": [
    "class Square(Rectangle):\n",
    "    \"\"\"This is a square class\"\"\"\n",
    "    def __init__(self, l):\n",
    "        super().__init__(l,l)"
   ]
  },
  {
   "cell_type": "code",
   "execution_count": 134,
   "metadata": {},
   "outputs": [
    {
     "data": {
      "text/plain": [
       "(5, 12)"
      ]
     },
     "execution_count": 134,
     "metadata": {},
     "output_type": "execute_result"
    }
   ],
   "source": [
    "r = Rectangle(1, 5)\n",
    "r.area, r.perimeter"
   ]
  },
  {
   "cell_type": "code",
   "execution_count": 135,
   "metadata": {},
   "outputs": [
    {
     "data": {
      "text/plain": [
       "(25, 20)"
      ]
     },
     "execution_count": 135,
     "metadata": {},
     "output_type": "execute_result"
    }
   ],
   "source": [
    "s = Square(5)\n",
    "s.area, s.perimeter"
   ]
  },
  {
   "cell_type": "code",
   "execution_count": 136,
   "metadata": {},
   "outputs": [],
   "source": [
    "class Dogs : \n",
    "    instances = 0 \n",
    "    def __init__(self, name) :\n",
    "        self.name = name \n",
    "        Dogs.instances += 1\n",
    "\n",
    "d1 = Dogs (\"Blacky\")\n",
    "d2 = Dogs (\"Carlotta\")"
   ]
  },
  {
   "cell_type": "code",
   "execution_count": 137,
   "metadata": {},
   "outputs": [
    {
     "name": "stdout",
     "output_type": "stream",
     "text": [
      "Dogs instances: 2\n"
     ]
    }
   ],
   "source": [
    "print(\"Dogs instances:\" , Dogs.instances)"
   ]
  },
  {
   "cell_type": "code",
   "execution_count": 138,
   "metadata": {},
   "outputs": [
    {
     "data": {
      "text/plain": [
       "__main__.Dogs"
      ]
     },
     "execution_count": 138,
     "metadata": {},
     "output_type": "execute_result"
    }
   ],
   "source": [
    "type(d1)"
   ]
  },
  {
   "cell_type": "code",
   "execution_count": 140,
   "metadata": {},
   "outputs": [
    {
     "data": {
      "text/plain": [
       "True"
      ]
     },
     "execution_count": 140,
     "metadata": {},
     "output_type": "execute_result"
    }
   ],
   "source": [
    "isinstance(d1, Dogs)"
   ]
  },
  {
   "cell_type": "code",
   "execution_count": 1,
   "metadata": {
    "scrolled": false
   },
   "outputs": [
    {
     "name": "stdout",
     "output_type": "stream",
     "text": [
      "Help on module pdb:\n",
      "\n",
      "NAME\n",
      "    pdb\n",
      "\n",
      "MODULE REFERENCE\n",
      "    https://docs.python.org/3.7/library/pdb\n",
      "    \n",
      "    The following documentation is automatically generated from the Python\n",
      "    source files.  It may be incomplete, incorrect or include features that\n",
      "    are considered implementation detail and may vary between Python\n",
      "    implementations.  When in doubt, consult the module reference at the\n",
      "    location listed above.\n",
      "\n",
      "DESCRIPTION\n",
      "    The Python Debugger Pdb\n",
      "    =======================\n",
      "    \n",
      "    To use the debugger in its simplest form:\n",
      "    \n",
      "            >>> import pdb\n",
      "            >>> pdb.run('<a statement>')\n",
      "    \n",
      "    The debugger's prompt is '(Pdb) '.  This will stop in the first\n",
      "    function call in <a statement>.\n",
      "    \n",
      "    Alternatively, if a statement terminated with an unhandled exception,\n",
      "    you can use pdb's post-mortem facility to inspect the contents of the\n",
      "    traceback:\n",
      "    \n",
      "            >>> <a statement>\n",
      "            <exception traceback>\n",
      "            >>> import pdb\n",
      "            >>> pdb.pm()\n",
      "    \n",
      "    The commands recognized by the debugger are listed in the next\n",
      "    section.  Most can be abbreviated as indicated; e.g., h(elp) means\n",
      "    that 'help' can be typed as 'h' or 'help' (but not as 'he' or 'hel',\n",
      "    nor as 'H' or 'Help' or 'HELP').  Optional arguments are enclosed in\n",
      "    square brackets.  Alternatives in the command syntax are separated\n",
      "    by a vertical bar (|).\n",
      "    \n",
      "    A blank line repeats the previous command literally, except for\n",
      "    'list', where it lists the next 11 lines.\n",
      "    \n",
      "    Commands that the debugger doesn't recognize are assumed to be Python\n",
      "    statements and are executed in the context of the program being\n",
      "    debugged.  Python statements can also be prefixed with an exclamation\n",
      "    point ('!').  This is a powerful way to inspect the program being\n",
      "    debugged; it is even possible to change variables or call functions.\n",
      "    When an exception occurs in such a statement, the exception name is\n",
      "    printed but the debugger's state is not changed.\n",
      "    \n",
      "    The debugger supports aliases, which can save typing.  And aliases can\n",
      "    have parameters (see the alias help entry) which allows one a certain\n",
      "    level of adaptability to the context under examination.\n",
      "    \n",
      "    Multiple commands may be entered on a single line, separated by the\n",
      "    pair ';;'.  No intelligence is applied to separating the commands; the\n",
      "    input is split at the first ';;', even if it is in the middle of a\n",
      "    quoted string.\n",
      "    \n",
      "    If a file \".pdbrc\" exists in your home directory or in the current\n",
      "    directory, it is read in and executed as if it had been typed at the\n",
      "    debugger prompt.  This is particularly useful for aliases.  If both\n",
      "    files exist, the one in the home directory is read first and aliases\n",
      "    defined there can be overridden by the local file.  This behavior can be\n",
      "    disabled by passing the \"readrc=False\" argument to the Pdb constructor.\n",
      "    \n",
      "    Aside from aliases, the debugger is not directly programmable; but it\n",
      "    is implemented as a class from which you can derive your own debugger\n",
      "    class, which you can make as fancy as you like.\n",
      "    \n",
      "    \n",
      "    Debugger commands\n",
      "    =================\n",
      "    \n",
      "    h(elp)\n",
      "            Without argument, print the list of available commands.\n",
      "            With a command name as argument, print help about that command.\n",
      "            \"help pdb\" shows the full pdb documentation.\n",
      "            \"help exec\" gives help on the ! command.\n",
      "    \n",
      "    w(here)\n",
      "            Print a stack trace, with the most recent frame at the bottom.\n",
      "            An arrow indicates the \"current frame\", which determines the\n",
      "            context of most commands.  'bt' is an alias for this command.\n",
      "    \n",
      "    d(own) [count]\n",
      "            Move the current frame count (default one) levels down in the\n",
      "            stack trace (to a newer frame).\n",
      "    \n",
      "    u(p) [count]\n",
      "            Move the current frame count (default one) levels up in the\n",
      "            stack trace (to an older frame).\n",
      "    \n",
      "    b(reak) [ ([filename:]lineno | function) [, condition] ]\n",
      "            Without argument, list all breaks.\n",
      "    \n",
      "            With a line number argument, set a break at this line in the\n",
      "            current file.  With a function name, set a break at the first\n",
      "            executable line of that function.  If a second argument is\n",
      "            present, it is a string specifying an expression which must\n",
      "            evaluate to true before the breakpoint is honored.\n",
      "    \n",
      "            The line number may be prefixed with a filename and a colon,\n",
      "            to specify a breakpoint in another file (probably one that\n",
      "            hasn't been loaded yet).  The file is searched for on\n",
      "            sys.path; the .py suffix may be omitted.\n",
      "    \n",
      "    tbreak [ ([filename:]lineno | function) [, condition] ]\n",
      "            Same arguments as break, but sets a temporary breakpoint: it\n",
      "            is automatically deleted when first hit.\n",
      "    \n",
      "    cl(ear) filename:lineno\n",
      "    cl(ear) [bpnumber [bpnumber...]]\n",
      "            With a space separated list of breakpoint numbers, clear\n",
      "            those breakpoints.  Without argument, clear all breaks (but\n",
      "            first ask confirmation).  With a filename:lineno argument,\n",
      "            clear all breaks at that line in that file.\n",
      "    \n",
      "    disable bpnumber [bpnumber ...]\n",
      "            Disables the breakpoints given as a space separated list of\n",
      "            breakpoint numbers.  Disabling a breakpoint means it cannot\n",
      "            cause the program to stop execution, but unlike clearing a\n",
      "            breakpoint, it remains in the list of breakpoints and can be\n",
      "            (re-)enabled.\n",
      "    \n",
      "    enable bpnumber [bpnumber ...]\n",
      "            Enables the breakpoints given as a space separated list of\n",
      "            breakpoint numbers.\n",
      "    \n",
      "    ignore bpnumber [count]\n",
      "            Set the ignore count for the given breakpoint number.  If\n",
      "            count is omitted, the ignore count is set to 0.  A breakpoint\n",
      "            becomes active when the ignore count is zero.  When non-zero,\n",
      "            the count is decremented each time the breakpoint is reached\n",
      "            and the breakpoint is not disabled and any associated\n",
      "            condition evaluates to true.\n",
      "    \n",
      "    condition bpnumber [condition]\n",
      "            Set a new condition for the breakpoint, an expression which\n",
      "            must evaluate to true before the breakpoint is honored.  If\n",
      "            condition is absent, any existing condition is removed; i.e.,\n",
      "            the breakpoint is made unconditional.\n",
      "    \n",
      "    commands [bpnumber]\n",
      "            (com) ...\n",
      "            (com) end\n",
      "            (Pdb)\n",
      "    \n",
      "            Specify a list of commands for breakpoint number bpnumber.\n",
      "            The commands themselves are entered on the following lines.\n",
      "            Type a line containing just 'end' to terminate the commands.\n",
      "            The commands are executed when the breakpoint is hit.\n",
      "    \n",
      "            To remove all commands from a breakpoint, type commands and\n",
      "            follow it immediately with end; that is, give no commands.\n",
      "    \n",
      "            With no bpnumber argument, commands refers to the last\n",
      "            breakpoint set.\n",
      "    \n",
      "            You can use breakpoint commands to start your program up\n",
      "            again.  Simply use the continue command, or step, or any other\n",
      "            command that resumes execution.\n",
      "    \n",
      "            Specifying any command resuming execution (currently continue,\n",
      "            step, next, return, jump, quit and their abbreviations)\n",
      "            terminates the command list (as if that command was\n",
      "            immediately followed by end).  This is because any time you\n",
      "            resume execution (even with a simple next or step), you may\n",
      "            encounter another breakpoint -- which could have its own\n",
      "            command list, leading to ambiguities about which list to\n",
      "            execute.\n",
      "    \n",
      "            If you use the 'silent' command in the command list, the usual\n",
      "            message about stopping at a breakpoint is not printed.  This\n",
      "            may be desirable for breakpoints that are to print a specific\n",
      "            message and then continue.  If none of the other commands\n",
      "            print anything, you will see no sign that the breakpoint was\n",
      "            reached.\n",
      "    \n",
      "    s(tep)\n",
      "            Execute the current line, stop at the first possible occasion\n",
      "            (either in a function that is called or in the current\n",
      "            function).\n",
      "    \n",
      "    n(ext)\n",
      "            Continue execution until the next line in the current function\n",
      "            is reached or it returns.\n",
      "    \n",
      "    unt(il) [lineno]\n",
      "            Without argument, continue execution until the line with a\n",
      "            number greater than the current one is reached.  With a line\n",
      "            number, continue execution until a line with a number greater\n",
      "            or equal to that is reached.  In both cases, also stop when\n",
      "            the current frame returns.\n",
      "    \n",
      "    j(ump) lineno\n",
      "            Set the next line that will be executed.  Only available in\n",
      "            the bottom-most frame.  This lets you jump back and execute\n",
      "            code again, or jump forward to skip code that you don't want\n",
      "            to run.\n",
      "    \n",
      "            It should be noted that not all jumps are allowed -- for\n",
      "            instance it is not possible to jump into the middle of a\n",
      "            for loop or out of a finally clause.\n",
      "    \n",
      "    r(eturn)\n",
      "            Continue execution until the current function returns.\n",
      "    \n",
      "    retval\n",
      "            Print the return value for the last return of a function.\n",
      "    \n",
      "    run [args...]\n",
      "            Restart the debugged python program. If a string is supplied\n",
      "            it is split with \"shlex\", and the result is used as the new\n",
      "            sys.argv.  History, breakpoints, actions and debugger options\n",
      "            are preserved.  \"restart\" is an alias for \"run\".\n",
      "    \n",
      "    c(ont(inue))\n",
      "            Continue execution, only stop when a breakpoint is encountered.\n",
      "    \n",
      "    l(ist) [first [,last] | .]\n",
      "    \n",
      "            List source code for the current file.  Without arguments,\n",
      "            list 11 lines around the current line or continue the previous\n",
      "            listing.  With . as argument, list 11 lines around the current\n",
      "            line.  With one argument, list 11 lines starting at that line.\n",
      "            With two arguments, list the given range; if the second\n",
      "            argument is less than the first, it is a count.\n",
      "    \n",
      "            The current line in the current frame is indicated by \"->\".\n",
      "            If an exception is being debugged, the line where the\n",
      "            exception was originally raised or propagated is indicated by\n",
      "            \">>\", if it differs from the current line.\n",
      "    \n",
      "    longlist | ll\n",
      "            List the whole source code for the current function or frame.\n",
      "    \n",
      "    a(rgs)\n",
      "            Print the argument list of the current function.\n",
      "    \n",
      "    p expression\n",
      "            Print the value of the expression.\n",
      "    \n",
      "    pp expression\n",
      "            Pretty-print the value of the expression.\n",
      "    \n",
      "    whatis arg\n",
      "            Print the type of the argument.\n",
      "    \n",
      "    source expression\n",
      "            Try to get source code for the given object and display it.\n",
      "    \n",
      "    display [expression]\n",
      "    \n",
      "            Display the value of the expression if it changed, each time execution\n",
      "            stops in the current frame.\n",
      "    \n",
      "            Without expression, list all display expressions for the current frame.\n",
      "    \n",
      "    undisplay [expression]\n",
      "    \n",
      "            Do not display the expression any more in the current frame.\n",
      "    \n",
      "            Without expression, clear all display expressions for the current frame.\n",
      "    \n",
      "    interact\n",
      "    \n",
      "            Start an interactive interpreter whose global namespace\n",
      "            contains all the (global and local) names found in the current scope.\n",
      "    \n",
      "    alias [name [command [parameter parameter ...] ]]\n",
      "            Create an alias called 'name' that executes 'command'.  The\n",
      "            command must *not* be enclosed in quotes.  Replaceable\n",
      "            parameters can be indicated by %1, %2, and so on, while %* is\n",
      "            replaced by all the parameters.  If no command is given, the\n",
      "            current alias for name is shown. If no name is given, all\n",
      "            aliases are listed.\n",
      "    \n",
      "            Aliases may be nested and can contain anything that can be\n",
      "            legally typed at the pdb prompt.  Note!  You *can* override\n",
      "            internal pdb commands with aliases!  Those internal commands\n",
      "            are then hidden until the alias is removed.  Aliasing is\n",
      "            recursively applied to the first word of the command line; all\n",
      "            other words in the line are left alone.\n",
      "    \n",
      "            As an example, here are two useful aliases (especially when\n",
      "            placed in the .pdbrc file):\n",
      "    \n",
      "            # Print instance variables (usage \"pi classInst\")\n",
      "            alias pi for k in %1.__dict__.keys(): print(\"%1.\",k,\"=\",%1.__dict__[k])\n",
      "            # Print instance variables in self\n",
      "            alias ps pi self\n",
      "    \n",
      "    unalias name\n",
      "            Delete the specified alias.\n",
      "    \n",
      "    debug code\n",
      "            Enter a recursive debugger that steps through the code\n",
      "            argument (which is an arbitrary expression or statement to be\n",
      "            executed in the current environment).\n",
      "    \n",
      "    q(uit)\n",
      "    exit\n",
      "            Quit from the debugger. The program being executed is aborted.\n",
      "    \n",
      "    (!) statement\n",
      "            Execute the (one-line) statement in the context of the current\n",
      "            stack frame.  The exclamation point can be omitted unless the\n",
      "            first word of the statement resembles a debugger command.  To\n",
      "            assign to a global variable you must always prefix the command\n",
      "            with a 'global' command, e.g.:\n",
      "            (Pdb) global list_options; list_options = ['-l']\n",
      "            (Pdb)\n",
      "\n",
      "CLASSES\n",
      "    bdb.Bdb(builtins.object)\n",
      "        Pdb(bdb.Bdb, cmd.Cmd)\n",
      "    cmd.Cmd(builtins.object)\n",
      "        Pdb(bdb.Bdb, cmd.Cmd)\n",
      "    \n",
      "    class Pdb(bdb.Bdb, cmd.Cmd)\n",
      "     |  Pdb(completekey='tab', stdin=None, stdout=None, skip=None, nosigint=False, readrc=True)\n",
      "     |  \n",
      "     |  Generic Python debugger base class.\n",
      "     |  \n",
      "     |  This class takes care of details of the trace facility;\n",
      "     |  a derived class should implement user interaction.\n",
      "     |  The standard debugger class (pdb.Pdb) is an example.\n",
      "     |  \n",
      "     |  The optional skip argument must be an iterable of glob-style\n",
      "     |  module name patterns.  The debugger will not step into frames\n",
      "     |  that originate in a module that matches one of these patterns.\n",
      "     |  Whether a frame is considered to originate in a certain module\n",
      "     |  is determined by the __name__ in the frame globals.\n",
      "     |  \n",
      "     |  Method resolution order:\n",
      "     |      Pdb\n",
      "     |      bdb.Bdb\n",
      "     |      cmd.Cmd\n",
      "     |      builtins.object\n",
      "     |  \n",
      "     |  Methods defined here:\n",
      "     |  \n",
      "     |  __init__(self, completekey='tab', stdin=None, stdout=None, skip=None, nosigint=False, readrc=True)\n",
      "     |      Instantiate a line-oriented interpreter framework.\n",
      "     |      \n",
      "     |      The optional argument 'completekey' is the readline name of a\n",
      "     |      completion key; it defaults to the Tab key. If completekey is\n",
      "     |      not None and the readline module is available, command completion\n",
      "     |      is done automatically. The optional arguments stdin and stdout\n",
      "     |      specify alternate input and output file objects; if not specified,\n",
      "     |      sys.stdin and sys.stdout are used.\n",
      "     |  \n",
      "     |  bp_commands(self, frame)\n",
      "     |      Call every command that was set for the current active breakpoint\n",
      "     |      (if there is one).\n",
      "     |      \n",
      "     |      Returns True if the normal interaction function must be called,\n",
      "     |      False otherwise.\n",
      "     |  \n",
      "     |  checkline(self, filename, lineno)\n",
      "     |      Check whether specified line seems to be executable.\n",
      "     |      \n",
      "     |      Return `lineno` if it is, 0 if not (e.g. a docstring, comment, blank\n",
      "     |      line or EOF). Warning: testing is not comprehensive.\n",
      "     |  \n",
      "     |  complete_b = _complete_location(self, text, line, begidx, endidx)\n",
      "     |  \n",
      "     |  complete_break = _complete_location(self, text, line, begidx, endidx)\n",
      "     |  \n",
      "     |  complete_cl = _complete_location(self, text, line, begidx, endidx)\n",
      "     |  \n",
      "     |  complete_clear = _complete_location(self, text, line, begidx, endidx)\n",
      "     |  \n",
      "     |  complete_commands = _complete_bpnumber(self, text, line, begidx, endidx)\n",
      "     |  \n",
      "     |  complete_condition = _complete_bpnumber(self, text, line, begidx, endidx)\n",
      "     |  \n",
      "     |  complete_debug = _complete_expression(self, text, line, begidx, endidx)\n",
      "     |  \n",
      "     |  complete_disable = _complete_bpnumber(self, text, line, begidx, endidx)\n",
      "     |  \n",
      "     |  complete_display = _complete_expression(self, text, line, begidx, endidx)\n",
      "     |  \n",
      "     |  complete_enable = _complete_bpnumber(self, text, line, begidx, endidx)\n",
      "     |  \n",
      "     |  complete_ignore = _complete_bpnumber(self, text, line, begidx, endidx)\n",
      "     |  \n",
      "     |  complete_p = _complete_expression(self, text, line, begidx, endidx)\n",
      "     |  \n",
      "     |  complete_pp = _complete_expression(self, text, line, begidx, endidx)\n",
      "     |  \n",
      "     |  complete_print = _complete_expression(self, text, line, begidx, endidx)\n",
      "     |  \n",
      "     |  complete_source = _complete_expression(self, text, line, begidx, endidx)\n",
      "     |  \n",
      "     |  complete_tbreak = _complete_location(self, text, line, begidx, endidx)\n",
      "     |  \n",
      "     |  complete_unalias(self, text, line, begidx, endidx)\n",
      "     |  \n",
      "     |  complete_undisplay(self, text, line, begidx, endidx)\n",
      "     |  \n",
      "     |  complete_whatis = _complete_expression(self, text, line, begidx, endidx)\n",
      "     |  \n",
      "     |  default(self, line)\n",
      "     |      Called on an input line when the command prefix is not recognized.\n",
      "     |      \n",
      "     |      If this method is not overridden, it prints an error message and\n",
      "     |      returns.\n",
      "     |  \n",
      "     |  defaultFile(self)\n",
      "     |      Produce a reasonable default.\n",
      "     |  \n",
      "     |  displayhook(self, obj)\n",
      "     |      Custom displayhook for the exec in default(), which prevents\n",
      "     |      assignment of the _ variable in the builtins.\n",
      "     |  \n",
      "     |  do_EOF(self, arg)\n",
      "     |      EOF\n",
      "     |      Handles the receipt of EOF as a command.\n",
      "     |  \n",
      "     |  do_a = do_args(self, arg)\n",
      "     |  \n",
      "     |  do_alias(self, arg)\n",
      "     |      alias [name [command [parameter parameter ...] ]]\n",
      "     |      Create an alias called 'name' that executes 'command'.  The\n",
      "     |      command must *not* be enclosed in quotes.  Replaceable\n",
      "     |      parameters can be indicated by %1, %2, and so on, while %* is\n",
      "     |      replaced by all the parameters.  If no command is given, the\n",
      "     |      current alias for name is shown. If no name is given, all\n",
      "     |      aliases are listed.\n",
      "     |      \n",
      "     |      Aliases may be nested and can contain anything that can be\n",
      "     |      legally typed at the pdb prompt.  Note!  You *can* override\n",
      "     |      internal pdb commands with aliases!  Those internal commands\n",
      "     |      are then hidden until the alias is removed.  Aliasing is\n",
      "     |      recursively applied to the first word of the command line; all\n",
      "     |      other words in the line are left alone.\n",
      "     |      \n",
      "     |      As an example, here are two useful aliases (especially when\n",
      "     |      placed in the .pdbrc file):\n",
      "     |      \n",
      "     |      # Print instance variables (usage \"pi classInst\")\n",
      "     |      alias pi for k in %1.__dict__.keys(): print(\"%1.\",k,\"=\",%1.__dict__[k])\n",
      "     |      # Print instance variables in self\n",
      "     |      alias ps pi self\n",
      "     |  \n",
      "     |  do_args(self, arg)\n",
      "     |      a(rgs)\n",
      "     |      Print the argument list of the current function.\n",
      "     |  \n",
      "     |  do_b = do_break(self, arg, temporary=0)\n",
      "     |  \n",
      "     |  do_break(self, arg, temporary=0)\n",
      "     |      b(reak) [ ([filename:]lineno | function) [, condition] ]\n",
      "     |      Without argument, list all breaks.\n",
      "     |      \n",
      "     |      With a line number argument, set a break at this line in the\n",
      "     |      current file.  With a function name, set a break at the first\n",
      "     |      executable line of that function.  If a second argument is\n",
      "     |      present, it is a string specifying an expression which must\n",
      "     |      evaluate to true before the breakpoint is honored.\n",
      "     |      \n",
      "     |      The line number may be prefixed with a filename and a colon,\n",
      "     |      to specify a breakpoint in another file (probably one that\n",
      "     |      hasn't been loaded yet).  The file is searched for on\n",
      "     |      sys.path; the .py suffix may be omitted.\n",
      "     |  \n",
      "     |  do_bt = do_where(self, arg)\n",
      "     |  \n",
      "     |  do_c = do_continue(self, arg)\n",
      "     |  \n",
      "     |  do_cl = do_clear(self, arg)\n",
      "     |  \n",
      "     |  do_clear(self, arg)\n",
      "     |      cl(ear) filename:lineno\n",
      "     |      cl(ear) [bpnumber [bpnumber...]]\n",
      "     |              With a space separated list of breakpoint numbers, clear\n",
      "     |              those breakpoints.  Without argument, clear all breaks (but\n",
      "     |              first ask confirmation).  With a filename:lineno argument,\n",
      "     |              clear all breaks at that line in that file.\n",
      "     |  \n",
      "     |  do_commands(self, arg)\n",
      "     |      commands [bpnumber]\n",
      "     |      (com) ...\n",
      "     |      (com) end\n",
      "     |      (Pdb)\n",
      "     |      \n",
      "     |      Specify a list of commands for breakpoint number bpnumber.\n",
      "     |      The commands themselves are entered on the following lines.\n",
      "     |      Type a line containing just 'end' to terminate the commands.\n",
      "     |      The commands are executed when the breakpoint is hit.\n",
      "     |      \n",
      "     |      To remove all commands from a breakpoint, type commands and\n",
      "     |      follow it immediately with end; that is, give no commands.\n",
      "     |      \n",
      "     |      With no bpnumber argument, commands refers to the last\n",
      "     |      breakpoint set.\n",
      "     |      \n",
      "     |      You can use breakpoint commands to start your program up\n",
      "     |      again.  Simply use the continue command, or step, or any other\n",
      "     |      command that resumes execution.\n",
      "     |      \n",
      "     |      Specifying any command resuming execution (currently continue,\n",
      "     |      step, next, return, jump, quit and their abbreviations)\n",
      "     |      terminates the command list (as if that command was\n",
      "     |      immediately followed by end).  This is because any time you\n",
      "     |      resume execution (even with a simple next or step), you may\n",
      "     |      encounter another breakpoint -- which could have its own\n",
      "     |      command list, leading to ambiguities about which list to\n",
      "     |      execute.\n",
      "     |      \n",
      "     |      If you use the 'silent' command in the command list, the usual\n",
      "     |      message about stopping at a breakpoint is not printed.  This\n",
      "     |      may be desirable for breakpoints that are to print a specific\n",
      "     |      message and then continue.  If none of the other commands\n",
      "     |      print anything, you will see no sign that the breakpoint was\n",
      "     |      reached.\n",
      "     |  \n",
      "     |  do_condition(self, arg)\n",
      "     |      condition bpnumber [condition]\n",
      "     |      Set a new condition for the breakpoint, an expression which\n",
      "     |      must evaluate to true before the breakpoint is honored.  If\n",
      "     |      condition is absent, any existing condition is removed; i.e.,\n",
      "     |      the breakpoint is made unconditional.\n",
      "     |  \n",
      "     |  do_cont = do_continue(self, arg)\n",
      "     |  \n",
      "     |  do_continue(self, arg)\n",
      "     |      c(ont(inue))\n",
      "     |      Continue execution, only stop when a breakpoint is encountered.\n",
      "     |  \n",
      "     |  do_d = do_down(self, arg)\n",
      "     |  \n",
      "     |  do_debug(self, arg)\n",
      "     |      debug code\n",
      "     |      Enter a recursive debugger that steps through the code\n",
      "     |      argument (which is an arbitrary expression or statement to be\n",
      "     |      executed in the current environment).\n",
      "     |  \n",
      "     |  do_disable(self, arg)\n",
      "     |      disable bpnumber [bpnumber ...]\n",
      "     |      Disables the breakpoints given as a space separated list of\n",
      "     |      breakpoint numbers.  Disabling a breakpoint means it cannot\n",
      "     |      cause the program to stop execution, but unlike clearing a\n",
      "     |      breakpoint, it remains in the list of breakpoints and can be\n",
      "     |      (re-)enabled.\n",
      "     |  \n",
      "     |  do_display(self, arg)\n",
      "     |      display [expression]\n",
      "     |      \n",
      "     |      Display the value of the expression if it changed, each time execution\n",
      "     |      stops in the current frame.\n",
      "     |      \n",
      "     |      Without expression, list all display expressions for the current frame.\n",
      "     |  \n",
      "     |  do_down(self, arg)\n",
      "     |      d(own) [count]\n",
      "     |      Move the current frame count (default one) levels down in the\n",
      "     |      stack trace (to a newer frame).\n",
      "     |  \n",
      "     |  do_enable(self, arg)\n",
      "     |      enable bpnumber [bpnumber ...]\n",
      "     |      Enables the breakpoints given as a space separated list of\n",
      "     |      breakpoint numbers.\n",
      "     |  \n",
      "     |  do_exit = do_quit(self, arg)\n",
      "     |  \n",
      "     |  do_h = do_help(self, arg)\n",
      "     |  \n",
      "     |  do_help(self, arg)\n",
      "     |      h(elp)\n",
      "     |      Without argument, print the list of available commands.\n",
      "     |      With a command name as argument, print help about that command.\n",
      "     |      \"help pdb\" shows the full pdb documentation.\n",
      "     |      \"help exec\" gives help on the ! command.\n",
      "     |  \n",
      "     |  do_ignore(self, arg)\n",
      "     |      ignore bpnumber [count]\n",
      "     |      Set the ignore count for the given breakpoint number.  If\n",
      "     |      count is omitted, the ignore count is set to 0.  A breakpoint\n",
      "     |      becomes active when the ignore count is zero.  When non-zero,\n",
      "     |      the count is decremented each time the breakpoint is reached\n",
      "     |      and the breakpoint is not disabled and any associated\n",
      "     |      condition evaluates to true.\n",
      "     |  \n",
      "     |  do_interact(self, arg)\n",
      "     |      interact\n",
      "     |      \n",
      "     |      Start an interactive interpreter whose global namespace\n",
      "     |      contains all the (global and local) names found in the current scope.\n",
      "     |  \n",
      "     |  do_j = do_jump(self, arg)\n",
      "     |  \n",
      "     |  do_jump(self, arg)\n",
      "     |      j(ump) lineno\n",
      "     |      Set the next line that will be executed.  Only available in\n",
      "     |      the bottom-most frame.  This lets you jump back and execute\n",
      "     |      code again, or jump forward to skip code that you don't want\n",
      "     |      to run.\n",
      "     |      \n",
      "     |      It should be noted that not all jumps are allowed -- for\n",
      "     |      instance it is not possible to jump into the middle of a\n",
      "     |      for loop or out of a finally clause.\n",
      "     |  \n",
      "     |  do_l = do_list(self, arg)\n",
      "     |  \n",
      "     |  do_list(self, arg)\n",
      "     |      l(ist) [first [,last] | .]\n",
      "     |      \n",
      "     |      List source code for the current file.  Without arguments,\n",
      "     |      list 11 lines around the current line or continue the previous\n",
      "     |      listing.  With . as argument, list 11 lines around the current\n",
      "     |      line.  With one argument, list 11 lines starting at that line.\n",
      "     |      With two arguments, list the given range; if the second\n",
      "     |      argument is less than the first, it is a count.\n",
      "     |      \n",
      "     |      The current line in the current frame is indicated by \"->\".\n",
      "     |      If an exception is being debugged, the line where the\n",
      "     |      exception was originally raised or propagated is indicated by\n",
      "     |      \">>\", if it differs from the current line.\n",
      "     |  \n",
      "     |  do_ll = do_longlist(self, arg)\n",
      "     |  \n",
      "     |  do_longlist(self, arg)\n",
      "     |      longlist | ll\n",
      "     |      List the whole source code for the current function or frame.\n",
      "     |  \n",
      "     |  do_n = do_next(self, arg)\n",
      "     |  \n",
      "     |  do_next(self, arg)\n",
      "     |      n(ext)\n",
      "     |      Continue execution until the next line in the current function\n",
      "     |      is reached or it returns.\n",
      "     |  \n",
      "     |  do_p(self, arg)\n",
      "     |      p expression\n",
      "     |      Print the value of the expression.\n",
      "     |  \n",
      "     |  do_pp(self, arg)\n",
      "     |      pp expression\n",
      "     |      Pretty-print the value of the expression.\n",
      "     |  \n",
      "     |  do_q = do_quit(self, arg)\n",
      "     |  \n",
      "     |  do_quit(self, arg)\n",
      "     |      q(uit)\n",
      "     |      exit\n",
      "     |              Quit from the debugger. The program being executed is aborted.\n",
      "     |  \n",
      "     |  do_r = do_return(self, arg)\n",
      "     |  \n",
      "     |  do_restart = do_run(self, arg)\n",
      "     |  \n",
      "     |  do_return(self, arg)\n",
      "     |      r(eturn)\n",
      "     |      Continue execution until the current function returns.\n",
      "     |  \n",
      "     |  do_retval(self, arg)\n",
      "     |      retval\n",
      "     |      Print the return value for the last return of a function.\n",
      "     |  \n",
      "     |  do_run(self, arg)\n",
      "     |      run [args...]\n",
      "     |      Restart the debugged python program. If a string is supplied\n",
      "     |      it is split with \"shlex\", and the result is used as the new\n",
      "     |      sys.argv.  History, breakpoints, actions and debugger options\n",
      "     |      are preserved.  \"restart\" is an alias for \"run\".\n",
      "     |  \n",
      "     |  do_rv = do_retval(self, arg)\n",
      "     |  \n",
      "     |  do_s = do_step(self, arg)\n",
      "     |  \n",
      "     |  do_source(self, arg)\n",
      "     |      source expression\n",
      "     |      Try to get source code for the given object and display it.\n",
      "     |  \n",
      "     |  do_step(self, arg)\n",
      "     |      s(tep)\n",
      "     |      Execute the current line, stop at the first possible occasion\n",
      "     |      (either in a function that is called or in the current\n",
      "     |      function).\n",
      "     |  \n",
      "     |  do_tbreak(self, arg)\n",
      "     |      tbreak [ ([filename:]lineno | function) [, condition] ]\n",
      "     |      Same arguments as break, but sets a temporary breakpoint: it\n",
      "     |      is automatically deleted when first hit.\n",
      "     |  \n",
      "     |  do_u = do_up(self, arg)\n",
      "     |  \n",
      "     |  do_unalias(self, arg)\n",
      "     |      unalias name\n",
      "     |      Delete the specified alias.\n",
      "     |  \n",
      "     |  do_undisplay(self, arg)\n",
      "     |      undisplay [expression]\n",
      "     |      \n",
      "     |      Do not display the expression any more in the current frame.\n",
      "     |      \n",
      "     |      Without expression, clear all display expressions for the current frame.\n",
      "     |  \n",
      "     |  do_unt = do_until(self, arg)\n",
      "     |  \n",
      "     |  do_until(self, arg)\n",
      "     |      unt(il) [lineno]\n",
      "     |      Without argument, continue execution until the line with a\n",
      "     |      number greater than the current one is reached.  With a line\n",
      "     |      number, continue execution until a line with a number greater\n",
      "     |      or equal to that is reached.  In both cases, also stop when\n",
      "     |      the current frame returns.\n",
      "     |  \n",
      "     |  do_up(self, arg)\n",
      "     |      u(p) [count]\n",
      "     |      Move the current frame count (default one) levels up in the\n",
      "     |      stack trace (to an older frame).\n",
      "     |  \n",
      "     |  do_w = do_where(self, arg)\n",
      "     |  \n",
      "     |  do_whatis(self, arg)\n",
      "     |      whatis arg\n",
      "     |      Print the type of the argument.\n",
      "     |  \n",
      "     |  do_where(self, arg)\n",
      "     |      w(here)\n",
      "     |      Print a stack trace, with the most recent frame at the bottom.\n",
      "     |      An arrow indicates the \"current frame\", which determines the\n",
      "     |      context of most commands.  'bt' is an alias for this command.\n",
      "     |  \n",
      "     |  error(self, msg)\n",
      "     |  \n",
      "     |  execRcLines(self)\n",
      "     |      # Can be executed earlier than 'setup' if desired\n",
      "     |  \n",
      "     |  forget(self)\n",
      "     |  \n",
      "     |  handle_command_def(self, line)\n",
      "     |      Handles one command line during command list definition.\n",
      "     |  \n",
      "     |  help_exec(self)\n",
      "     |      (!) statement\n",
      "     |      Execute the (one-line) statement in the context of the current\n",
      "     |      stack frame.  The exclamation point can be omitted unless the\n",
      "     |      first word of the statement resembles a debugger command.  To\n",
      "     |      assign to a global variable you must always prefix the command\n",
      "     |      with a 'global' command, e.g.:\n",
      "     |      (Pdb) global list_options; list_options = ['-l']\n",
      "     |      (Pdb)\n",
      "     |  \n",
      "     |  help_pdb(self)\n",
      "     |  \n",
      "     |  interaction(self, frame, traceback)\n",
      "     |  \n",
      "     |  lineinfo(self, identifier)\n",
      "     |  \n",
      "     |  lookupmodule(self, filename)\n",
      "     |      Helper function for break/clear parsing -- may be overridden.\n",
      "     |      \n",
      "     |      lookupmodule() translates (possibly incomplete) file or module name\n",
      "     |      into an absolute file name.\n",
      "     |  \n",
      "     |  message(self, msg)\n",
      "     |  \n",
      "     |  onecmd(self, line)\n",
      "     |      Interpret the argument as though it had been typed in response\n",
      "     |      to the prompt.\n",
      "     |      \n",
      "     |      Checks whether this line is typed at the normal prompt or in\n",
      "     |      a breakpoint command list definition.\n",
      "     |  \n",
      "     |  precmd(self, line)\n",
      "     |      Handle alias expansion and ';;' separator.\n",
      "     |  \n",
      "     |  preloop(self)\n",
      "     |      Hook method executed once when the cmdloop() method is called.\n",
      "     |  \n",
      "     |  print_stack_entry(self, frame_lineno, prompt_prefix='\\n-> ')\n",
      "     |  \n",
      "     |  print_stack_trace(self)\n",
      "     |  \n",
      "     |  reset(self)\n",
      "     |      Set values of attributes as ready to start debugging.\n",
      "     |  \n",
      "     |  setup(self, f, tb)\n",
      "     |  \n",
      "     |  sigint_handler(self, signum, frame)\n",
      "     |  \n",
      "     |  user_call(self, frame, argument_list)\n",
      "     |      This method is called when there is the remote possibility\n",
      "     |      that we ever need to stop in this function.\n",
      "     |  \n",
      "     |  user_exception(self, frame, exc_info)\n",
      "     |      This function is called if an exception occurs,\n",
      "     |      but only if we are to stop at or just below this level.\n",
      "     |  \n",
      "     |  user_line(self, frame)\n",
      "     |      This function is called when we stop or break at this line.\n",
      "     |  \n",
      "     |  user_return(self, frame, return_value)\n",
      "     |      This function is called when a return trap is set here.\n",
      "     |  \n",
      "     |  ----------------------------------------------------------------------\n",
      "     |  Data and other attributes defined here:\n",
      "     |  \n",
      "     |  commands_resuming = ['do_continue', 'do_step', 'do_next', 'do_return',...\n",
      "     |  \n",
      "     |  ----------------------------------------------------------------------\n",
      "     |  Methods inherited from bdb.Bdb:\n",
      "     |  \n",
      "     |  break_anywhere(self, frame)\n",
      "     |      Return True if there is any breakpoint for frame's filename.\n",
      "     |  \n",
      "     |  break_here(self, frame)\n",
      "     |      Return True if there is an effective breakpoint for this line.\n",
      "     |      \n",
      "     |      Check for line or function breakpoint and if in effect.\n",
      "     |      Delete temporary breakpoints if effective() says to.\n",
      "     |  \n",
      "     |  canonic(self, filename)\n",
      "     |      Return canonical form of filename.\n",
      "     |      \n",
      "     |      For real filenames, the canonical form is a case-normalized (on\n",
      "     |      case insenstive filesystems) absolute path.  'Filenames' with\n",
      "     |      angle brackets, such as \"<stdin>\", generated in interactive\n",
      "     |      mode, are returned unchanged.\n",
      "     |  \n",
      "     |  clear_all_breaks(self)\n",
      "     |      Delete all existing breakpoints.\n",
      "     |      \n",
      "     |      If none were set, return an error message.\n",
      "     |  \n",
      "     |  clear_all_file_breaks(self, filename)\n",
      "     |      Delete all breakpoints in filename.\n",
      "     |      \n",
      "     |      If none were set, return an error message.\n",
      "     |  \n",
      "     |  clear_bpbynumber(self, arg)\n",
      "     |      Delete a breakpoint by its index in Breakpoint.bpbynumber.\n",
      "     |      \n",
      "     |      If arg is invalid, return an error message.\n",
      "     |  \n",
      "     |  clear_break(self, filename, lineno)\n",
      "     |      Delete breakpoints for filename:lineno.\n",
      "     |      \n",
      "     |      If no breakpoints were set, return an error message.\n",
      "     |  \n",
      "     |  dispatch_call(self, frame, arg)\n",
      "     |      Invoke user function and return trace function for call event.\n",
      "     |      \n",
      "     |      If the debugger stops on this function call, invoke\n",
      "     |      self.user_call(). Raise BbdQuit if self.quitting is set.\n",
      "     |      Return self.trace_dispatch to continue tracing in this scope.\n",
      "     |  \n",
      "     |  dispatch_exception(self, frame, arg)\n",
      "     |      Invoke user function and return trace function for exception event.\n",
      "     |      \n",
      "     |      If the debugger stops on this exception, invoke\n",
      "     |      self.user_exception(). Raise BdbQuit if self.quitting is set.\n",
      "     |      Return self.trace_dispatch to continue tracing in this scope.\n",
      "     |  \n",
      "     |  dispatch_line(self, frame)\n",
      "     |      Invoke user function and return trace function for line event.\n",
      "     |      \n",
      "     |      If the debugger stops on the current line, invoke\n",
      "     |      self.user_line(). Raise BdbQuit if self.quitting is set.\n",
      "     |      Return self.trace_dispatch to continue tracing in this scope.\n",
      "     |  \n",
      "     |  dispatch_return(self, frame, arg)\n",
      "     |      Invoke user function and return trace function for return event.\n",
      "     |      \n",
      "     |      If the debugger stops on this function return, invoke\n",
      "     |      self.user_return(). Raise BdbQuit if self.quitting is set.\n",
      "     |      Return self.trace_dispatch to continue tracing in this scope.\n",
      "     |  \n",
      "     |  format_stack_entry(self, frame_lineno, lprefix=': ')\n",
      "     |      Return a string with information about a stack entry.\n",
      "     |      \n",
      "     |      The stack entry frame_lineno is a (frame, lineno) tuple.  The\n",
      "     |      return string contains the canonical filename, the function name\n",
      "     |      or '<lambda>', the input arguments, the return value, and the\n",
      "     |      line of code (if it exists).\n",
      "     |  \n",
      "     |  get_all_breaks(self)\n",
      "     |      Return all breakpoints that are set.\n",
      "     |  \n",
      "     |  get_bpbynumber(self, arg)\n",
      "     |      Return a breakpoint by its index in Breakpoint.bybpnumber.\n",
      "     |      \n",
      "     |      For invalid arg values or if the breakpoint doesn't exist,\n",
      "     |      raise a ValueError.\n",
      "     |  \n",
      "     |  get_break(self, filename, lineno)\n",
      "     |      Return True if there is a breakpoint for filename:lineno.\n",
      "     |  \n",
      "     |  get_breaks(self, filename, lineno)\n",
      "     |      Return all breakpoints for filename:lineno.\n",
      "     |      \n",
      "     |      If no breakpoints are set, return an empty list.\n",
      "     |  \n",
      "     |  get_file_breaks(self, filename)\n",
      "     |      Return all lines with breakpoints for filename.\n",
      "     |      \n",
      "     |      If no breakpoints are set, return an empty list.\n",
      "     |  \n",
      "     |  get_stack(self, f, t)\n",
      "     |      Return a list of (frame, lineno) in a stack trace and a size.\n",
      "     |      \n",
      "     |      List starts with original calling frame, if there is one.\n",
      "     |      Size may be number of frames above or below f.\n",
      "     |  \n",
      "     |  is_skipped_module(self, module_name)\n",
      "     |      Return True if module_name matches any skip pattern.\n",
      "     |  \n",
      "     |  run(self, cmd, globals=None, locals=None)\n",
      "     |      Debug a statement executed via the exec() function.\n",
      "     |      \n",
      "     |      globals defaults to __main__.dict; locals defaults to globals.\n",
      "     |  \n",
      "     |  runcall(*args, **kwds)\n",
      "     |      Debug a single function call.\n",
      "     |      \n",
      "     |      Return the result of the function call.\n",
      "     |  \n",
      "     |  runctx(self, cmd, globals, locals)\n",
      "     |      For backwards-compatibility.  Defers to run().\n",
      "     |  \n",
      "     |  runeval(self, expr, globals=None, locals=None)\n",
      "     |      Debug an expression executed via the eval() function.\n",
      "     |      \n",
      "     |      globals defaults to __main__.dict; locals defaults to globals.\n",
      "     |  \n",
      "     |  set_break(self, filename, lineno, temporary=False, cond=None, funcname=None)\n",
      "     |      Set a new breakpoint for filename:lineno.\n",
      "     |      \n",
      "     |      If lineno doesn't exist for the filename, return an error message.\n",
      "     |      The filename should be in canonical form.\n",
      "     |  \n",
      "     |  set_continue(self)\n",
      "     |      Stop only at breakpoints or when finished.\n",
      "     |      \n",
      "     |      If there are no breakpoints, set the system trace function to None.\n",
      "     |  \n",
      "     |  set_next(self, frame)\n",
      "     |      Stop on the next line in or below the given frame.\n",
      "     |  \n",
      "     |  set_quit(self)\n",
      "     |      Set quitting attribute to True.\n",
      "     |      \n",
      "     |      Raises BdbQuit exception in the next call to a dispatch_*() method.\n",
      "     |  \n",
      "     |  set_return(self, frame)\n",
      "     |      Stop when returning from the given frame.\n",
      "     |  \n",
      "     |  set_step(self)\n",
      "     |      Stop after one line of code.\n",
      "     |  \n",
      "     |  set_trace(self, frame=None)\n",
      "     |      Start debugging from frame.\n",
      "     |      \n",
      "     |      If frame is not specified, debugging starts from caller's frame.\n",
      "     |  \n",
      "     |  set_until(self, frame, lineno=None)\n",
      "     |      Stop when the line with the lineno greater than the current one is\n",
      "     |      reached or when returning from current frame.\n",
      "     |  \n",
      "     |  stop_here(self, frame)\n",
      "     |      Return True if frame is below the starting frame in the stack.\n",
      "     |  \n",
      "     |  trace_dispatch(self, frame, event, arg)\n",
      "     |      Dispatch a trace function for debugged frames based on the event.\n",
      "     |      \n",
      "     |      This function is installed as the trace function for debugged\n",
      "     |      frames. Its return value is the new trace function, which is\n",
      "     |      usually itself. The default implementation decides how to\n",
      "     |      dispatch a frame, depending on the type of event (passed in as a\n",
      "     |      string) that is about to be executed.\n",
      "     |      \n",
      "     |      The event can be one of the following:\n",
      "     |          line: A new line of code is going to be executed.\n",
      "     |          call: A function is about to be called or another code block\n",
      "     |                is entered.\n",
      "     |          return: A function or other code block is about to return.\n",
      "     |          exception: An exception has occurred.\n",
      "     |          c_call: A C function is about to be called.\n",
      "     |          c_return: A C function has returned.\n",
      "     |          c_exception: A C function has raised an exception.\n",
      "     |      \n",
      "     |      For the Python events, specialized functions (see the dispatch_*()\n",
      "     |      methods) are called.  For the C events, no action is taken.\n",
      "     |      \n",
      "     |      The arg parameter depends on the previous event.\n",
      "     |  \n",
      "     |  ----------------------------------------------------------------------\n",
      "     |  Data descriptors inherited from bdb.Bdb:\n",
      "     |  \n",
      "     |  __dict__\n",
      "     |      dictionary for instance variables (if defined)\n",
      "     |  \n",
      "     |  __weakref__\n",
      "     |      list of weak references to the object (if defined)\n",
      "     |  \n",
      "     |  ----------------------------------------------------------------------\n",
      "     |  Methods inherited from cmd.Cmd:\n",
      "     |  \n",
      "     |  cmdloop(self, intro=None)\n",
      "     |      Repeatedly issue a prompt, accept input, parse an initial prefix\n",
      "     |      off the received input, and dispatch to action methods, passing them\n",
      "     |      the remainder of the line as argument.\n",
      "     |  \n",
      "     |  columnize(self, list, displaywidth=80)\n",
      "     |      Display a list of strings as a compact set of columns.\n",
      "     |      \n",
      "     |      Each column is only as wide as necessary.\n",
      "     |      Columns are separated by two spaces (one was not legible enough).\n",
      "     |  \n",
      "     |  complete(self, text, state)\n",
      "     |      Return the next possible completion for 'text'.\n",
      "     |      \n",
      "     |      If a command has not been entered, then complete against command list.\n",
      "     |      Otherwise try to call complete_<command> to get list of completions.\n",
      "     |  \n",
      "     |  complete_help(self, *args)\n",
      "     |  \n",
      "     |  completedefault(self, *ignored)\n",
      "     |      Method called to complete an input line when no command-specific\n",
      "     |      complete_*() method is available.\n",
      "     |      \n",
      "     |      By default, it returns an empty list.\n",
      "     |  \n",
      "     |  completenames(self, text, *ignored)\n",
      "     |  \n",
      "     |  emptyline(self)\n",
      "     |      Called when an empty line is entered in response to the prompt.\n",
      "     |      \n",
      "     |      If this method is not overridden, it repeats the last nonempty\n",
      "     |      command entered.\n",
      "     |  \n",
      "     |  get_names(self)\n",
      "     |  \n",
      "     |  parseline(self, line)\n",
      "     |      Parse the line into a command name and a string containing\n",
      "     |      the arguments.  Returns a tuple containing (command, args, line).\n",
      "     |      'command' and 'args' may be None if the line couldn't be parsed.\n",
      "     |  \n",
      "     |  postcmd(self, stop, line)\n",
      "     |      Hook method executed just after a command dispatch is finished.\n",
      "     |  \n",
      "     |  postloop(self)\n",
      "     |      Hook method executed once when the cmdloop() method is about to\n",
      "     |      return.\n",
      "     |  \n",
      "     |  print_topics(self, header, cmds, cmdlen, maxcol)\n",
      "     |  \n",
      "     |  ----------------------------------------------------------------------\n",
      "     |  Data and other attributes inherited from cmd.Cmd:\n",
      "     |  \n",
      "     |  doc_header = 'Documented commands (type help <topic>):'\n",
      "     |  \n",
      "     |  doc_leader = ''\n",
      "     |  \n",
      "     |  identchars = 'abcdefghijklmnopqrstuvwxyzABCDEFGHIJKLMNOPQRSTUVWXYZ0123...\n",
      "     |  \n",
      "     |  intro = None\n",
      "     |  \n",
      "     |  lastcmd = ''\n",
      "     |  \n",
      "     |  misc_header = 'Miscellaneous help topics:'\n",
      "     |  \n",
      "     |  nohelp = '*** No help on %s'\n",
      "     |  \n",
      "     |  prompt = '(Cmd) '\n",
      "     |  \n",
      "     |  ruler = '='\n",
      "     |  \n",
      "     |  undoc_header = 'Undocumented commands:'\n",
      "     |  \n",
      "     |  use_rawinput = 1\n",
      "\n",
      "FUNCTIONS\n",
      "    help()\n",
      "        # print help\n",
      "    \n",
      "    pm()\n",
      "    \n",
      "    post_mortem(t=None)\n",
      "    \n",
      "    run(statement, globals=None, locals=None)\n",
      "    \n",
      "    runcall(*args, **kwds)\n",
      "    \n",
      "    runctx(statement, globals, locals)\n",
      "    \n",
      "    runeval(expression, globals=None, locals=None)\n",
      "    \n",
      "    set_trace(*, header=None)\n",
      "\n",
      "DATA\n",
      "    __all__ = ['run', 'pm', 'Pdb', 'runeval', 'runctx', 'runcall', 'set_tr...\n",
      "\n",
      "FILE\n",
      "    /Users/chinonsoani/opt/anaconda3/lib/python3.7/pdb.py\n",
      "\n",
      "\n"
     ]
    }
   ],
   "source": [
    "import pdb\n",
    "help(pdb)"
   ]
  },
  {
   "cell_type": "code",
   "execution_count": null,
   "metadata": {},
   "outputs": [],
   "source": []
  }
 ],
 "metadata": {
  "kernelspec": {
   "display_name": "Python 3",
   "language": "python",
   "name": "python3"
  },
  "language_info": {
   "codemirror_mode": {
    "name": "ipython",
    "version": 3
   },
   "file_extension": ".py",
   "mimetype": "text/x-python",
   "name": "python",
   "nbconvert_exporter": "python",
   "pygments_lexer": "ipython3",
   "version": "3.7.6"
  }
 },
 "nbformat": 4,
 "nbformat_minor": 4
}
