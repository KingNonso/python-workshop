{
 "cells": [
  {
   "cell_type": "code",
   "execution_count": 1,
   "metadata": {},
   "outputs": [],
   "source": [
    "import dataclasses"
   ]
  },
  {
   "cell_type": "code",
   "execution_count": 2,
   "metadata": {},
   "outputs": [],
   "source": [
    "@dataclasses.dataclass\n",
    "class Point:\n",
    "    x: int\n",
    "    y: int"
   ]
  },
  {
   "cell_type": "code",
   "execution_count": 3,
   "metadata": {},
   "outputs": [
    {
     "name": "stdout",
     "output_type": "stream",
     "text": [
      "Point(x=10, y=20)\n"
     ]
    }
   ],
   "source": [
    "p = Point(x=10, y=20)\n",
    "print(p)"
   ]
  },
  {
   "cell_type": "code",
   "execution_count": 4,
   "metadata": {},
   "outputs": [],
   "source": [
    "p2 = Point(x=10, y=20)"
   ]
  },
  {
   "cell_type": "code",
   "execution_count": 5,
   "metadata": {},
   "outputs": [
    {
     "data": {
      "text/plain": [
       "True"
      ]
     },
     "execution_count": 5,
     "metadata": {},
     "output_type": "execute_result"
    }
   ],
   "source": [
    "p == p2"
   ]
  },
  {
   "cell_type": "code",
   "execution_count": 6,
   "metadata": {},
   "outputs": [
    {
     "data": {
      "text/plain": [
       "{'x': 10, 'y': 20}"
      ]
     },
     "execution_count": 6,
     "metadata": {},
     "output_type": "execute_result"
    }
   ],
   "source": [
    "dataclasses.asdict(p)"
   ]
  },
  {
   "cell_type": "markdown",
   "metadata": {},
   "source": [
    "# Creating and Extending Command lines apps with argparse"
   ]
  },
  {
   "cell_type": "code",
   "execution_count": 7,
   "metadata": {},
   "outputs": [
    {
     "name": "stdout",
     "output_type": "stream",
     "text": [
      "usage: echo.py [-h] [-c] [-r REPEAT] message [message ...]\n",
      "\n",
      "Prints out the word passed in, capitalizes them if required and repeat them in\n",
      "as many lines as requested\n",
      "\n",
      "positional arguments:\n",
      "  message               Message to be echoed\n",
      "\n",
      "optional arguments:\n",
      "  -h, --help            show this help message and exit\n",
      "  -c, --capitalize\n",
      "  -r REPEAT, --repeat REPEAT\n"
     ]
    }
   ],
   "source": [
    "%run echo -h"
   ]
  },
  {
   "cell_type": "code",
   "execution_count": 8,
   "metadata": {},
   "outputs": [
    {
     "name": "stdout",
     "output_type": "stream",
     "text": [
      "Hello Nonso Jenny\n",
      "Hello Nonso Jenny\n"
     ]
    }
   ],
   "source": [
    "%run echo hello nonso jenny -r=2 -c"
   ]
  },
  {
   "cell_type": "markdown",
   "metadata": {},
   "source": [
    "# Dates and Times"
   ]
  },
  {
   "cell_type": "code",
   "execution_count": 9,
   "metadata": {},
   "outputs": [
    {
     "data": {
      "text/plain": [
       "datetime.date(2020, 5, 1)"
      ]
     },
     "execution_count": 9,
     "metadata": {},
     "output_type": "execute_result"
    }
   ],
   "source": [
    "import datetime\n",
    "datetime.date.today()"
   ]
  },
  {
   "cell_type": "code",
   "execution_count": 10,
   "metadata": {},
   "outputs": [
    {
     "data": {
      "text/plain": [
       "datetime.datetime(1989, 4, 24, 10, 11, tzinfo=tzfile('/usr/share/zoneinfo/Europe/Madrid'))"
      ]
     },
     "execution_count": 10,
     "metadata": {},
     "output_type": "execute_result"
    }
   ],
   "source": [
    "import datetime\n",
    "from dateutil import tz\n",
    "datetime.datetime(1989, 4, 24, 10, 11,\n",
    "                      tzinfo=tz.gettz(\"Europe/Madrid\"))"
   ]
  },
  {
   "cell_type": "code",
   "execution_count": 12,
   "metadata": {},
   "outputs": [],
   "source": [
    "d2 = datetime.datetime(1989, 4, 24, hour=8,\n",
    "                     tzinfo=tz.gettz(\"America/Los_Angeles\"))"
   ]
  },
  {
   "cell_type": "code",
   "execution_count": 13,
   "metadata": {},
   "outputs": [],
   "source": [
    "d1 = datetime.datetime(1989, 4, 24, hour=11,\n",
    "                      tzinfo=tz.gettz(\"Europe/Madrid\"))"
   ]
  },
  {
   "cell_type": "code",
   "execution_count": 14,
   "metadata": {},
   "outputs": [
    {
     "name": "stdout",
     "output_type": "stream",
     "text": [
      "True\n",
      "False\n"
     ]
    }
   ],
   "source": [
    "print(d1.hour > d2.hour)\n",
    "print(d1 > d2)"
   ]
  },
  {
   "cell_type": "code",
   "execution_count": 15,
   "metadata": {},
   "outputs": [
    {
     "name": "stdout",
     "output_type": "stream",
     "text": [
      "17\n"
     ]
    }
   ],
   "source": [
    "d2_madrid = d2.astimezone(tz.gettz(\"Europe/Madrid\"))\n",
    "print(d2_madrid.hour)"
   ]
  },
  {
   "cell_type": "markdown",
   "metadata": {},
   "source": [
    "# Calculating the Time Delta between Two datetime Objects"
   ]
  },
  {
   "cell_type": "code",
   "execution_count": 16,
   "metadata": {},
   "outputs": [],
   "source": [
    "import datetime as dt"
   ]
  },
  {
   "cell_type": "code",
   "execution_count": 17,
   "metadata": {},
   "outputs": [],
   "source": [
    "d1 = dt.datetime(2019, 2, 25, 10, 50,\n",
    "                 tzinfo=dt.timezone.utc)\n",
    "d2 = dt.datetime(2019, 2, 26, 11, 20,\n",
    "                 tzinfo=dt.timezone.utc)"
   ]
  },
  {
   "cell_type": "code",
   "execution_count": 18,
   "metadata": {},
   "outputs": [
    {
     "data": {
      "text/plain": [
       "datetime.timedelta(days=1, seconds=1800)"
      ]
     },
     "execution_count": 18,
     "metadata": {},
     "output_type": "execute_result"
    }
   ],
   "source": [
    "d2 - d1"
   ]
  },
  {
   "cell_type": "code",
   "execution_count": 19,
   "metadata": {},
   "outputs": [
    {
     "data": {
      "text/plain": [
       "88200.0"
      ]
     },
     "execution_count": 19,
     "metadata": {},
     "output_type": "execute_result"
    }
   ],
   "source": [
    "td = d2 - d1\n",
    "td.total_seconds()"
   ]
  },
  {
   "cell_type": "code",
   "execution_count": 20,
   "metadata": {},
   "outputs": [
    {
     "data": {
      "text/plain": [
       "'2020-05-03T16:26:20.346902+00:00'"
      ]
     },
     "execution_count": 20,
     "metadata": {},
     "output_type": "execute_result"
    }
   ],
   "source": [
    "d1 = dt.datetime.now(dt.timezone.utc)\n",
    "d1.isoformat()"
   ]
  },
  {
   "cell_type": "markdown",
   "metadata": {},
   "source": [
    "# Calculating the Unix Epoch Time"
   ]
  },
  {
   "cell_type": "code",
   "execution_count": 21,
   "metadata": {},
   "outputs": [],
   "source": [
    "import datetime as dt\n",
    "import time"
   ]
  },
  {
   "cell_type": "code",
   "execution_count": 22,
   "metadata": {},
   "outputs": [],
   "source": [
    "time_now = time.time()\n",
    "datetime_now = dt.datetime.now(dt.timezone.utc)"
   ]
  },
  {
   "cell_type": "code",
   "execution_count": 23,
   "metadata": {},
   "outputs": [
    {
     "name": "stdout",
     "output_type": "stream",
     "text": [
      "1970-01-01 00:00:00.000038+00:00\n"
     ]
    }
   ],
   "source": [
    "epoch = datetime_now - dt.timedelta(seconds=time_now)\n",
    "print(epoch)"
   ]
  },
  {
   "cell_type": "code",
   "execution_count": 24,
   "metadata": {
    "scrolled": true
   },
   "outputs": [
    {
     "data": {
      "text/plain": [
       "[datetime.date(2019, 1, 28),\n",
       " datetime.date(2019, 1, 29),\n",
       " datetime.date(2019, 1, 30),\n",
       " datetime.date(2019, 1, 31),\n",
       " datetime.date(2019, 2, 1),\n",
       " datetime.date(2019, 2, 2),\n",
       " datetime.date(2019, 2, 3),\n",
       " datetime.date(2019, 2, 4),\n",
       " datetime.date(2019, 2, 5),\n",
       " datetime.date(2019, 2, 6),\n",
       " datetime.date(2019, 2, 7),\n",
       " datetime.date(2019, 2, 8),\n",
       " datetime.date(2019, 2, 9),\n",
       " datetime.date(2019, 2, 10),\n",
       " datetime.date(2019, 2, 11),\n",
       " datetime.date(2019, 2, 12),\n",
       " datetime.date(2019, 2, 13),\n",
       " datetime.date(2019, 2, 14),\n",
       " datetime.date(2019, 2, 15),\n",
       " datetime.date(2019, 2, 16),\n",
       " datetime.date(2019, 2, 17),\n",
       " datetime.date(2019, 2, 18),\n",
       " datetime.date(2019, 2, 19),\n",
       " datetime.date(2019, 2, 20),\n",
       " datetime.date(2019, 2, 21),\n",
       " datetime.date(2019, 2, 22),\n",
       " datetime.date(2019, 2, 23),\n",
       " datetime.date(2019, 2, 24),\n",
       " datetime.date(2019, 2, 25),\n",
       " datetime.date(2019, 2, 26),\n",
       " datetime.date(2019, 2, 27),\n",
       " datetime.date(2019, 2, 28),\n",
       " datetime.date(2019, 3, 1),\n",
       " datetime.date(2019, 3, 2),\n",
       " datetime.date(2019, 3, 3)]"
      ]
     },
     "execution_count": 24,
     "metadata": {},
     "output_type": "execute_result"
    }
   ],
   "source": [
    "import calendar\n",
    "c = calendar.Calendar()\n",
    "list(c.itermonthdates(2019, 2))"
   ]
  },
  {
   "cell_type": "code",
   "execution_count": 25,
   "metadata": {
    "scrolled": true
   },
   "outputs": [
    {
     "data": {
      "text/plain": [
       "[datetime.date(2019, 2, 1),\n",
       " datetime.date(2019, 2, 2),\n",
       " datetime.date(2019, 2, 3),\n",
       " datetime.date(2019, 2, 4),\n",
       " datetime.date(2019, 2, 5),\n",
       " datetime.date(2019, 2, 6),\n",
       " datetime.date(2019, 2, 7),\n",
       " datetime.date(2019, 2, 8),\n",
       " datetime.date(2019, 2, 9),\n",
       " datetime.date(2019, 2, 10),\n",
       " datetime.date(2019, 2, 11),\n",
       " datetime.date(2019, 2, 12),\n",
       " datetime.date(2019, 2, 13),\n",
       " datetime.date(2019, 2, 14),\n",
       " datetime.date(2019, 2, 15),\n",
       " datetime.date(2019, 2, 16),\n",
       " datetime.date(2019, 2, 17),\n",
       " datetime.date(2019, 2, 18),\n",
       " datetime.date(2019, 2, 19),\n",
       " datetime.date(2019, 2, 20),\n",
       " datetime.date(2019, 2, 21),\n",
       " datetime.date(2019, 2, 22),\n",
       " datetime.date(2019, 2, 23),\n",
       " datetime.date(2019, 2, 24),\n",
       " datetime.date(2019, 2, 25),\n",
       " datetime.date(2019, 2, 26),\n",
       " datetime.date(2019, 2, 27),\n",
       " datetime.date(2019, 2, 28)]"
      ]
     },
     "execution_count": 25,
     "metadata": {},
     "output_type": "execute_result"
    }
   ],
   "source": [
    "list(d for d in c.itermonthdates(2019, 2) if d.month == 2)"
   ]
  },
  {
   "cell_type": "markdown",
   "metadata": {},
   "source": [
    "### Calculating the Time Elapsed to Run a Loop"
   ]
  },
  {
   "cell_type": "code",
   "execution_count": 27,
   "metadata": {},
   "outputs": [],
   "source": [
    "import random\n",
    "start_time = time.time()\n",
    "l = [random.randint(1, 999) for _ in range(10 * 3)]\n",
    "end_time = time.time()"
   ]
  },
  {
   "cell_type": "code",
   "execution_count": 29,
   "metadata": {},
   "outputs": [
    {
     "data": {
      "text/plain": [
       "0.00019884109497070312"
      ]
     },
     "execution_count": 29,
     "metadata": {},
     "output_type": "execute_result"
    }
   ],
   "source": [
    "end_time - start_time"
   ]
  },
  {
   "cell_type": "code",
   "execution_count": 31,
   "metadata": {},
   "outputs": [],
   "source": [
    "start_time = time.time_ns()\n",
    "l = [random.randint(1, 999) for _ in range(10 * 3)]\n",
    "end_time = time.time_ns()"
   ]
  },
  {
   "cell_type": "code",
   "execution_count": 32,
   "metadata": {},
   "outputs": [
    {
     "data": {
      "text/plain": [
       "145000"
      ]
     },
     "execution_count": 32,
     "metadata": {},
     "output_type": "execute_result"
    }
   ],
   "source": [
    "end_time - start_time"
   ]
  },
  {
   "cell_type": "markdown",
   "metadata": {},
   "source": [
    "# Interacting with the OS"
   ]
  },
  {
   "cell_type": "code",
   "execution_count": 33,
   "metadata": {},
   "outputs": [],
   "source": [
    "import platform\n",
    "import os\n",
    "import sys"
   ]
  },
  {
   "cell_type": "code",
   "execution_count": 34,
   "metadata": {},
   "outputs": [
    {
     "name": "stdout",
     "output_type": "stream",
     "text": [
      "Process id: 4459\n",
      "Parent process id: 4428\n"
     ]
    }
   ],
   "source": [
    "print(\"Process id:\", os.getpid())\n",
    "print(\"Parent process id:\", os.getppid())"
   ]
  },
  {
   "cell_type": "code",
   "execution_count": 35,
   "metadata": {},
   "outputs": [
    {
     "name": "stdout",
     "output_type": "stream",
     "text": [
      "Machine network name: Nonso-Mac.local\n",
      "Python version: 3.7.7\n",
      "System: Darwin\n"
     ]
    }
   ],
   "source": [
    "print(\"Machine network name:\", platform.node())\n",
    "print(\"Python version:\", platform.python_version())\n",
    "print(\"System:\", platform.system())"
   ]
  },
  {
   "cell_type": "code",
   "execution_count": 36,
   "metadata": {},
   "outputs": [
    {
     "name": "stdout",
     "output_type": "stream",
     "text": [
      "Python module lookup path: ['/Users/chinonsoani/codebase/jupyter/python-workshop', '/usr/local/Cellar/python/3.7.7/Frameworks/Python.framework/Versions/3.7/lib/python37.zip', '/usr/local/Cellar/python/3.7.7/Frameworks/Python.framework/Versions/3.7/lib/python3.7', '/usr/local/Cellar/python/3.7.7/Frameworks/Python.framework/Versions/3.7/lib/python3.7/lib-dynload', '', '/usr/local/lib/python3.7/site-packages', '/usr/local/lib/python3.7/site-packages/IPython/extensions', '/Users/chinonsoani/.ipython']\n",
      "Command to run Python: ['/usr/local/lib/python3.7/site-packages/ipykernel_launcher.py', '-f', '/Users/chinonsoani/Library/Jupyter/runtime/kernel-f13db38a-6914-4648-a721-1ff978f2bc20.json']\n"
     ]
    }
   ],
   "source": [
    "print(\"Python module lookup path:\", sys.path)\n",
    "print(\"Command to run Python:\", sys.argv)"
   ]
  },
  {
   "cell_type": "code",
   "execution_count": 38,
   "metadata": {},
   "outputs": [
    {
     "name": "stdout",
     "output_type": "stream",
     "text": [
      "USERNAME environment variable: USERNAME\n"
     ]
    }
   ],
   "source": [
    "print(\"USERNAME environment variable:\", \n",
    "      os.environ.get(\"USERNAME\", \"USERNAME\"))"
   ]
  },
  {
   "cell_type": "code",
   "execution_count": 39,
   "metadata": {},
   "outputs": [
    {
     "name": "stdout",
     "output_type": "stream",
     "text": [
      "PosixPath('.')\n"
     ]
    }
   ],
   "source": [
    "import pathlib\n",
    "path = pathlib.Path()\n",
    "print(repr(path))"
   ]
  },
  {
   "cell_type": "code",
   "execution_count": 40,
   "metadata": {},
   "outputs": [],
   "source": [
    "import pathlib\n",
    "path = pathlib.Path(\".\")\n",
    "new_path = path / \"folder\" / \"folder\" / \"example.py\""
   ]
  },
  {
   "cell_type": "code",
   "execution_count": 41,
   "metadata": {},
   "outputs": [],
   "source": [
    "import pathlib\n",
    "p = pathlib.Path(\"\")"
   ]
  },
  {
   "cell_type": "code",
   "execution_count": 42,
   "metadata": {},
   "outputs": [],
   "source": [
    "txt_files = p.glob(\"*.txt\")"
   ]
  },
  {
   "cell_type": "code",
   "execution_count": 43,
   "metadata": {},
   "outputs": [
    {
     "name": "stdout",
     "output_type": "stream",
     "text": [
      "*.txt [PosixPath('pg37431.txt'), PosixPath('log.txt'), PosixPath('textfile.txt')]\n"
     ]
    }
   ],
   "source": [
    "print(\"*.txt\", list(txt_files))"
   ]
  },
  {
   "cell_type": "code",
   "execution_count": 44,
   "metadata": {},
   "outputs": [
    {
     "name": "stdout",
     "output_type": "stream",
     "text": [
      "**/*.txt:  [PosixPath('pg37431.txt'), PosixPath('log.txt'), PosixPath('textfile.txt')]\n"
     ]
    }
   ],
   "source": [
    "# Print all text files in any folder within the path,\n",
    "# no matter the no of subdirectories\n",
    "print(\"**/*.txt: \", list(p.glob(\"**/*.txt\")))"
   ]
  },
  {
   "cell_type": "code",
   "execution_count": 45,
   "metadata": {},
   "outputs": [
    {
     "name": "stdout",
     "output_type": "stream",
     "text": [
      "*/*:  [PosixPath('.ipynb_checkpoints/5. Python Classes, objects and methods-checkpoint.ipynb'), PosixPath('.ipynb_checkpoints/6. Python Standard Library-checkpoint.ipynb'), PosixPath('.ipynb_checkpoints/1. Vital Python Math, Strings, Conditionals, and Loops!-checkpoint.ipynb'), PosixPath('.ipynb_checkpoints/Binary search and Bubble  sort-checkpoint.ipynb'), PosixPath('.ipynb_checkpoints/4. Visualizing the Titanic Dataset Using a Pie Chart and Bar Plots-checkpoint.ipynb'), PosixPath('.ipynb_checkpoints/4. Python files -checkpoint.ipynb'), PosixPath('.ipynb_checkpoints/2. Python Structures-checkpoint.ipynb'), PosixPath('.ipynb_checkpoints/3. Executing Python-checkpoint.ipynb'), PosixPath('.ipynb_checkpoints/4. Python Visualizations-checkpoint.ipynb')]\n"
     ]
    }
   ],
   "source": [
    "# List all files one level deep that are within the subdirectory.\n",
    "print(\"*/*: \", list(p.glob(\"*/*\")))"
   ]
  },
  {
   "cell_type": "code",
   "execution_count": 46,
   "metadata": {},
   "outputs": [
    {
     "name": "stdout",
     "output_type": "stream",
     "text": [
      "**/*:  [PosixPath('3. Executing Python.ipynb'), PosixPath('pg37431.txt'), PosixPath('1. Vital Python Math, Strings, Conditionals, and Loops!.ipynb'), PosixPath('today'), PosixPath('Binary search and Bubble  sort.ipynb'), PosixPath('5. Python Classes, objects and methods.ipynb'), PosixPath('log.txt'), PosixPath('6. Python Standard Library.ipynb'), PosixPath('titanic.csv'), PosixPath('2. Python Structures.ipynb'), PosixPath('.ipynb_checkpoints'), PosixPath('textfile.txt'), PosixPath('4. Python Visualizations.ipynb'), PosixPath('4. Python files .ipynb'), PosixPath('echo.py'), PosixPath('4. Visualizing the Titanic Dataset Using a Pie Chart and Bar Plots.ipynb'), PosixPath('.ipynb_checkpoints/5. Python Classes, objects and methods-checkpoint.ipynb'), PosixPath('.ipynb_checkpoints/6. Python Standard Library-checkpoint.ipynb'), PosixPath('.ipynb_checkpoints/1. Vital Python Math, Strings, Conditionals, and Loops!-checkpoint.ipynb'), PosixPath('.ipynb_checkpoints/Binary search and Bubble  sort-checkpoint.ipynb'), PosixPath('.ipynb_checkpoints/4. Visualizing the Titanic Dataset Using a Pie Chart and Bar Plots-checkpoint.ipynb'), PosixPath('.ipynb_checkpoints/4. Python files -checkpoint.ipynb'), PosixPath('.ipynb_checkpoints/2. Python Structures-checkpoint.ipynb'), PosixPath('.ipynb_checkpoints/3. Executing Python-checkpoint.ipynb'), PosixPath('.ipynb_checkpoints/4. Python Visualizations-checkpoint.ipynb')]\n"
     ]
    }
   ],
   "source": [
    "print(\"**/*: \", list(p.glob(\"**/*\")))"
   ]
  },
  {
   "cell_type": "code",
   "execution_count": 47,
   "metadata": {},
   "outputs": [
    {
     "name": "stdout",
     "output_type": "stream",
     "text": [
      "Files in */*: [PosixPath('.ipynb_checkpoints/5. Python Classes, objects and methods-checkpoint.ipynb'), PosixPath('.ipynb_checkpoints/6. Python Standard Library-checkpoint.ipynb'), PosixPath('.ipynb_checkpoints/1. Vital Python Math, Strings, Conditionals, and Loops!-checkpoint.ipynb'), PosixPath('.ipynb_checkpoints/Binary search and Bubble  sort-checkpoint.ipynb'), PosixPath('.ipynb_checkpoints/4. Visualizing the Titanic Dataset Using a Pie Chart and Bar Plots-checkpoint.ipynb'), PosixPath('.ipynb_checkpoints/4. Python files -checkpoint.ipynb'), PosixPath('.ipynb_checkpoints/2. Python Structures-checkpoint.ipynb'), PosixPath('.ipynb_checkpoints/3. Executing Python-checkpoint.ipynb'), PosixPath('.ipynb_checkpoints/4. Python Visualizations-checkpoint.ipynb')]\n"
     ]
    }
   ],
   "source": [
    "print(\"Files in */*:\", [f for f in p.glob(\"*/*\") if f.is_file()])"
   ]
  },
  {
   "cell_type": "markdown",
   "metadata": {},
   "source": [
    "## Listing All Hidden Files in Your Home Directory"
   ]
  },
  {
   "cell_type": "code",
   "execution_count": 48,
   "metadata": {},
   "outputs": [
    {
     "name": "stdout",
     "output_type": "stream",
     "text": [
      "[PosixPath('/Users/chinonsoani/.config'), PosixPath('/Users/chinonsoani/.DS_Store'), PosixPath('/Users/chinonsoani/.CFUserTextEncoding'), PosixPath('/Users/chinonsoani/.stCommitMsg'), PosixPath('/Users/chinonsoani/.hgignore_global'), PosixPath('/Users/chinonsoani/.zsh_history'), PosixPath('/Users/chinonsoani/.ipython'), PosixPath('/Users/chinonsoani/.matplotlib'), PosixPath('/Users/chinonsoani/.emulator_console_auth_token'), PosixPath('/Users/chinonsoani/.android'), PosixPath('/Users/chinonsoani/.pgAdmin4.startup.log'), PosixPath('/Users/chinonsoani/.pgadmin'), PosixPath('/Users/chinonsoani/.cocoapods'), PosixPath('/Users/chinonsoani/.gitignore_global'), PosixPath('/Users/chinonsoani/.bash_sessions'), PosixPath('/Users/chinonsoani/.ssh'), PosixPath('/Users/chinonsoani/.gradle'), PosixPath('/Users/chinonsoani/.Trash'), PosixPath('/Users/chinonsoani/.react-native-cli'), PosixPath('/Users/chinonsoani/.gitflow_export'), PosixPath('/Users/chinonsoani/.jupyter'), PosixPath('/Users/chinonsoani/.npm'), PosixPath('/Users/chinonsoani/.azuredatastudio'), PosixPath('/Users/chinonsoani/.vscode'), PosixPath('/Users/chinonsoani/.bash_profile'), PosixPath('/Users/chinonsoani/.python_history'), PosixPath('/Users/chinonsoani/.gitconfig'), PosixPath('/Users/chinonsoani/.bash_history'), PosixPath('/Users/chinonsoani/.viminfo')]\n"
     ]
    }
   ],
   "source": [
    "import pathlib\n",
    "p = pathlib.Path.home()\n",
    "print(list(p.glob(\".*\")))"
   ]
  },
  {
   "cell_type": "code",
   "execution_count": 49,
   "metadata": {},
   "outputs": [
    {
     "data": {
      "text/plain": [
       "CompletedProcess(args=['ls'], returncode=0)"
      ]
     },
     "execution_count": 49,
     "metadata": {},
     "output_type": "execute_result"
    }
   ],
   "source": [
    "import subprocess\n",
    "subprocess.run([\"ls\"])"
   ]
  },
  {
   "cell_type": "code",
   "execution_count": 50,
   "metadata": {},
   "outputs": [
    {
     "name": "stdout",
     "output_type": "stream",
     "text": [
      "stdout:  b'1. Vital Python Math, Strings, Conditionals, and Loops!.ipynb\\n2. Python Structures.ipynb\\n3. Executing Python.ipynb\\n4. Python Visualizations.ipynb\\n4. Python files .ipynb\\n4. Visualizing the Titanic Dataset Using a Pie Chart and Bar Plots.ipynb\\n5. Python Classes, objects and methods.ipynb\\n6. Python Standard Library.ipynb\\nBinary search and Bubble  sort.ipynb\\necho.py\\nlog.txt\\npg37431.txt\\ntextfile.txt\\ntitanic.csv\\ntoday\\n'\n",
      "stderr:  b''\n"
     ]
    }
   ],
   "source": [
    "result = subprocess .run([\"ls\"], capture_output=True)\n",
    "print(\"stdout: \", result.stdout)\n",
    "print(\"stderr: \", result.stderr)"
   ]
  },
  {
   "cell_type": "code",
   "execution_count": 51,
   "metadata": {},
   "outputs": [
    {
     "name": "stdout",
     "output_type": "stream",
     "text": [
      "stdout: \n",
      " 1. Vital Python Math, Strings, Conditionals, and Loops!.ipynb\n",
      "2. Python Structures.ipynb\n",
      "3. Executing Python.ipynb\n",
      "4. Python Visualizations.ipynb\n",
      "4. Python files .ipynb\n",
      "4. Visualizing the Titanic Dataset Using a Pie Chart and Bar Plots.ipynb\n",
      "5. Python Classes, objects and methods.ipynb\n",
      "6. Python Standard Library.ipynb\n",
      "Binary search and Bubble  sort.ipynb\n",
      "echo.py\n",
      "log.txt\n",
      "pg37431.txt\n",
      "textfile.txt\n",
      "titanic.csv\n",
      "today\n",
      "\n"
     ]
    }
   ],
   "source": [
    "result = subprocess .run(\n",
    "        [\"ls\"],\n",
    "        capture_output=True, text=True\n",
    "    )\n",
    "print(\"stdout: \\n\", result.stdout)"
   ]
  },
  {
   "cell_type": "code",
   "execution_count": 52,
   "metadata": {
    "scrolled": true
   },
   "outputs": [
    {
     "name": "stdout",
     "output_type": "stream",
     "text": [
      "stdout: \n",
      " total 3336\n",
      "-rw-r--r--  1 chinonsoani  staff    6897 Apr  2 00:52 1. Vital Python Math, Strings, Conditionals, and Loops!.ipynb\n",
      "-rw-r--r--  1 chinonsoani  staff   18544 Apr 12 18:23 2. Python Structures.ipynb\n",
      "-rw-r--r--  1 chinonsoani  staff   18653 Apr 20 11:03 3. Executing Python.ipynb\n",
      "-rw-r--r--  1 chinonsoani  staff  652670 Apr 24 13:05 4. Python Visualizations.ipynb\n",
      "-rw-r--r--  1 chinonsoani  staff  456159 Apr 21 12:17 4. Python files .ipynb\n",
      "-rw-r--r--  1 chinonsoani  staff   47918 Apr 24 14:59 4. Visualizing the Titanic Dataset Using a Pie Chart and Bar Plots.ipynb\n",
      "-rw-r--r--  1 chinonsoani  staff   25086 Apr 29 12:04 5. Python Classes, objects and methods.ipynb\n",
      "-rw-r--r--  1 chinonsoani  staff   24273 May  3 18:51 6. Python Standard Library.ipynb\n",
      "-rw-r--r--  1 chinonsoani  staff    2830 Apr 19 14:30 Binary search and Bubble  sort.ipynb\n",
      "-rw-r--r--  1 chinonsoani  staff     569 May  1 11:30 echo.py\n",
      "-rw-r--r--  1 chinonsoani  staff     220 Apr 21 12:02 log.txt\n",
      "-rw-r--r--@ 1 chinonsoani  staff  180941 Apr 20 10:53 pg37431.txt\n",
      "-rw-r--r--@ 1 chinonsoani  staff  180941 Apr 20 10:53 textfile.txt\n",
      "-rw-r--r--  1 chinonsoani  staff   60303 Apr 22 12:28 titanic.csv\n",
      "drwxr-xr-x  2 chinonsoani  staff      64 Apr 30 11:13 today\n",
      "\n"
     ]
    }
   ],
   "source": [
    "result = subprocess.run(\n",
    "        [\"ls\", \"-l\"],\n",
    "        capture_output=True, text=True\n",
    "    )\n",
    "print(\"stdout: \\n\", result.stdout)"
   ]
  },
  {
   "cell_type": "code",
   "execution_count": 53,
   "metadata": {},
   "outputs": [
    {
     "name": "stdout",
     "output_type": "stream",
     "text": [
      "rc:  1\n"
     ]
    }
   ],
   "source": [
    "result = subprocess.run([\"ls\", \"non_existing_file\"])\n",
    "print(\"rc: \", result.returncode)"
   ]
  },
  {
   "cell_type": "code",
   "execution_count": 54,
   "metadata": {},
   "outputs": [
    {
     "ename": "CalledProcessError",
     "evalue": "Command '['ls', 'non_existing_file']' returned non-zero exit status 1.",
     "output_type": "error",
     "traceback": [
      "\u001b[0;31m---------------------------------------------------------------------------\u001b[0m",
      "\u001b[0;31mCalledProcessError\u001b[0m                        Traceback (most recent call last)",
      "\u001b[0;32m<ipython-input-54-0d9a124737b7>\u001b[0m in \u001b[0;36m<module>\u001b[0;34m\u001b[0m\n\u001b[1;32m      1\u001b[0m result = subprocess.run(\n\u001b[1;32m      2\u001b[0m     \u001b[0;34m[\u001b[0m\u001b[0;34m\"ls\"\u001b[0m\u001b[0;34m,\u001b[0m \u001b[0;34m\"non_existing_file\"\u001b[0m\u001b[0;34m]\u001b[0m\u001b[0;34m,\u001b[0m\u001b[0;34m\u001b[0m\u001b[0;34m\u001b[0m\u001b[0m\n\u001b[0;32m----> 3\u001b[0;31m     \u001b[0mcheck\u001b[0m\u001b[0;34m=\u001b[0m\u001b[0;32mTrue\u001b[0m\u001b[0;34m\u001b[0m\u001b[0;34m\u001b[0m\u001b[0m\n\u001b[0m\u001b[1;32m      4\u001b[0m )\n\u001b[1;32m      5\u001b[0m \u001b[0mprint\u001b[0m\u001b[0;34m(\u001b[0m\u001b[0;34m\"rc: \"\u001b[0m\u001b[0;34m,\u001b[0m \u001b[0mresult\u001b[0m\u001b[0;34m.\u001b[0m\u001b[0mreturncode\u001b[0m\u001b[0;34m)\u001b[0m\u001b[0;34m\u001b[0m\u001b[0;34m\u001b[0m\u001b[0m\n",
      "\u001b[0;32m/usr/local/Cellar/python/3.7.7/Frameworks/Python.framework/Versions/3.7/lib/python3.7/subprocess.py\u001b[0m in \u001b[0;36mrun\u001b[0;34m(input, capture_output, timeout, check, *popenargs, **kwargs)\u001b[0m\n\u001b[1;32m    510\u001b[0m         \u001b[0;32mif\u001b[0m \u001b[0mcheck\u001b[0m \u001b[0;32mand\u001b[0m \u001b[0mretcode\u001b[0m\u001b[0;34m:\u001b[0m\u001b[0;34m\u001b[0m\u001b[0;34m\u001b[0m\u001b[0m\n\u001b[1;32m    511\u001b[0m             raise CalledProcessError(retcode, process.args,\n\u001b[0;32m--> 512\u001b[0;31m                                      output=stdout, stderr=stderr)\n\u001b[0m\u001b[1;32m    513\u001b[0m     \u001b[0;32mreturn\u001b[0m \u001b[0mCompletedProcess\u001b[0m\u001b[0;34m(\u001b[0m\u001b[0mprocess\u001b[0m\u001b[0;34m.\u001b[0m\u001b[0margs\u001b[0m\u001b[0;34m,\u001b[0m \u001b[0mretcode\u001b[0m\u001b[0;34m,\u001b[0m \u001b[0mstdout\u001b[0m\u001b[0;34m,\u001b[0m \u001b[0mstderr\u001b[0m\u001b[0;34m)\u001b[0m\u001b[0;34m\u001b[0m\u001b[0;34m\u001b[0m\u001b[0m\n\u001b[1;32m    514\u001b[0m \u001b[0;34m\u001b[0m\u001b[0m\n",
      "\u001b[0;31mCalledProcessError\u001b[0m: Command '['ls', 'non_existing_file']' returned non-zero exit status 1."
     ]
    }
   ],
   "source": [
    "result = subprocess.run(\n",
    "    [\"ls\", \"non_existing_file\"],\n",
    "    check=True\n",
    ")\n",
    "print(\"rc: \", result.returncode)"
   ]
  },
  {
   "cell_type": "code",
   "execution_count": 55,
   "metadata": {},
   "outputs": [],
   "source": [
    "import subprocess"
   ]
  },
  {
   "cell_type": "code",
   "execution_count": 56,
   "metadata": {
    "scrolled": true
   },
   "outputs": [
    {
     "name": "stdout",
     "output_type": "stream",
     "text": [
      "TERM_PROGRAM=Apple_Terminal\n",
      "TERM=xterm-color\n",
      "SHELL=/bin/bash\n",
      "TMPDIR=/var/folders/10/n_37kdn16yl644lrn9_8qjwc0000gn/T/\n",
      "TERM_PROGRAM_VERSION=433\n",
      "OLDPWD=/Users/chinonsoani/codebase\n",
      "TERM_SESSION_ID=1837EE6C-9616-4439-BCD8-F75C3A55C29E\n",
      "USER=chinonsoani\n",
      "SSH_AUTH_SOCK=/private/tmp/com.apple.launchd.42rUjVTJ7e/Listeners\n",
      "PATH=/usr/local/bin:/usr/bin:/bin:/usr/sbin:/sbin\n",
      "PWD=/Users/chinonsoani/codebase/jupyter/python-workshop\n",
      "DBUS_LAUNCHD_SESSION_BUS_SOCKET=/tmp/dbus-AF6nbAzluE\n",
      "EDITOR=nano\n",
      "XPC_FLAGS=0x0\n",
      "XPC_SERVICE_NAME=0\n",
      "HOME=/Users/chinonsoani\n",
      "SHLVL=1\n",
      "LOGNAME=chinonsoani\n",
      "VISUAL=nano\n",
      "LC_CTYPE=UTF-8\n",
      "_=/usr/local/bin/jupyter\n",
      "__CF_USER_TEXT_ENCODING=0x1F5:0x0:0x0\n",
      "__PYVENV_LAUNCHER__=/usr/local/Cellar/python/3.7.7/bin/python3.7\n",
      "KERNEL_LAUNCH_TIMEOUT=40\n",
      "JPY_PARENT_PID=4428\n",
      "CLICOLOR=1\n",
      "PAGER=cat\n",
      "GIT_PAGER=cat\n",
      "MPLBACKEND=module://ipykernel.pylab.backend_inline\n",
      "\n"
     ]
    }
   ],
   "source": [
    "result = subprocess.run([\"env\"], capture_output=True, text=True)\n",
    "print(result.stdout)"
   ]
  },
  {
   "cell_type": "code",
   "execution_count": 57,
   "metadata": {},
   "outputs": [
    {
     "name": "stdout",
     "output_type": "stream",
     "text": [
      "SERVER=OTHER_Server\n",
      "\n"
     ]
    }
   ],
   "source": [
    "result = subprocess.run([\"env\"], capture_output=True, text=True,\n",
    "                       env={\"SERVER\":\"OTHER_Server\"})\n",
    "print(result.stdout)"
   ]
  },
  {
   "cell_type": "code",
   "execution_count": 58,
   "metadata": {},
   "outputs": [
    {
     "name": "stdout",
     "output_type": "stream",
     "text": [
      "TERM_PROGRAM=Apple_Terminal\n",
      "TERM=xterm-color\n",
      "SHELL=/bin/bash\n",
      "TMPDIR=/var/folders/10/n_37kdn16yl644lrn9_8qjwc0000gn/T/\n",
      "TERM_PROGRAM_VERSION=433\n",
      "OLDPWD=/Users/chinonsoani/codebase\n",
      "TERM_SESSION_ID=1837EE6C-9616-4439-BCD8-F75C3A55C29E\n",
      "USER=chinonsoani\n",
      "SSH_AUTH_SOCK=/private/tmp/com.apple.launchd.42rUjVTJ7e/Listeners\n",
      "PATH=/usr/local/bin:/usr/bin:/bin:/usr/sbin:/sbin\n",
      "PWD=/Users/chinonsoani/codebase/jupyter/python-workshop\n",
      "DBUS_LAUNCHD_SESSION_BUS_SOCKET=/tmp/dbus-AF6nbAzluE\n",
      "EDITOR=nano\n",
      "XPC_FLAGS=0x0\n",
      "XPC_SERVICE_NAME=0\n",
      "HOME=/Users/chinonsoani\n",
      "SHLVL=1\n",
      "LOGNAME=chinonsoani\n",
      "VISUAL=nano\n",
      "LC_CTYPE=UTF-8\n",
      "_=/usr/local/bin/jupyter\n",
      "__CF_USER_TEXT_ENCODING=0x1F5:0x0:0x0\n",
      "__PYVENV_LAUNCHER__=/usr/local/Cellar/python/3.7.7/bin/python3.7\n",
      "KERNEL_LAUNCH_TIMEOUT=40\n",
      "JPY_PARENT_PID=4428\n",
      "CLICOLOR=1\n",
      "PAGER=cat\n",
      "GIT_PAGER=cat\n",
      "MPLBACKEND=module://ipykernel.pylab.backend_inline\n",
      "SERVER=OTHER_Server\n",
      "\n"
     ]
    }
   ],
   "source": [
    "result = subprocess.run([\"env\"], capture_output=True, text=True,\n",
    "                       env={**os.environ, \"SERVER\":\"OTHER_Server\"})\n",
    "print(result.stdout)"
   ]
  },
  {
   "cell_type": "markdown",
   "metadata": {},
   "source": [
    "# Activity 16: Testing Python Code"
   ]
  },
  {
   "cell_type": "code",
   "execution_count": 59,
   "metadata": {},
   "outputs": [],
   "source": [
    "import sys\n",
    "import subprocess"
   ]
  },
  {
   "cell_type": "code",
   "execution_count": 60,
   "metadata": {},
   "outputs": [
    {
     "name": "stdout",
     "output_type": "stream",
     "text": [
      "-11\n"
     ]
    }
   ],
   "source": [
    "code = 'compile(\"1\" + \"+1\" * 10 ** 6, \"string\", \"exec\")'\n",
    "result = subprocess.run([sys.executable, \"-c\", code])\n",
    "print(result.returncode)"
   ]
  },
  {
   "cell_type": "markdown",
   "metadata": {},
   "source": [
    "# Using a logger Object"
   ]
  },
  {
   "cell_type": "code",
   "execution_count": 61,
   "metadata": {},
   "outputs": [],
   "source": [
    "import logging"
   ]
  },
  {
   "cell_type": "code",
   "execution_count": 62,
   "metadata": {},
   "outputs": [],
   "source": [
    "logger = logging.getLogger(\"logger_name\")"
   ]
  },
  {
   "cell_type": "code",
   "execution_count": 63,
   "metadata": {},
   "outputs": [
    {
     "name": "stderr",
     "output_type": "stream",
     "text": [
      "Logging at warning\n",
      "Logging at error\n",
      "Logging at fatal\n"
     ]
    }
   ],
   "source": [
    "logger.debug(\"Logging at debug\")\n",
    "logger.info(\"Logging at info\")\n",
    "logger.warning(\"Logging at warning\")\n",
    "logger.error(\"Logging at error\")\n",
    "logger.fatal(\"Logging at fatal\")"
   ]
  },
  {
   "cell_type": "markdown",
   "metadata": {},
   "source": [
    "When we are handling exceptions, it is quite common to log them and the information they come with. If we want to include the exception and trace back the full information, we can use the exc_info argument in any of the methods that we saw before:"
   ]
  },
  {
   "cell_type": "code",
   "execution_count": 64,
   "metadata": {},
   "outputs": [
    {
     "name": "stderr",
     "output_type": "stream",
     "text": [
      "ERROR:root:Something bad happened\n",
      "Traceback (most recent call last):\n",
      "  File \"<ipython-input-64-adcdec9cc60b>\", line 2, in <module>\n",
      "    int(\"nope\")\n",
      "ValueError: invalid literal for int() with base 10: 'nope'\n"
     ]
    }
   ],
   "source": [
    "try:\n",
    "    int(\"nope\")\n",
    "except Exception:\n",
    "    logging.error(\"Something bad happened\", exc_info=True)"
   ]
  },
  {
   "cell_type": "code",
   "execution_count": 65,
   "metadata": {},
   "outputs": [
    {
     "name": "stderr",
     "output_type": "stream",
     "text": [
      "ERROR:root:Something bad happened\n",
      "Traceback (most recent call last):\n",
      "  File \"<ipython-input-65-39a74a45c693>\", line 2, in <module>\n",
      "    int(\"nope\")\n",
      "ValueError: invalid literal for int() with base 10: 'nope'\n"
     ]
    }
   ],
   "source": [
    "try:\n",
    "    int(\"nope\")\n",
    "except Exception:\n",
    "    logging.exception(\"Something bad happened\")"
   ]
  },
  {
   "cell_type": "code",
   "execution_count": 66,
   "metadata": {},
   "outputs": [
    {
     "name": "stderr",
     "output_type": "stream",
     "text": [
      "ERROR:root:Something bad happened\n",
      "Traceback (most recent call last):\n",
      "  File \"<ipython-input-66-e62e227aee29>\", line 4, in <module>\n",
      "    d[\"missing_key\"] += 1\n",
      "KeyError: 'missing_key'\n"
     ]
    }
   ],
   "source": [
    "d = dict()\n",
    "# Prefer\n",
    "try:\n",
    "    d[\"missing_key\"] += 1\n",
    "except Exception:\n",
    "    logging.error(\"Something bad happened\", exc_info=True)"
   ]
  },
  {
   "cell_type": "code",
   "execution_count": 67,
   "metadata": {},
   "outputs": [
    {
     "name": "stderr",
     "output_type": "stream",
     "text": [
      "ERROR:root:Something bad happened: 'missing_key'\n"
     ]
    }
   ],
   "source": [
    "# to\n",
    "try:\n",
    "    d[\"missing_key\"] += 1\n",
    "except Exception as e:\n",
    "    logging.error(\"Something bad happened: %s\", e)"
   ]
  },
  {
   "cell_type": "markdown",
   "metadata": {},
   "source": [
    "## Exercise 94: Configuring the Logging Stock"
   ]
  },
  {
   "cell_type": "code",
   "execution_count": 68,
   "metadata": {},
   "outputs": [
    {
     "name": "stderr",
     "output_type": "stream",
     "text": [
      "INFO:root:Hello logging world\n"
     ]
    },
    {
     "name": "stdout",
     "output_type": "stream",
     "text": [
      "INFO: Hello logging world\n"
     ]
    }
   ],
   "source": [
    "import logging\n",
    "import sys\n",
    "root_logger = logging.getLogger()\n",
    "handler = logging.StreamHandler(sys.stdout)\n",
    "formatter = logging.Formatter(\"%(levelname)s: %(message)s\")\n",
    "handler.setFormatter(formatter)\n",
    "root_logger.addHandler(handler)\n",
    "root_logger.setLevel(\"INFO\")\n",
    "logging.info(\"Hello logging world\")"
   ]
  },
  {
   "cell_type": "code",
   "execution_count": 69,
   "metadata": {},
   "outputs": [
    {
     "name": "stdout",
     "output_type": "stream",
     "text": [
      "INFO: Hello logging world\n"
     ]
    }
   ],
   "source": [
    "import logging\n",
    "from logging.config import dictConfig\n",
    "dictConfig({\n",
    "    \"version\": 1,\n",
    "    \"formatters\": {\n",
    "        \"short\":{\n",
    "            \"format\": \"%(levelname)s: %(message)s\",\n",
    "        }\n",
    "    },\n",
    "    \"handlers\": {\n",
    "        \"console\": {\n",
    "            \"class\": \"logging.StreamHandler\",\n",
    "            \"formatter\": \"short\",\n",
    "            \"stream\": \"ext://sys.stdout\",\n",
    "            \"level\": \"DEBUG\",\n",
    "        }\n",
    "    },\n",
    "    \"loggers\": {\n",
    "        \"\": {\n",
    "            \"handlers\": [\"console\"],\n",
    "            \"level\": \"INFO\"\n",
    "        }   \n",
    "    }\n",
    "})\n",
    "logging.info(\"Hello logging world\")"
   ]
  },
  {
   "cell_type": "code",
   "execution_count": 70,
   "metadata": {},
   "outputs": [
    {
     "name": "stdout",
     "output_type": "stream",
     "text": [
      "INFO: Hello there!\n"
     ]
    }
   ],
   "source": [
    "import sys\n",
    "import logging\n",
    "logging.basicConfig(\n",
    "    level=\"INFO\",\n",
    "    format=\"%(levelname)s: %(message)s\",\n",
    "    stream=sys.stdout\n",
    ")\n",
    "logging.info(\"Hello there!\")"
   ]
  },
  {
   "cell_type": "code",
   "execution_count": null,
   "metadata": {},
   "outputs": [],
   "source": []
  }
 ],
 "metadata": {
  "kernelspec": {
   "display_name": "Python 3",
   "language": "python",
   "name": "python3"
  },
  "language_info": {
   "codemirror_mode": {
    "name": "ipython",
    "version": 3
   },
   "file_extension": ".py",
   "mimetype": "text/x-python",
   "name": "python",
   "nbconvert_exporter": "python",
   "pygments_lexer": "ipython3",
   "version": "3.7.7"
  }
 },
 "nbformat": 4,
 "nbformat_minor": 4
}
