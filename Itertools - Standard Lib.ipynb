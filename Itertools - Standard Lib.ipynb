{
 "cells": [
  {
   "cell_type": "markdown",
   "metadata": {},
   "source": [
    "# Reviewing the Python Itertools Standard Lib\n",
    "Because we perform a lot of iteration in coding"
   ]
  },
  {
   "cell_type": "code",
   "execution_count": 15,
   "metadata": {},
   "outputs": [],
   "source": [
    "import operator\n",
    "from itertools import *"
   ]
  },
  {
   "cell_type": "markdown",
   "metadata": {},
   "source": [
    "## Accumulate\n",
    "Make an iterator that returns accumulated sums, or accumulated results of other binary functions (specified via the optional func argument).\n",
    "If func is supplied, it should be a function of two arguments\n",
    "There are a number of uses for the func argument. It can be set to min() for a running minimum, max() for a running maximum, or operator.mul() for a running product. \n",
    "Amortization tables can be built by accumulating interest and applying payment"
   ]
  },
  {
   "cell_type": "code",
   "execution_count": 2,
   "metadata": {},
   "outputs": [
    {
     "name": "stdout",
     "output_type": "stream",
     "text": [
      "Summation [1, 3, 6, 10, 15, 21, 28]\n",
      "Custom function [1, -1, -4, -8, -13, -19, -26]\n",
      "Running min [1, 1, 1, 1, 1, 1, 1]\n",
      "Running max [1, 2, 3, 4, 5, 6, 7]\n",
      "Running product [1, 2, 6, 24, 120, 720, 5040]\n",
      "[1000, 960.0, 918.0, 873.9000000000001, 827.5950000000001]\n"
     ]
    }
   ],
   "source": [
    "def func(a,b):\n",
    "    return a-b\n",
    "\n",
    "print('Summation',list(accumulate([1,2,3,4,5,6,7])))\n",
    "print('Custom function',list(accumulate([1,2,3,4,5,6,7], func)))\n",
    "print('Running min',list(accumulate([1,2,3,4,5,6,7], min)))\n",
    "print('Running max',list(accumulate([1,2,3,4,5,6,7], max)))\n",
    "print('Running product',list(accumulate([1,2,3,4,5,6,7], operator.mul)))\n",
    "\n",
    "# Amortize a 5% loan of 1000 with 4 annual payments of 90\n",
    "cashflows = [1000, -90, -90, -90, -90]\n",
    "print(list(accumulate(cashflows, lambda bal, pmt: bal*1.05 + pmt)))"
   ]
  },
  {
   "cell_type": "markdown",
   "metadata": {},
   "source": [
    "## Chain\n",
    "Make an iterator that returns elements from the first iterable until it is exhausted, then proceeds to the next iterable, until all of the iterables are exhausted. Used for treating consecutive sequences as a single sequence."
   ]
  },
  {
   "cell_type": "code",
   "execution_count": 16,
   "metadata": {},
   "outputs": [
    {
     "data": {
      "text/plain": [
       "<itertools.chain at 0x7f8806113210>"
      ]
     },
     "execution_count": 16,
     "metadata": {},
     "output_type": "execute_result"
    }
   ],
   "source": [
    "a = [1,2,3,4,5]\n",
    "b = ['a','b', 'c','d']\n",
    "chain(a,b)"
   ]
  },
  {
   "cell_type": "code",
   "execution_count": 17,
   "metadata": {},
   "outputs": [
    {
     "data": {
      "text/plain": [
       "[1, 2, 3, 4, 5, 'a', 'b', 'c', 'd']"
      ]
     },
     "execution_count": 17,
     "metadata": {},
     "output_type": "execute_result"
    }
   ],
   "source": [
    "list(chain(a,b))"
   ]
  },
  {
   "cell_type": "markdown",
   "metadata": {},
   "source": [
    "## Combinations\n",
    "Return r length subsequences of elements from the input iterable\n",
    "\n",
    "The combination tuples are emitted in lexicographic ordering according to the order of the input iterable.\n",
    "So, if the input iterable is sorted, the combination tuples will be produced in sorted order\n",
    "\n",
    "Elements are treated as unique based on their position, not their value. So if the input elements are unique, there will be no repeat values in each combination"
   ]
  },
  {
   "cell_type": "code",
   "execution_count": 5,
   "metadata": {},
   "outputs": [
    {
     "data": {
      "text/plain": [
       "[(1, 2),\n",
       " (1, 3),\n",
       " (1, 4),\n",
       " (1, 5),\n",
       " (2, 3),\n",
       " (2, 4),\n",
       " (2, 5),\n",
       " (3, 4),\n",
       " (3, 5),\n",
       " (4, 5)]"
      ]
     },
     "execution_count": 5,
     "metadata": {},
     "output_type": "execute_result"
    }
   ],
   "source": [
    "list(combinations(a,2))"
   ]
  },
  {
   "cell_type": "code",
   "execution_count": 6,
   "metadata": {},
   "outputs": [
    {
     "data": {
      "text/plain": [
       "[('a', 'b', 'c'), ('a', 'b', 'd'), ('a', 'c', 'd'), ('b', 'c', 'd')]"
      ]
     },
     "execution_count": 6,
     "metadata": {},
     "output_type": "execute_result"
    }
   ],
   "source": [
    "list(combinations(b,3))"
   ]
  },
  {
   "cell_type": "markdown",
   "metadata": {},
   "source": [
    "## combinations_with_replacement\n",
    "Return r length subsequences of elements from the input iterable, allowing individual elements to be repeated more than once"
   ]
  },
  {
   "cell_type": "code",
   "execution_count": 7,
   "metadata": {},
   "outputs": [
    {
     "data": {
      "text/plain": [
       "[('a', 'a', 'a'),\n",
       " ('a', 'a', 'b'),\n",
       " ('a', 'a', 'c'),\n",
       " ('a', 'a', 'd'),\n",
       " ('a', 'b', 'b'),\n",
       " ('a', 'b', 'c'),\n",
       " ('a', 'b', 'd'),\n",
       " ('a', 'c', 'c'),\n",
       " ('a', 'c', 'd'),\n",
       " ('a', 'd', 'd'),\n",
       " ('b', 'b', 'b'),\n",
       " ('b', 'b', 'c'),\n",
       " ('b', 'b', 'd'),\n",
       " ('b', 'c', 'c'),\n",
       " ('b', 'c', 'd'),\n",
       " ('b', 'd', 'd'),\n",
       " ('c', 'c', 'c'),\n",
       " ('c', 'c', 'd'),\n",
       " ('c', 'd', 'd'),\n",
       " ('d', 'd', 'd')]"
      ]
     },
     "execution_count": 7,
     "metadata": {},
     "output_type": "execute_result"
    }
   ],
   "source": [
    "list(combinations_with_replacement(b,3))"
   ]
  },
  {
   "cell_type": "markdown",
   "metadata": {},
   "source": [
    "## compress\n",
    "Make an iterator that filters elements from data returning only those that have a corresponding element in selectors that evaluates to True.\n",
    "Stops when either the data or selectors iterables has been exhausted"
   ]
  },
  {
   "cell_type": "code",
   "execution_count": 8,
   "metadata": {},
   "outputs": [
    {
     "data": {
      "text/plain": [
       "['a', 'c', 'e', 'g']"
      ]
     },
     "execution_count": 8,
     "metadata": {},
     "output_type": "execute_result"
    }
   ],
   "source": [
    "data = 'abcdefgh'\n",
    "sel = [1,0,1,0,1,0,1,0,]\n",
    "list(compress(data, sel))"
   ]
  },
  {
   "cell_type": "markdown",
   "metadata": {},
   "source": [
    "# Infinite iterables\n",
    "count, cycle\n",
    "\n",
    "count(start=0, step=1)\n",
    "\n",
    "    Make an iterator that returns evenly spaced values starting with number start. Often used as an argument to map() to generate consecutive data points. Also, used with zip() to add sequence numbers.\n",
    "    \n",
    "    cycle(iterable)\n",
    "\n",
    "    Make an iterator returning elements from the iterable and saving a copy of each."
   ]
  },
  {
   "cell_type": "code",
   "execution_count": 9,
   "metadata": {},
   "outputs": [
    {
     "data": {
      "text/plain": [
       "[(2.5, 'a'),\n",
       " (3.0, 'b'),\n",
       " (3.5, 'c'),\n",
       " (4.0, 'd'),\n",
       " (4.5, 'e'),\n",
       " (5.0, 'f'),\n",
       " (5.5, 'g'),\n",
       " (6.0, 'h')]"
      ]
     },
     "execution_count": 9,
     "metadata": {},
     "output_type": "execute_result"
    }
   ],
   "source": [
    "list(zip(count(2.5,0.5), data))"
   ]
  },
  {
   "cell_type": "code",
   "execution_count": 10,
   "metadata": {},
   "outputs": [
    {
     "data": {
      "text/plain": [
       "[5, 6, 6]"
      ]
     },
     "execution_count": 10,
     "metadata": {},
     "output_type": "execute_result"
    }
   ],
   "source": [
    "fruits = ('apple', 'banana', 'cherry')\n",
    "list(map(len, fruits))"
   ]
  },
  {
   "cell_type": "code",
   "execution_count": 11,
   "metadata": {},
   "outputs": [
    {
     "data": {
      "text/plain": [
       "[['a', 'p', 'e', 'p'], ['b', 'n', 'n', 'b'], ['c', 'e', 'r', 'c']]"
      ]
     },
     "execution_count": 11,
     "metadata": {},
     "output_type": "execute_result"
    }
   ],
   "source": [
    "list(map(lambda x,y: list(compress(chain(x,y), sel)), fruits, fruits))"
   ]
  },
  {
   "cell_type": "code",
   "execution_count": 14,
   "metadata": {},
   "outputs": [
    {
     "data": {
      "text/plain": [
       "'apple, banana, cherry'"
      ]
     },
     "execution_count": 14,
     "metadata": {},
     "output_type": "execute_result"
    }
   ],
   "source": [
    "fruits = ('apple', 'banana', 'cherry')\n",
    "pos = [0,1,2]\n",
    "', '.join(list(map(lambda x: fruits[x], pos)))"
   ]
  },
  {
   "cell_type": "markdown",
   "metadata": {},
   "source": [
    "# dropwhile\n",
    "Make an iterator that drops elements from the iterable as long as the predicate is true; afterwards, returns every element. Note, the iterator does not produce any output until the predicate first becomes false, so it may have a lengthy start-up time."
   ]
  },
  {
   "cell_type": "code",
   "execution_count": 19,
   "metadata": {},
   "outputs": [
    {
     "data": {
      "text/plain": [
       "[6, 4, 1]"
      ]
     },
     "execution_count": 19,
     "metadata": {},
     "output_type": "execute_result"
    }
   ],
   "source": [
    "list(dropwhile(lambda x: x<5, [1,4,6,4,1]))"
   ]
  },
  {
   "cell_type": "markdown",
   "metadata": {},
   "source": [
    "# filterfalse\n",
    "Make an iterator that filters elements from iterable returning only those for which the predicate is `False`. If predicate is `None`, return the items that are false"
   ]
  },
  {
   "cell_type": "code",
   "execution_count": 20,
   "metadata": {},
   "outputs": [
    {
     "data": {
      "text/plain": [
       "[0, 2, 4, 6, 8]"
      ]
     },
     "execution_count": 20,
     "metadata": {},
     "output_type": "execute_result"
    }
   ],
   "source": [
    "list(filterfalse(lambda x: x%2, range(10)))"
   ]
  },
  {
   "cell_type": "markdown",
   "metadata": {},
   "source": [
    "# groupby\n",
    "Make an iterator that returns consecutive keys and groups from the iterable. The key is a function computing a key value for each element. If not specified or is None, key defaults to an identity function and returns the element unchanged. Generally, the iterable needs to already be sorted on the same key function"
   ]
  },
  {
   "cell_type": "code",
   "execution_count": 21,
   "metadata": {},
   "outputs": [
    {
     "data": {
      "text/plain": [
       "['A', 'B', 'C', 'D', 'A', 'B']"
      ]
     },
     "execution_count": 21,
     "metadata": {},
     "output_type": "execute_result"
    }
   ],
   "source": [
    "[k for k, g in groupby('AAAABBBCCDAABBB')]"
   ]
  },
  {
   "cell_type": "code",
   "execution_count": 23,
   "metadata": {},
   "outputs": [
    {
     "data": {
      "text/plain": [
       "[['A', 'A', 'A', 'A'],\n",
       " ['B', 'B', 'B'],\n",
       " ['C', 'C'],\n",
       " ['D'],\n",
       " ['A', 'A'],\n",
       " ['B', 'B', 'B']]"
      ]
     },
     "execution_count": 23,
     "metadata": {},
     "output_type": "execute_result"
    }
   ],
   "source": [
    "[list(g) for k, g in groupby('AAAABBBCCDAABBB')]"
   ]
  },
  {
   "cell_type": "code",
   "execution_count": 25,
   "metadata": {},
   "outputs": [
    {
     "data": {
      "text/plain": [
       "{'A': ['A', 'A', 'A', 'A', 'A', 'A'],\n",
       " 'B': ['B', 'B', 'B', 'B'],\n",
       " 'C': ['C', 'C', 'C'],\n",
       " 'D': ['D']}"
      ]
     },
     "execution_count": 25,
     "metadata": {},
     "output_type": "execute_result"
    }
   ],
   "source": [
    "{k: list(g) for k, g in groupby('AAAAAABBBBCCCD')}"
   ]
  },
  {
   "cell_type": "markdown",
   "metadata": {},
   "source": [
    "# islice(iterable, start, stop[, step])\n",
    "Make an iterator that returns selected elements from the iterable. If start is non-zero, then elements from the iterable are skipped until start is reached. Afterward, elements are returned consecutively unless step is set higher than one which results in items being skipped. If stop is None, then iteration continues until the iterator is exhausted, if at all; otherwise, it stops at the specified position. Unlike regular slicing, `islice()` does not support negative values for start, stop, or step. Can be used to extract related fields from data where the internal structure has been flattened (for example, a multi-line report may list a name field on every third line)."
   ]
  },
  {
   "cell_type": "code",
   "execution_count": 28,
   "metadata": {},
   "outputs": [
    {
     "data": {
      "text/plain": [
       "['A', 'B']"
      ]
     },
     "execution_count": 28,
     "metadata": {},
     "output_type": "execute_result"
    }
   ],
   "source": [
    "list(islice('ABCEDFGH',2)) # STOP At 2 index"
   ]
  },
  {
   "cell_type": "code",
   "execution_count": 29,
   "metadata": {},
   "outputs": [
    {
     "data": {
      "text/plain": [
       "['C', 'E']"
      ]
     },
     "execution_count": 29,
     "metadata": {},
     "output_type": "execute_result"
    }
   ],
   "source": [
    "list(islice('ABCEDFGH',2, 4)) # start at 2 index, stop at 4"
   ]
  },
  {
   "cell_type": "code",
   "execution_count": 30,
   "metadata": {},
   "outputs": [
    {
     "data": {
      "text/plain": [
       "['C', 'E', 'D', 'F', 'G', 'H']"
      ]
     },
     "execution_count": 30,
     "metadata": {},
     "output_type": "execute_result"
    }
   ],
   "source": [
    "list(islice('ABCEDFGH',2, None)) # start at 2 index, dont stop"
   ]
  },
  {
   "cell_type": "code",
   "execution_count": 31,
   "metadata": {},
   "outputs": [
    {
     "data": {
      "text/plain": [
       "['A', 'C', 'D', 'G']"
      ]
     },
     "execution_count": 31,
     "metadata": {},
     "output_type": "execute_result"
    }
   ],
   "source": [
    "list(islice('ABCEDFGH',0, None, 2)) # start, dont stop, jump by 2"
   ]
  },
  {
   "cell_type": "markdown",
   "metadata": {},
   "source": [
    "# permutations(iterable, r=None)\n",
    "\n",
    "Return successive r length permutations of elements in the iterable.\n",
    "\n",
    "If r is not specified or is None, then r defaults to the length of the iterable and all possible full-length permutations are generated."
   ]
  },
  {
   "cell_type": "code",
   "execution_count": 32,
   "metadata": {},
   "outputs": [
    {
     "data": {
      "text/plain": [
       "[('A', 'B'),\n",
       " ('A', 'C'),\n",
       " ('A', 'D'),\n",
       " ('B', 'A'),\n",
       " ('B', 'C'),\n",
       " ('B', 'D'),\n",
       " ('C', 'A'),\n",
       " ('C', 'B'),\n",
       " ('C', 'D'),\n",
       " ('D', 'A'),\n",
       " ('D', 'B'),\n",
       " ('D', 'C')]"
      ]
     },
     "execution_count": 32,
     "metadata": {},
     "output_type": "execute_result"
    }
   ],
   "source": [
    "list(permutations('ABCD', 2))"
   ]
  },
  {
   "cell_type": "code",
   "execution_count": 33,
   "metadata": {
    "scrolled": true
   },
   "outputs": [
    {
     "data": {
      "text/plain": [
       "[('A', 'B', 'C', 'D'),\n",
       " ('A', 'B', 'D', 'C'),\n",
       " ('A', 'C', 'B', 'D'),\n",
       " ('A', 'C', 'D', 'B'),\n",
       " ('A', 'D', 'B', 'C'),\n",
       " ('A', 'D', 'C', 'B'),\n",
       " ('B', 'A', 'C', 'D'),\n",
       " ('B', 'A', 'D', 'C'),\n",
       " ('B', 'C', 'A', 'D'),\n",
       " ('B', 'C', 'D', 'A'),\n",
       " ('B', 'D', 'A', 'C'),\n",
       " ('B', 'D', 'C', 'A'),\n",
       " ('C', 'A', 'B', 'D'),\n",
       " ('C', 'A', 'D', 'B'),\n",
       " ('C', 'B', 'A', 'D'),\n",
       " ('C', 'B', 'D', 'A'),\n",
       " ('C', 'D', 'A', 'B'),\n",
       " ('C', 'D', 'B', 'A'),\n",
       " ('D', 'A', 'B', 'C'),\n",
       " ('D', 'A', 'C', 'B'),\n",
       " ('D', 'B', 'A', 'C'),\n",
       " ('D', 'B', 'C', 'A'),\n",
       " ('D', 'C', 'A', 'B'),\n",
       " ('D', 'C', 'B', 'A')]"
      ]
     },
     "execution_count": 33,
     "metadata": {},
     "output_type": "execute_result"
    }
   ],
   "source": [
    "list(permutations('ABCD'))"
   ]
  },
  {
   "cell_type": "markdown",
   "metadata": {},
   "source": [
    "# product(*iterables, repeat=1)\n",
    "Cartesian product of input iterables.\n",
    "\n",
    "Roughly equivalent to nested for-loops in a generator expression."
   ]
  },
  {
   "cell_type": "code",
   "execution_count": 34,
   "metadata": {
    "scrolled": true
   },
   "outputs": [
    {
     "data": {
      "text/plain": [
       "[(1, 'a'),\n",
       " (1, 'b'),\n",
       " (1, 'c'),\n",
       " (1, 'd'),\n",
       " (1, 'e'),\n",
       " (1, 'f'),\n",
       " (2, 'a'),\n",
       " (2, 'b'),\n",
       " (2, 'c'),\n",
       " (2, 'd'),\n",
       " (2, 'e'),\n",
       " (2, 'f'),\n",
       " (3, 'a'),\n",
       " (3, 'b'),\n",
       " (3, 'c'),\n",
       " (3, 'd'),\n",
       " (3, 'e'),\n",
       " (3, 'f'),\n",
       " (4, 'a'),\n",
       " (4, 'b'),\n",
       " (4, 'c'),\n",
       " (4, 'd'),\n",
       " (4, 'e'),\n",
       " (4, 'f'),\n",
       " (5, 'a'),\n",
       " (5, 'b'),\n",
       " (5, 'c'),\n",
       " (5, 'd'),\n",
       " (5, 'e'),\n",
       " (5, 'f'),\n",
       " (6, 'a'),\n",
       " (6, 'b'),\n",
       " (6, 'c'),\n",
       " (6, 'd'),\n",
       " (6, 'e'),\n",
       " (6, 'f')]"
      ]
     },
     "execution_count": 34,
     "metadata": {},
     "output_type": "execute_result"
    }
   ],
   "source": [
    "list1 = [1,2,3,4,5,6]\n",
    "list2 = ['a','b','c','d','e','f']\n",
    "list(product(list1, list2))"
   ]
  },
  {
   "cell_type": "code",
   "execution_count": 36,
   "metadata": {
    "scrolled": true
   },
   "outputs": [
    {
     "data": {
      "text/plain": [
       "[(1, 'a', 1, 'a'),\n",
       " (1, 'a', 1, 'b'),\n",
       " (1, 'a', 1, 'c'),\n",
       " (1, 'a', 1, 'd'),\n",
       " (1, 'a', 1, 'e'),\n",
       " (1, 'a', 1, 'f'),\n",
       " (1, 'a', 2, 'a'),\n",
       " (1, 'a', 2, 'b'),\n",
       " (1, 'a', 2, 'c'),\n",
       " (1, 'a', 2, 'd'),\n",
       " (1, 'a', 2, 'e'),\n",
       " (1, 'a', 2, 'f'),\n",
       " (1, 'a', 3, 'a'),\n",
       " (1, 'a', 3, 'b'),\n",
       " (1, 'a', 3, 'c'),\n",
       " (1, 'a', 3, 'd'),\n",
       " (1, 'a', 3, 'e'),\n",
       " (1, 'a', 3, 'f'),\n",
       " (1, 'a', 4, 'a'),\n",
       " (1, 'a', 4, 'b'),\n",
       " (1, 'a', 4, 'c'),\n",
       " (1, 'a', 4, 'd'),\n",
       " (1, 'a', 4, 'e'),\n",
       " (1, 'a', 4, 'f'),\n",
       " (1, 'a', 5, 'a'),\n",
       " (1, 'a', 5, 'b'),\n",
       " (1, 'a', 5, 'c'),\n",
       " (1, 'a', 5, 'd'),\n",
       " (1, 'a', 5, 'e'),\n",
       " (1, 'a', 5, 'f'),\n",
       " (1, 'a', 6, 'a'),\n",
       " (1, 'a', 6, 'b'),\n",
       " (1, 'a', 6, 'c'),\n",
       " (1, 'a', 6, 'd'),\n",
       " (1, 'a', 6, 'e'),\n",
       " (1, 'a', 6, 'f'),\n",
       " (1, 'b', 1, 'a'),\n",
       " (1, 'b', 1, 'b'),\n",
       " (1, 'b', 1, 'c'),\n",
       " (1, 'b', 1, 'd'),\n",
       " (1, 'b', 1, 'e'),\n",
       " (1, 'b', 1, 'f'),\n",
       " (1, 'b', 2, 'a'),\n",
       " (1, 'b', 2, 'b'),\n",
       " (1, 'b', 2, 'c'),\n",
       " (1, 'b', 2, 'd'),\n",
       " (1, 'b', 2, 'e'),\n",
       " (1, 'b', 2, 'f'),\n",
       " (1, 'b', 3, 'a'),\n",
       " (1, 'b', 3, 'b'),\n",
       " (1, 'b', 3, 'c'),\n",
       " (1, 'b', 3, 'd'),\n",
       " (1, 'b', 3, 'e'),\n",
       " (1, 'b', 3, 'f'),\n",
       " (1, 'b', 4, 'a'),\n",
       " (1, 'b', 4, 'b'),\n",
       " (1, 'b', 4, 'c'),\n",
       " (1, 'b', 4, 'd'),\n",
       " (1, 'b', 4, 'e'),\n",
       " (1, 'b', 4, 'f'),\n",
       " (1, 'b', 5, 'a'),\n",
       " (1, 'b', 5, 'b'),\n",
       " (1, 'b', 5, 'c'),\n",
       " (1, 'b', 5, 'd'),\n",
       " (1, 'b', 5, 'e'),\n",
       " (1, 'b', 5, 'f'),\n",
       " (1, 'b', 6, 'a'),\n",
       " (1, 'b', 6, 'b'),\n",
       " (1, 'b', 6, 'c'),\n",
       " (1, 'b', 6, 'd'),\n",
       " (1, 'b', 6, 'e'),\n",
       " (1, 'b', 6, 'f'),\n",
       " (1, 'c', 1, 'a'),\n",
       " (1, 'c', 1, 'b'),\n",
       " (1, 'c', 1, 'c'),\n",
       " (1, 'c', 1, 'd'),\n",
       " (1, 'c', 1, 'e'),\n",
       " (1, 'c', 1, 'f'),\n",
       " (1, 'c', 2, 'a'),\n",
       " (1, 'c', 2, 'b'),\n",
       " (1, 'c', 2, 'c'),\n",
       " (1, 'c', 2, 'd'),\n",
       " (1, 'c', 2, 'e'),\n",
       " (1, 'c', 2, 'f'),\n",
       " (1, 'c', 3, 'a'),\n",
       " (1, 'c', 3, 'b'),\n",
       " (1, 'c', 3, 'c'),\n",
       " (1, 'c', 3, 'd'),\n",
       " (1, 'c', 3, 'e'),\n",
       " (1, 'c', 3, 'f'),\n",
       " (1, 'c', 4, 'a'),\n",
       " (1, 'c', 4, 'b'),\n",
       " (1, 'c', 4, 'c'),\n",
       " (1, 'c', 4, 'd'),\n",
       " (1, 'c', 4, 'e'),\n",
       " (1, 'c', 4, 'f'),\n",
       " (1, 'c', 5, 'a'),\n",
       " (1, 'c', 5, 'b'),\n",
       " (1, 'c', 5, 'c'),\n",
       " (1, 'c', 5, 'd'),\n",
       " (1, 'c', 5, 'e'),\n",
       " (1, 'c', 5, 'f'),\n",
       " (1, 'c', 6, 'a'),\n",
       " (1, 'c', 6, 'b'),\n",
       " (1, 'c', 6, 'c'),\n",
       " (1, 'c', 6, 'd'),\n",
       " (1, 'c', 6, 'e'),\n",
       " (1, 'c', 6, 'f'),\n",
       " (1, 'd', 1, 'a'),\n",
       " (1, 'd', 1, 'b'),\n",
       " (1, 'd', 1, 'c'),\n",
       " (1, 'd', 1, 'd'),\n",
       " (1, 'd', 1, 'e'),\n",
       " (1, 'd', 1, 'f'),\n",
       " (1, 'd', 2, 'a'),\n",
       " (1, 'd', 2, 'b'),\n",
       " (1, 'd', 2, 'c'),\n",
       " (1, 'd', 2, 'd'),\n",
       " (1, 'd', 2, 'e'),\n",
       " (1, 'd', 2, 'f'),\n",
       " (1, 'd', 3, 'a'),\n",
       " (1, 'd', 3, 'b'),\n",
       " (1, 'd', 3, 'c'),\n",
       " (1, 'd', 3, 'd'),\n",
       " (1, 'd', 3, 'e'),\n",
       " (1, 'd', 3, 'f'),\n",
       " (1, 'd', 4, 'a'),\n",
       " (1, 'd', 4, 'b'),\n",
       " (1, 'd', 4, 'c'),\n",
       " (1, 'd', 4, 'd'),\n",
       " (1, 'd', 4, 'e'),\n",
       " (1, 'd', 4, 'f'),\n",
       " (1, 'd', 5, 'a'),\n",
       " (1, 'd', 5, 'b'),\n",
       " (1, 'd', 5, 'c'),\n",
       " (1, 'd', 5, 'd'),\n",
       " (1, 'd', 5, 'e'),\n",
       " (1, 'd', 5, 'f'),\n",
       " (1, 'd', 6, 'a'),\n",
       " (1, 'd', 6, 'b'),\n",
       " (1, 'd', 6, 'c'),\n",
       " (1, 'd', 6, 'd'),\n",
       " (1, 'd', 6, 'e'),\n",
       " (1, 'd', 6, 'f'),\n",
       " (1, 'e', 1, 'a'),\n",
       " (1, 'e', 1, 'b'),\n",
       " (1, 'e', 1, 'c'),\n",
       " (1, 'e', 1, 'd'),\n",
       " (1, 'e', 1, 'e'),\n",
       " (1, 'e', 1, 'f'),\n",
       " (1, 'e', 2, 'a'),\n",
       " (1, 'e', 2, 'b'),\n",
       " (1, 'e', 2, 'c'),\n",
       " (1, 'e', 2, 'd'),\n",
       " (1, 'e', 2, 'e'),\n",
       " (1, 'e', 2, 'f'),\n",
       " (1, 'e', 3, 'a'),\n",
       " (1, 'e', 3, 'b'),\n",
       " (1, 'e', 3, 'c'),\n",
       " (1, 'e', 3, 'd'),\n",
       " (1, 'e', 3, 'e'),\n",
       " (1, 'e', 3, 'f'),\n",
       " (1, 'e', 4, 'a'),\n",
       " (1, 'e', 4, 'b'),\n",
       " (1, 'e', 4, 'c'),\n",
       " (1, 'e', 4, 'd'),\n",
       " (1, 'e', 4, 'e'),\n",
       " (1, 'e', 4, 'f'),\n",
       " (1, 'e', 5, 'a'),\n",
       " (1, 'e', 5, 'b'),\n",
       " (1, 'e', 5, 'c'),\n",
       " (1, 'e', 5, 'd'),\n",
       " (1, 'e', 5, 'e'),\n",
       " (1, 'e', 5, 'f'),\n",
       " (1, 'e', 6, 'a'),\n",
       " (1, 'e', 6, 'b'),\n",
       " (1, 'e', 6, 'c'),\n",
       " (1, 'e', 6, 'd'),\n",
       " (1, 'e', 6, 'e'),\n",
       " (1, 'e', 6, 'f'),\n",
       " (1, 'f', 1, 'a'),\n",
       " (1, 'f', 1, 'b'),\n",
       " (1, 'f', 1, 'c'),\n",
       " (1, 'f', 1, 'd'),\n",
       " (1, 'f', 1, 'e'),\n",
       " (1, 'f', 1, 'f'),\n",
       " (1, 'f', 2, 'a'),\n",
       " (1, 'f', 2, 'b'),\n",
       " (1, 'f', 2, 'c'),\n",
       " (1, 'f', 2, 'd'),\n",
       " (1, 'f', 2, 'e'),\n",
       " (1, 'f', 2, 'f'),\n",
       " (1, 'f', 3, 'a'),\n",
       " (1, 'f', 3, 'b'),\n",
       " (1, 'f', 3, 'c'),\n",
       " (1, 'f', 3, 'd'),\n",
       " (1, 'f', 3, 'e'),\n",
       " (1, 'f', 3, 'f'),\n",
       " (1, 'f', 4, 'a'),\n",
       " (1, 'f', 4, 'b'),\n",
       " (1, 'f', 4, 'c'),\n",
       " (1, 'f', 4, 'd'),\n",
       " (1, 'f', 4, 'e'),\n",
       " (1, 'f', 4, 'f'),\n",
       " (1, 'f', 5, 'a'),\n",
       " (1, 'f', 5, 'b'),\n",
       " (1, 'f', 5, 'c'),\n",
       " (1, 'f', 5, 'd'),\n",
       " (1, 'f', 5, 'e'),\n",
       " (1, 'f', 5, 'f'),\n",
       " (1, 'f', 6, 'a'),\n",
       " (1, 'f', 6, 'b'),\n",
       " (1, 'f', 6, 'c'),\n",
       " (1, 'f', 6, 'd'),\n",
       " (1, 'f', 6, 'e'),\n",
       " (1, 'f', 6, 'f'),\n",
       " (2, 'a', 1, 'a'),\n",
       " (2, 'a', 1, 'b'),\n",
       " (2, 'a', 1, 'c'),\n",
       " (2, 'a', 1, 'd'),\n",
       " (2, 'a', 1, 'e'),\n",
       " (2, 'a', 1, 'f'),\n",
       " (2, 'a', 2, 'a'),\n",
       " (2, 'a', 2, 'b'),\n",
       " (2, 'a', 2, 'c'),\n",
       " (2, 'a', 2, 'd'),\n",
       " (2, 'a', 2, 'e'),\n",
       " (2, 'a', 2, 'f'),\n",
       " (2, 'a', 3, 'a'),\n",
       " (2, 'a', 3, 'b'),\n",
       " (2, 'a', 3, 'c'),\n",
       " (2, 'a', 3, 'd'),\n",
       " (2, 'a', 3, 'e'),\n",
       " (2, 'a', 3, 'f'),\n",
       " (2, 'a', 4, 'a'),\n",
       " (2, 'a', 4, 'b'),\n",
       " (2, 'a', 4, 'c'),\n",
       " (2, 'a', 4, 'd'),\n",
       " (2, 'a', 4, 'e'),\n",
       " (2, 'a', 4, 'f'),\n",
       " (2, 'a', 5, 'a'),\n",
       " (2, 'a', 5, 'b'),\n",
       " (2, 'a', 5, 'c'),\n",
       " (2, 'a', 5, 'd'),\n",
       " (2, 'a', 5, 'e'),\n",
       " (2, 'a', 5, 'f'),\n",
       " (2, 'a', 6, 'a'),\n",
       " (2, 'a', 6, 'b'),\n",
       " (2, 'a', 6, 'c'),\n",
       " (2, 'a', 6, 'd'),\n",
       " (2, 'a', 6, 'e'),\n",
       " (2, 'a', 6, 'f'),\n",
       " (2, 'b', 1, 'a'),\n",
       " (2, 'b', 1, 'b'),\n",
       " (2, 'b', 1, 'c'),\n",
       " (2, 'b', 1, 'd'),\n",
       " (2, 'b', 1, 'e'),\n",
       " (2, 'b', 1, 'f'),\n",
       " (2, 'b', 2, 'a'),\n",
       " (2, 'b', 2, 'b'),\n",
       " (2, 'b', 2, 'c'),\n",
       " (2, 'b', 2, 'd'),\n",
       " (2, 'b', 2, 'e'),\n",
       " (2, 'b', 2, 'f'),\n",
       " (2, 'b', 3, 'a'),\n",
       " (2, 'b', 3, 'b'),\n",
       " (2, 'b', 3, 'c'),\n",
       " (2, 'b', 3, 'd'),\n",
       " (2, 'b', 3, 'e'),\n",
       " (2, 'b', 3, 'f'),\n",
       " (2, 'b', 4, 'a'),\n",
       " (2, 'b', 4, 'b'),\n",
       " (2, 'b', 4, 'c'),\n",
       " (2, 'b', 4, 'd'),\n",
       " (2, 'b', 4, 'e'),\n",
       " (2, 'b', 4, 'f'),\n",
       " (2, 'b', 5, 'a'),\n",
       " (2, 'b', 5, 'b'),\n",
       " (2, 'b', 5, 'c'),\n",
       " (2, 'b', 5, 'd'),\n",
       " (2, 'b', 5, 'e'),\n",
       " (2, 'b', 5, 'f'),\n",
       " (2, 'b', 6, 'a'),\n",
       " (2, 'b', 6, 'b'),\n",
       " (2, 'b', 6, 'c'),\n",
       " (2, 'b', 6, 'd'),\n",
       " (2, 'b', 6, 'e'),\n",
       " (2, 'b', 6, 'f'),\n",
       " (2, 'c', 1, 'a'),\n",
       " (2, 'c', 1, 'b'),\n",
       " (2, 'c', 1, 'c'),\n",
       " (2, 'c', 1, 'd'),\n",
       " (2, 'c', 1, 'e'),\n",
       " (2, 'c', 1, 'f'),\n",
       " (2, 'c', 2, 'a'),\n",
       " (2, 'c', 2, 'b'),\n",
       " (2, 'c', 2, 'c'),\n",
       " (2, 'c', 2, 'd'),\n",
       " (2, 'c', 2, 'e'),\n",
       " (2, 'c', 2, 'f'),\n",
       " (2, 'c', 3, 'a'),\n",
       " (2, 'c', 3, 'b'),\n",
       " (2, 'c', 3, 'c'),\n",
       " (2, 'c', 3, 'd'),\n",
       " (2, 'c', 3, 'e'),\n",
       " (2, 'c', 3, 'f'),\n",
       " (2, 'c', 4, 'a'),\n",
       " (2, 'c', 4, 'b'),\n",
       " (2, 'c', 4, 'c'),\n",
       " (2, 'c', 4, 'd'),\n",
       " (2, 'c', 4, 'e'),\n",
       " (2, 'c', 4, 'f'),\n",
       " (2, 'c', 5, 'a'),\n",
       " (2, 'c', 5, 'b'),\n",
       " (2, 'c', 5, 'c'),\n",
       " (2, 'c', 5, 'd'),\n",
       " (2, 'c', 5, 'e'),\n",
       " (2, 'c', 5, 'f'),\n",
       " (2, 'c', 6, 'a'),\n",
       " (2, 'c', 6, 'b'),\n",
       " (2, 'c', 6, 'c'),\n",
       " (2, 'c', 6, 'd'),\n",
       " (2, 'c', 6, 'e'),\n",
       " (2, 'c', 6, 'f'),\n",
       " (2, 'd', 1, 'a'),\n",
       " (2, 'd', 1, 'b'),\n",
       " (2, 'd', 1, 'c'),\n",
       " (2, 'd', 1, 'd'),\n",
       " (2, 'd', 1, 'e'),\n",
       " (2, 'd', 1, 'f'),\n",
       " (2, 'd', 2, 'a'),\n",
       " (2, 'd', 2, 'b'),\n",
       " (2, 'd', 2, 'c'),\n",
       " (2, 'd', 2, 'd'),\n",
       " (2, 'd', 2, 'e'),\n",
       " (2, 'd', 2, 'f'),\n",
       " (2, 'd', 3, 'a'),\n",
       " (2, 'd', 3, 'b'),\n",
       " (2, 'd', 3, 'c'),\n",
       " (2, 'd', 3, 'd'),\n",
       " (2, 'd', 3, 'e'),\n",
       " (2, 'd', 3, 'f'),\n",
       " (2, 'd', 4, 'a'),\n",
       " (2, 'd', 4, 'b'),\n",
       " (2, 'd', 4, 'c'),\n",
       " (2, 'd', 4, 'd'),\n",
       " (2, 'd', 4, 'e'),\n",
       " (2, 'd', 4, 'f'),\n",
       " (2, 'd', 5, 'a'),\n",
       " (2, 'd', 5, 'b'),\n",
       " (2, 'd', 5, 'c'),\n",
       " (2, 'd', 5, 'd'),\n",
       " (2, 'd', 5, 'e'),\n",
       " (2, 'd', 5, 'f'),\n",
       " (2, 'd', 6, 'a'),\n",
       " (2, 'd', 6, 'b'),\n",
       " (2, 'd', 6, 'c'),\n",
       " (2, 'd', 6, 'd'),\n",
       " (2, 'd', 6, 'e'),\n",
       " (2, 'd', 6, 'f'),\n",
       " (2, 'e', 1, 'a'),\n",
       " (2, 'e', 1, 'b'),\n",
       " (2, 'e', 1, 'c'),\n",
       " (2, 'e', 1, 'd'),\n",
       " (2, 'e', 1, 'e'),\n",
       " (2, 'e', 1, 'f'),\n",
       " (2, 'e', 2, 'a'),\n",
       " (2, 'e', 2, 'b'),\n",
       " (2, 'e', 2, 'c'),\n",
       " (2, 'e', 2, 'd'),\n",
       " (2, 'e', 2, 'e'),\n",
       " (2, 'e', 2, 'f'),\n",
       " (2, 'e', 3, 'a'),\n",
       " (2, 'e', 3, 'b'),\n",
       " (2, 'e', 3, 'c'),\n",
       " (2, 'e', 3, 'd'),\n",
       " (2, 'e', 3, 'e'),\n",
       " (2, 'e', 3, 'f'),\n",
       " (2, 'e', 4, 'a'),\n",
       " (2, 'e', 4, 'b'),\n",
       " (2, 'e', 4, 'c'),\n",
       " (2, 'e', 4, 'd'),\n",
       " (2, 'e', 4, 'e'),\n",
       " (2, 'e', 4, 'f'),\n",
       " (2, 'e', 5, 'a'),\n",
       " (2, 'e', 5, 'b'),\n",
       " (2, 'e', 5, 'c'),\n",
       " (2, 'e', 5, 'd'),\n",
       " (2, 'e', 5, 'e'),\n",
       " (2, 'e', 5, 'f'),\n",
       " (2, 'e', 6, 'a'),\n",
       " (2, 'e', 6, 'b'),\n",
       " (2, 'e', 6, 'c'),\n",
       " (2, 'e', 6, 'd'),\n",
       " (2, 'e', 6, 'e'),\n",
       " (2, 'e', 6, 'f'),\n",
       " (2, 'f', 1, 'a'),\n",
       " (2, 'f', 1, 'b'),\n",
       " (2, 'f', 1, 'c'),\n",
       " (2, 'f', 1, 'd'),\n",
       " (2, 'f', 1, 'e'),\n",
       " (2, 'f', 1, 'f'),\n",
       " (2, 'f', 2, 'a'),\n",
       " (2, 'f', 2, 'b'),\n",
       " (2, 'f', 2, 'c'),\n",
       " (2, 'f', 2, 'd'),\n",
       " (2, 'f', 2, 'e'),\n",
       " (2, 'f', 2, 'f'),\n",
       " (2, 'f', 3, 'a'),\n",
       " (2, 'f', 3, 'b'),\n",
       " (2, 'f', 3, 'c'),\n",
       " (2, 'f', 3, 'd'),\n",
       " (2, 'f', 3, 'e'),\n",
       " (2, 'f', 3, 'f'),\n",
       " (2, 'f', 4, 'a'),\n",
       " (2, 'f', 4, 'b'),\n",
       " (2, 'f', 4, 'c'),\n",
       " (2, 'f', 4, 'd'),\n",
       " (2, 'f', 4, 'e'),\n",
       " (2, 'f', 4, 'f'),\n",
       " (2, 'f', 5, 'a'),\n",
       " (2, 'f', 5, 'b'),\n",
       " (2, 'f', 5, 'c'),\n",
       " (2, 'f', 5, 'd'),\n",
       " (2, 'f', 5, 'e'),\n",
       " (2, 'f', 5, 'f'),\n",
       " (2, 'f', 6, 'a'),\n",
       " (2, 'f', 6, 'b'),\n",
       " (2, 'f', 6, 'c'),\n",
       " (2, 'f', 6, 'd'),\n",
       " (2, 'f', 6, 'e'),\n",
       " (2, 'f', 6, 'f'),\n",
       " (3, 'a', 1, 'a'),\n",
       " (3, 'a', 1, 'b'),\n",
       " (3, 'a', 1, 'c'),\n",
       " (3, 'a', 1, 'd'),\n",
       " (3, 'a', 1, 'e'),\n",
       " (3, 'a', 1, 'f'),\n",
       " (3, 'a', 2, 'a'),\n",
       " (3, 'a', 2, 'b'),\n",
       " (3, 'a', 2, 'c'),\n",
       " (3, 'a', 2, 'd'),\n",
       " (3, 'a', 2, 'e'),\n",
       " (3, 'a', 2, 'f'),\n",
       " (3, 'a', 3, 'a'),\n",
       " (3, 'a', 3, 'b'),\n",
       " (3, 'a', 3, 'c'),\n",
       " (3, 'a', 3, 'd'),\n",
       " (3, 'a', 3, 'e'),\n",
       " (3, 'a', 3, 'f'),\n",
       " (3, 'a', 4, 'a'),\n",
       " (3, 'a', 4, 'b'),\n",
       " (3, 'a', 4, 'c'),\n",
       " (3, 'a', 4, 'd'),\n",
       " (3, 'a', 4, 'e'),\n",
       " (3, 'a', 4, 'f'),\n",
       " (3, 'a', 5, 'a'),\n",
       " (3, 'a', 5, 'b'),\n",
       " (3, 'a', 5, 'c'),\n",
       " (3, 'a', 5, 'd'),\n",
       " (3, 'a', 5, 'e'),\n",
       " (3, 'a', 5, 'f'),\n",
       " (3, 'a', 6, 'a'),\n",
       " (3, 'a', 6, 'b'),\n",
       " (3, 'a', 6, 'c'),\n",
       " (3, 'a', 6, 'd'),\n",
       " (3, 'a', 6, 'e'),\n",
       " (3, 'a', 6, 'f'),\n",
       " (3, 'b', 1, 'a'),\n",
       " (3, 'b', 1, 'b'),\n",
       " (3, 'b', 1, 'c'),\n",
       " (3, 'b', 1, 'd'),\n",
       " (3, 'b', 1, 'e'),\n",
       " (3, 'b', 1, 'f'),\n",
       " (3, 'b', 2, 'a'),\n",
       " (3, 'b', 2, 'b'),\n",
       " (3, 'b', 2, 'c'),\n",
       " (3, 'b', 2, 'd'),\n",
       " (3, 'b', 2, 'e'),\n",
       " (3, 'b', 2, 'f'),\n",
       " (3, 'b', 3, 'a'),\n",
       " (3, 'b', 3, 'b'),\n",
       " (3, 'b', 3, 'c'),\n",
       " (3, 'b', 3, 'd'),\n",
       " (3, 'b', 3, 'e'),\n",
       " (3, 'b', 3, 'f'),\n",
       " (3, 'b', 4, 'a'),\n",
       " (3, 'b', 4, 'b'),\n",
       " (3, 'b', 4, 'c'),\n",
       " (3, 'b', 4, 'd'),\n",
       " (3, 'b', 4, 'e'),\n",
       " (3, 'b', 4, 'f'),\n",
       " (3, 'b', 5, 'a'),\n",
       " (3, 'b', 5, 'b'),\n",
       " (3, 'b', 5, 'c'),\n",
       " (3, 'b', 5, 'd'),\n",
       " (3, 'b', 5, 'e'),\n",
       " (3, 'b', 5, 'f'),\n",
       " (3, 'b', 6, 'a'),\n",
       " (3, 'b', 6, 'b'),\n",
       " (3, 'b', 6, 'c'),\n",
       " (3, 'b', 6, 'd'),\n",
       " (3, 'b', 6, 'e'),\n",
       " (3, 'b', 6, 'f'),\n",
       " (3, 'c', 1, 'a'),\n",
       " (3, 'c', 1, 'b'),\n",
       " (3, 'c', 1, 'c'),\n",
       " (3, 'c', 1, 'd'),\n",
       " (3, 'c', 1, 'e'),\n",
       " (3, 'c', 1, 'f'),\n",
       " (3, 'c', 2, 'a'),\n",
       " (3, 'c', 2, 'b'),\n",
       " (3, 'c', 2, 'c'),\n",
       " (3, 'c', 2, 'd'),\n",
       " (3, 'c', 2, 'e'),\n",
       " (3, 'c', 2, 'f'),\n",
       " (3, 'c', 3, 'a'),\n",
       " (3, 'c', 3, 'b'),\n",
       " (3, 'c', 3, 'c'),\n",
       " (3, 'c', 3, 'd'),\n",
       " (3, 'c', 3, 'e'),\n",
       " (3, 'c', 3, 'f'),\n",
       " (3, 'c', 4, 'a'),\n",
       " (3, 'c', 4, 'b'),\n",
       " (3, 'c', 4, 'c'),\n",
       " (3, 'c', 4, 'd'),\n",
       " (3, 'c', 4, 'e'),\n",
       " (3, 'c', 4, 'f'),\n",
       " (3, 'c', 5, 'a'),\n",
       " (3, 'c', 5, 'b'),\n",
       " (3, 'c', 5, 'c'),\n",
       " (3, 'c', 5, 'd'),\n",
       " (3, 'c', 5, 'e'),\n",
       " (3, 'c', 5, 'f'),\n",
       " (3, 'c', 6, 'a'),\n",
       " (3, 'c', 6, 'b'),\n",
       " (3, 'c', 6, 'c'),\n",
       " (3, 'c', 6, 'd'),\n",
       " (3, 'c', 6, 'e'),\n",
       " (3, 'c', 6, 'f'),\n",
       " (3, 'd', 1, 'a'),\n",
       " (3, 'd', 1, 'b'),\n",
       " (3, 'd', 1, 'c'),\n",
       " (3, 'd', 1, 'd'),\n",
       " (3, 'd', 1, 'e'),\n",
       " (3, 'd', 1, 'f'),\n",
       " (3, 'd', 2, 'a'),\n",
       " (3, 'd', 2, 'b'),\n",
       " (3, 'd', 2, 'c'),\n",
       " (3, 'd', 2, 'd'),\n",
       " (3, 'd', 2, 'e'),\n",
       " (3, 'd', 2, 'f'),\n",
       " (3, 'd', 3, 'a'),\n",
       " (3, 'd', 3, 'b'),\n",
       " (3, 'd', 3, 'c'),\n",
       " (3, 'd', 3, 'd'),\n",
       " (3, 'd', 3, 'e'),\n",
       " (3, 'd', 3, 'f'),\n",
       " (3, 'd', 4, 'a'),\n",
       " (3, 'd', 4, 'b'),\n",
       " (3, 'd', 4, 'c'),\n",
       " (3, 'd', 4, 'd'),\n",
       " (3, 'd', 4, 'e'),\n",
       " (3, 'd', 4, 'f'),\n",
       " (3, 'd', 5, 'a'),\n",
       " (3, 'd', 5, 'b'),\n",
       " (3, 'd', 5, 'c'),\n",
       " (3, 'd', 5, 'd'),\n",
       " (3, 'd', 5, 'e'),\n",
       " (3, 'd', 5, 'f'),\n",
       " (3, 'd', 6, 'a'),\n",
       " (3, 'd', 6, 'b'),\n",
       " (3, 'd', 6, 'c'),\n",
       " (3, 'd', 6, 'd'),\n",
       " (3, 'd', 6, 'e'),\n",
       " (3, 'd', 6, 'f'),\n",
       " (3, 'e', 1, 'a'),\n",
       " (3, 'e', 1, 'b'),\n",
       " (3, 'e', 1, 'c'),\n",
       " (3, 'e', 1, 'd'),\n",
       " (3, 'e', 1, 'e'),\n",
       " (3, 'e', 1, 'f'),\n",
       " (3, 'e', 2, 'a'),\n",
       " (3, 'e', 2, 'b'),\n",
       " (3, 'e', 2, 'c'),\n",
       " (3, 'e', 2, 'd'),\n",
       " (3, 'e', 2, 'e'),\n",
       " (3, 'e', 2, 'f'),\n",
       " (3, 'e', 3, 'a'),\n",
       " (3, 'e', 3, 'b'),\n",
       " (3, 'e', 3, 'c'),\n",
       " (3, 'e', 3, 'd'),\n",
       " (3, 'e', 3, 'e'),\n",
       " (3, 'e', 3, 'f'),\n",
       " (3, 'e', 4, 'a'),\n",
       " (3, 'e', 4, 'b'),\n",
       " (3, 'e', 4, 'c'),\n",
       " (3, 'e', 4, 'd'),\n",
       " (3, 'e', 4, 'e'),\n",
       " (3, 'e', 4, 'f'),\n",
       " (3, 'e', 5, 'a'),\n",
       " (3, 'e', 5, 'b'),\n",
       " (3, 'e', 5, 'c'),\n",
       " (3, 'e', 5, 'd'),\n",
       " (3, 'e', 5, 'e'),\n",
       " (3, 'e', 5, 'f'),\n",
       " (3, 'e', 6, 'a'),\n",
       " (3, 'e', 6, 'b'),\n",
       " (3, 'e', 6, 'c'),\n",
       " (3, 'e', 6, 'd'),\n",
       " (3, 'e', 6, 'e'),\n",
       " (3, 'e', 6, 'f'),\n",
       " (3, 'f', 1, 'a'),\n",
       " (3, 'f', 1, 'b'),\n",
       " (3, 'f', 1, 'c'),\n",
       " (3, 'f', 1, 'd'),\n",
       " (3, 'f', 1, 'e'),\n",
       " (3, 'f', 1, 'f'),\n",
       " (3, 'f', 2, 'a'),\n",
       " (3, 'f', 2, 'b'),\n",
       " (3, 'f', 2, 'c'),\n",
       " (3, 'f', 2, 'd'),\n",
       " (3, 'f', 2, 'e'),\n",
       " (3, 'f', 2, 'f'),\n",
       " (3, 'f', 3, 'a'),\n",
       " (3, 'f', 3, 'b'),\n",
       " (3, 'f', 3, 'c'),\n",
       " (3, 'f', 3, 'd'),\n",
       " (3, 'f', 3, 'e'),\n",
       " (3, 'f', 3, 'f'),\n",
       " (3, 'f', 4, 'a'),\n",
       " (3, 'f', 4, 'b'),\n",
       " (3, 'f', 4, 'c'),\n",
       " (3, 'f', 4, 'd'),\n",
       " (3, 'f', 4, 'e'),\n",
       " (3, 'f', 4, 'f'),\n",
       " (3, 'f', 5, 'a'),\n",
       " (3, 'f', 5, 'b'),\n",
       " (3, 'f', 5, 'c'),\n",
       " (3, 'f', 5, 'd'),\n",
       " (3, 'f', 5, 'e'),\n",
       " (3, 'f', 5, 'f'),\n",
       " (3, 'f', 6, 'a'),\n",
       " (3, 'f', 6, 'b'),\n",
       " (3, 'f', 6, 'c'),\n",
       " (3, 'f', 6, 'd'),\n",
       " (3, 'f', 6, 'e'),\n",
       " (3, 'f', 6, 'f'),\n",
       " (4, 'a', 1, 'a'),\n",
       " (4, 'a', 1, 'b'),\n",
       " (4, 'a', 1, 'c'),\n",
       " (4, 'a', 1, 'd'),\n",
       " (4, 'a', 1, 'e'),\n",
       " (4, 'a', 1, 'f'),\n",
       " (4, 'a', 2, 'a'),\n",
       " (4, 'a', 2, 'b'),\n",
       " (4, 'a', 2, 'c'),\n",
       " (4, 'a', 2, 'd'),\n",
       " (4, 'a', 2, 'e'),\n",
       " (4, 'a', 2, 'f'),\n",
       " (4, 'a', 3, 'a'),\n",
       " (4, 'a', 3, 'b'),\n",
       " (4, 'a', 3, 'c'),\n",
       " (4, 'a', 3, 'd'),\n",
       " (4, 'a', 3, 'e'),\n",
       " (4, 'a', 3, 'f'),\n",
       " (4, 'a', 4, 'a'),\n",
       " (4, 'a', 4, 'b'),\n",
       " (4, 'a', 4, 'c'),\n",
       " (4, 'a', 4, 'd'),\n",
       " (4, 'a', 4, 'e'),\n",
       " (4, 'a', 4, 'f'),\n",
       " (4, 'a', 5, 'a'),\n",
       " (4, 'a', 5, 'b'),\n",
       " (4, 'a', 5, 'c'),\n",
       " (4, 'a', 5, 'd'),\n",
       " (4, 'a', 5, 'e'),\n",
       " (4, 'a', 5, 'f'),\n",
       " (4, 'a', 6, 'a'),\n",
       " (4, 'a', 6, 'b'),\n",
       " (4, 'a', 6, 'c'),\n",
       " (4, 'a', 6, 'd'),\n",
       " (4, 'a', 6, 'e'),\n",
       " (4, 'a', 6, 'f'),\n",
       " (4, 'b', 1, 'a'),\n",
       " (4, 'b', 1, 'b'),\n",
       " (4, 'b', 1, 'c'),\n",
       " (4, 'b', 1, 'd'),\n",
       " (4, 'b', 1, 'e'),\n",
       " (4, 'b', 1, 'f'),\n",
       " (4, 'b', 2, 'a'),\n",
       " (4, 'b', 2, 'b'),\n",
       " (4, 'b', 2, 'c'),\n",
       " (4, 'b', 2, 'd'),\n",
       " (4, 'b', 2, 'e'),\n",
       " (4, 'b', 2, 'f'),\n",
       " (4, 'b', 3, 'a'),\n",
       " (4, 'b', 3, 'b'),\n",
       " (4, 'b', 3, 'c'),\n",
       " (4, 'b', 3, 'd'),\n",
       " (4, 'b', 3, 'e'),\n",
       " (4, 'b', 3, 'f'),\n",
       " (4, 'b', 4, 'a'),\n",
       " (4, 'b', 4, 'b'),\n",
       " (4, 'b', 4, 'c'),\n",
       " (4, 'b', 4, 'd'),\n",
       " (4, 'b', 4, 'e'),\n",
       " (4, 'b', 4, 'f'),\n",
       " (4, 'b', 5, 'a'),\n",
       " (4, 'b', 5, 'b'),\n",
       " (4, 'b', 5, 'c'),\n",
       " (4, 'b', 5, 'd'),\n",
       " (4, 'b', 5, 'e'),\n",
       " (4, 'b', 5, 'f'),\n",
       " (4, 'b', 6, 'a'),\n",
       " (4, 'b', 6, 'b'),\n",
       " (4, 'b', 6, 'c'),\n",
       " (4, 'b', 6, 'd'),\n",
       " (4, 'b', 6, 'e'),\n",
       " (4, 'b', 6, 'f'),\n",
       " (4, 'c', 1, 'a'),\n",
       " (4, 'c', 1, 'b'),\n",
       " (4, 'c', 1, 'c'),\n",
       " (4, 'c', 1, 'd'),\n",
       " (4, 'c', 1, 'e'),\n",
       " (4, 'c', 1, 'f'),\n",
       " (4, 'c', 2, 'a'),\n",
       " (4, 'c', 2, 'b'),\n",
       " (4, 'c', 2, 'c'),\n",
       " (4, 'c', 2, 'd'),\n",
       " (4, 'c', 2, 'e'),\n",
       " (4, 'c', 2, 'f'),\n",
       " (4, 'c', 3, 'a'),\n",
       " (4, 'c', 3, 'b'),\n",
       " (4, 'c', 3, 'c'),\n",
       " (4, 'c', 3, 'd'),\n",
       " (4, 'c', 3, 'e'),\n",
       " (4, 'c', 3, 'f'),\n",
       " (4, 'c', 4, 'a'),\n",
       " (4, 'c', 4, 'b'),\n",
       " (4, 'c', 4, 'c'),\n",
       " (4, 'c', 4, 'd'),\n",
       " (4, 'c', 4, 'e'),\n",
       " (4, 'c', 4, 'f'),\n",
       " (4, 'c', 5, 'a'),\n",
       " (4, 'c', 5, 'b'),\n",
       " (4, 'c', 5, 'c'),\n",
       " (4, 'c', 5, 'd'),\n",
       " (4, 'c', 5, 'e'),\n",
       " (4, 'c', 5, 'f'),\n",
       " (4, 'c', 6, 'a'),\n",
       " (4, 'c', 6, 'b'),\n",
       " (4, 'c', 6, 'c'),\n",
       " (4, 'c', 6, 'd'),\n",
       " (4, 'c', 6, 'e'),\n",
       " (4, 'c', 6, 'f'),\n",
       " (4, 'd', 1, 'a'),\n",
       " (4, 'd', 1, 'b'),\n",
       " (4, 'd', 1, 'c'),\n",
       " (4, 'd', 1, 'd'),\n",
       " (4, 'd', 1, 'e'),\n",
       " (4, 'd', 1, 'f'),\n",
       " (4, 'd', 2, 'a'),\n",
       " (4, 'd', 2, 'b'),\n",
       " (4, 'd', 2, 'c'),\n",
       " (4, 'd', 2, 'd'),\n",
       " (4, 'd', 2, 'e'),\n",
       " (4, 'd', 2, 'f'),\n",
       " (4, 'd', 3, 'a'),\n",
       " (4, 'd', 3, 'b'),\n",
       " (4, 'd', 3, 'c'),\n",
       " (4, 'd', 3, 'd'),\n",
       " (4, 'd', 3, 'e'),\n",
       " (4, 'd', 3, 'f'),\n",
       " (4, 'd', 4, 'a'),\n",
       " (4, 'd', 4, 'b'),\n",
       " (4, 'd', 4, 'c'),\n",
       " (4, 'd', 4, 'd'),\n",
       " (4, 'd', 4, 'e'),\n",
       " (4, 'd', 4, 'f'),\n",
       " (4, 'd', 5, 'a'),\n",
       " (4, 'd', 5, 'b'),\n",
       " (4, 'd', 5, 'c'),\n",
       " (4, 'd', 5, 'd'),\n",
       " (4, 'd', 5, 'e'),\n",
       " (4, 'd', 5, 'f'),\n",
       " (4, 'd', 6, 'a'),\n",
       " (4, 'd', 6, 'b'),\n",
       " (4, 'd', 6, 'c'),\n",
       " (4, 'd', 6, 'd'),\n",
       " (4, 'd', 6, 'e'),\n",
       " (4, 'd', 6, 'f'),\n",
       " (4, 'e', 1, 'a'),\n",
       " (4, 'e', 1, 'b'),\n",
       " (4, 'e', 1, 'c'),\n",
       " (4, 'e', 1, 'd'),\n",
       " (4, 'e', 1, 'e'),\n",
       " (4, 'e', 1, 'f'),\n",
       " (4, 'e', 2, 'a'),\n",
       " (4, 'e', 2, 'b'),\n",
       " (4, 'e', 2, 'c'),\n",
       " (4, 'e', 2, 'd'),\n",
       " (4, 'e', 2, 'e'),\n",
       " (4, 'e', 2, 'f'),\n",
       " (4, 'e', 3, 'a'),\n",
       " (4, 'e', 3, 'b'),\n",
       " (4, 'e', 3, 'c'),\n",
       " (4, 'e', 3, 'd'),\n",
       " (4, 'e', 3, 'e'),\n",
       " (4, 'e', 3, 'f'),\n",
       " (4, 'e', 4, 'a'),\n",
       " (4, 'e', 4, 'b'),\n",
       " (4, 'e', 4, 'c'),\n",
       " (4, 'e', 4, 'd'),\n",
       " (4, 'e', 4, 'e'),\n",
       " (4, 'e', 4, 'f'),\n",
       " (4, 'e', 5, 'a'),\n",
       " (4, 'e', 5, 'b'),\n",
       " (4, 'e', 5, 'c'),\n",
       " (4, 'e', 5, 'd'),\n",
       " (4, 'e', 5, 'e'),\n",
       " (4, 'e', 5, 'f'),\n",
       " (4, 'e', 6, 'a'),\n",
       " (4, 'e', 6, 'b'),\n",
       " (4, 'e', 6, 'c'),\n",
       " (4, 'e', 6, 'd'),\n",
       " (4, 'e', 6, 'e'),\n",
       " (4, 'e', 6, 'f'),\n",
       " (4, 'f', 1, 'a'),\n",
       " (4, 'f', 1, 'b'),\n",
       " (4, 'f', 1, 'c'),\n",
       " (4, 'f', 1, 'd'),\n",
       " (4, 'f', 1, 'e'),\n",
       " (4, 'f', 1, 'f'),\n",
       " (4, 'f', 2, 'a'),\n",
       " (4, 'f', 2, 'b'),\n",
       " (4, 'f', 2, 'c'),\n",
       " (4, 'f', 2, 'd'),\n",
       " (4, 'f', 2, 'e'),\n",
       " (4, 'f', 2, 'f'),\n",
       " (4, 'f', 3, 'a'),\n",
       " (4, 'f', 3, 'b'),\n",
       " (4, 'f', 3, 'c'),\n",
       " (4, 'f', 3, 'd'),\n",
       " (4, 'f', 3, 'e'),\n",
       " (4, 'f', 3, 'f'),\n",
       " (4, 'f', 4, 'a'),\n",
       " (4, 'f', 4, 'b'),\n",
       " (4, 'f', 4, 'c'),\n",
       " (4, 'f', 4, 'd'),\n",
       " (4, 'f', 4, 'e'),\n",
       " (4, 'f', 4, 'f'),\n",
       " (4, 'f', 5, 'a'),\n",
       " (4, 'f', 5, 'b'),\n",
       " (4, 'f', 5, 'c'),\n",
       " (4, 'f', 5, 'd'),\n",
       " (4, 'f', 5, 'e'),\n",
       " (4, 'f', 5, 'f'),\n",
       " (4, 'f', 6, 'a'),\n",
       " (4, 'f', 6, 'b'),\n",
       " (4, 'f', 6, 'c'),\n",
       " (4, 'f', 6, 'd'),\n",
       " (4, 'f', 6, 'e'),\n",
       " (4, 'f', 6, 'f'),\n",
       " (5, 'a', 1, 'a'),\n",
       " (5, 'a', 1, 'b'),\n",
       " (5, 'a', 1, 'c'),\n",
       " (5, 'a', 1, 'd'),\n",
       " (5, 'a', 1, 'e'),\n",
       " (5, 'a', 1, 'f'),\n",
       " (5, 'a', 2, 'a'),\n",
       " (5, 'a', 2, 'b'),\n",
       " (5, 'a', 2, 'c'),\n",
       " (5, 'a', 2, 'd'),\n",
       " (5, 'a', 2, 'e'),\n",
       " (5, 'a', 2, 'f'),\n",
       " (5, 'a', 3, 'a'),\n",
       " (5, 'a', 3, 'b'),\n",
       " (5, 'a', 3, 'c'),\n",
       " (5, 'a', 3, 'd'),\n",
       " (5, 'a', 3, 'e'),\n",
       " (5, 'a', 3, 'f'),\n",
       " (5, 'a', 4, 'a'),\n",
       " (5, 'a', 4, 'b'),\n",
       " (5, 'a', 4, 'c'),\n",
       " (5, 'a', 4, 'd'),\n",
       " (5, 'a', 4, 'e'),\n",
       " (5, 'a', 4, 'f'),\n",
       " (5, 'a', 5, 'a'),\n",
       " (5, 'a', 5, 'b'),\n",
       " (5, 'a', 5, 'c'),\n",
       " (5, 'a', 5, 'd'),\n",
       " (5, 'a', 5, 'e'),\n",
       " (5, 'a', 5, 'f'),\n",
       " (5, 'a', 6, 'a'),\n",
       " (5, 'a', 6, 'b'),\n",
       " (5, 'a', 6, 'c'),\n",
       " (5, 'a', 6, 'd'),\n",
       " (5, 'a', 6, 'e'),\n",
       " (5, 'a', 6, 'f'),\n",
       " (5, 'b', 1, 'a'),\n",
       " (5, 'b', 1, 'b'),\n",
       " (5, 'b', 1, 'c'),\n",
       " (5, 'b', 1, 'd'),\n",
       " (5, 'b', 1, 'e'),\n",
       " (5, 'b', 1, 'f'),\n",
       " (5, 'b', 2, 'a'),\n",
       " (5, 'b', 2, 'b'),\n",
       " (5, 'b', 2, 'c'),\n",
       " (5, 'b', 2, 'd'),\n",
       " (5, 'b', 2, 'e'),\n",
       " (5, 'b', 2, 'f'),\n",
       " (5, 'b', 3, 'a'),\n",
       " (5, 'b', 3, 'b'),\n",
       " (5, 'b', 3, 'c'),\n",
       " (5, 'b', 3, 'd'),\n",
       " (5, 'b', 3, 'e'),\n",
       " (5, 'b', 3, 'f'),\n",
       " (5, 'b', 4, 'a'),\n",
       " (5, 'b', 4, 'b'),\n",
       " (5, 'b', 4, 'c'),\n",
       " (5, 'b', 4, 'd'),\n",
       " (5, 'b', 4, 'e'),\n",
       " (5, 'b', 4, 'f'),\n",
       " (5, 'b', 5, 'a'),\n",
       " (5, 'b', 5, 'b'),\n",
       " (5, 'b', 5, 'c'),\n",
       " (5, 'b', 5, 'd'),\n",
       " (5, 'b', 5, 'e'),\n",
       " (5, 'b', 5, 'f'),\n",
       " (5, 'b', 6, 'a'),\n",
       " (5, 'b', 6, 'b'),\n",
       " (5, 'b', 6, 'c'),\n",
       " (5, 'b', 6, 'd'),\n",
       " (5, 'b', 6, 'e'),\n",
       " (5, 'b', 6, 'f'),\n",
       " (5, 'c', 1, 'a'),\n",
       " (5, 'c', 1, 'b'),\n",
       " (5, 'c', 1, 'c'),\n",
       " (5, 'c', 1, 'd'),\n",
       " (5, 'c', 1, 'e'),\n",
       " (5, 'c', 1, 'f'),\n",
       " (5, 'c', 2, 'a'),\n",
       " (5, 'c', 2, 'b'),\n",
       " (5, 'c', 2, 'c'),\n",
       " (5, 'c', 2, 'd'),\n",
       " (5, 'c', 2, 'e'),\n",
       " (5, 'c', 2, 'f'),\n",
       " (5, 'c', 3, 'a'),\n",
       " (5, 'c', 3, 'b'),\n",
       " (5, 'c', 3, 'c'),\n",
       " (5, 'c', 3, 'd'),\n",
       " (5, 'c', 3, 'e'),\n",
       " (5, 'c', 3, 'f'),\n",
       " (5, 'c', 4, 'a'),\n",
       " (5, 'c', 4, 'b'),\n",
       " (5, 'c', 4, 'c'),\n",
       " (5, 'c', 4, 'd'),\n",
       " (5, 'c', 4, 'e'),\n",
       " (5, 'c', 4, 'f'),\n",
       " (5, 'c', 5, 'a'),\n",
       " (5, 'c', 5, 'b'),\n",
       " (5, 'c', 5, 'c'),\n",
       " (5, 'c', 5, 'd'),\n",
       " (5, 'c', 5, 'e'),\n",
       " (5, 'c', 5, 'f'),\n",
       " (5, 'c', 6, 'a'),\n",
       " (5, 'c', 6, 'b'),\n",
       " (5, 'c', 6, 'c'),\n",
       " (5, 'c', 6, 'd'),\n",
       " (5, 'c', 6, 'e'),\n",
       " (5, 'c', 6, 'f'),\n",
       " (5, 'd', 1, 'a'),\n",
       " (5, 'd', 1, 'b'),\n",
       " (5, 'd', 1, 'c'),\n",
       " (5, 'd', 1, 'd'),\n",
       " (5, 'd', 1, 'e'),\n",
       " (5, 'd', 1, 'f'),\n",
       " (5, 'd', 2, 'a'),\n",
       " (5, 'd', 2, 'b'),\n",
       " (5, 'd', 2, 'c'),\n",
       " (5, 'd', 2, 'd'),\n",
       " (5, 'd', 2, 'e'),\n",
       " (5, 'd', 2, 'f'),\n",
       " (5, 'd', 3, 'a'),\n",
       " (5, 'd', 3, 'b'),\n",
       " (5, 'd', 3, 'c'),\n",
       " (5, 'd', 3, 'd'),\n",
       " (5, 'd', 3, 'e'),\n",
       " (5, 'd', 3, 'f'),\n",
       " (5, 'd', 4, 'a'),\n",
       " (5, 'd', 4, 'b'),\n",
       " (5, 'd', 4, 'c'),\n",
       " (5, 'd', 4, 'd'),\n",
       " (5, 'd', 4, 'e'),\n",
       " (5, 'd', 4, 'f'),\n",
       " (5, 'd', 5, 'a'),\n",
       " (5, 'd', 5, 'b'),\n",
       " (5, 'd', 5, 'c'),\n",
       " (5, 'd', 5, 'd'),\n",
       " ...]"
      ]
     },
     "execution_count": 36,
     "metadata": {},
     "output_type": "execute_result"
    }
   ],
   "source": [
    "list(product(list1, list2, repeat=2))"
   ]
  },
  {
   "cell_type": "markdown",
   "metadata": {},
   "source": [
    "# repeat(object[, times])\n",
    "Make an iterator that returns object over and over again."
   ]
  },
  {
   "cell_type": "code",
   "execution_count": 37,
   "metadata": {},
   "outputs": [
    {
     "data": {
      "text/plain": [
       "['a', 'a', 'a']"
      ]
     },
     "execution_count": 37,
     "metadata": {},
     "output_type": "execute_result"
    }
   ],
   "source": [
    "list(repeat('a', 3))"
   ]
  },
  {
   "cell_type": "markdown",
   "metadata": {},
   "source": [
    "A common use for repeat is to supply a stream of constant values to map or zip:"
   ]
  },
  {
   "cell_type": "code",
   "execution_count": 39,
   "metadata": {},
   "outputs": [
    {
     "data": {
      "text/plain": [
       "[0, 1, 4, 9, 16, 25, 36, 49, 64, 81]"
      ]
     },
     "execution_count": 39,
     "metadata": {},
     "output_type": "execute_result"
    }
   ],
   "source": [
    "list(map(pow, range(10), repeat(2)))"
   ]
  },
  {
   "cell_type": "code",
   "execution_count": null,
   "metadata": {},
   "outputs": [],
   "source": []
  }
 ],
 "metadata": {
  "kernelspec": {
   "display_name": "Python 3",
   "language": "python",
   "name": "python3"
  },
  "language_info": {
   "codemirror_mode": {
    "name": "ipython",
    "version": 3
   },
   "file_extension": ".py",
   "mimetype": "text/x-python",
   "name": "python",
   "nbconvert_exporter": "python",
   "pygments_lexer": "ipython3",
   "version": "3.7.6"
  }
 },
 "nbformat": 4,
 "nbformat_minor": 4
}
