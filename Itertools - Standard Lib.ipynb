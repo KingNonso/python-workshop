{
 "cells": [
  {
   "cell_type": "markdown",
   "metadata": {},
   "source": [
    "# Reviewing the Python Itertools Standard Lib\n",
    "Because we perform a lot of iteration in coding"
   ]
  },
  {
   "cell_type": "code",
   "execution_count": 1,
   "metadata": {},
   "outputs": [],
   "source": [
    "import operator\n",
    "from itertools import *"
   ]
  },
  {
   "cell_type": "markdown",
   "metadata": {},
   "source": [
    "## Accumulate\n",
    "Make an iterator that returns accumulated sums, or accumulated results of other binary functions (specified via the optional func argument).\n",
    "If func is supplied, it should be a function of two arguments\n",
    "There are a number of uses for the func argument. It can be set to min() for a running minimum, max() for a running maximum, or operator.mul() for a running product. \n",
    "Amortization tables can be built by accumulating interest and applying payment"
   ]
  },
  {
   "cell_type": "code",
   "execution_count": null,
   "metadata": {},
   "outputs": [],
   "source": [
    "def func(a,b):\n",
    "    return a-b\n",
    "\n",
    "print('Summation',list(accumulate([1,2,3,4,5,6,7])))\n",
    "print('Custom function',list(accumulate([1,2,3,4,5,6,7], func)))\n",
    "print('Running min',list(accumulate([1,2,3,4,5,6,7], min)))\n",
    "print('Running max',list(accumulate([1,2,3,4,5,6,7], max)))\n",
    "print('Running product',list(accumulate([1,2,3,4,5,6,7], operator.mul)))\n",
    "\n",
    "# Amortize a 5% loan of 1000 with 4 annual payments of 90\n",
    "cashflows = [1000, -90, -90, -90, -90]\n",
    "print(list(accumulate(cashflows, lambda bal, pmt: bal*1.05 + pmt)))"
   ]
  },
  {
   "cell_type": "markdown",
   "metadata": {},
   "source": [
    "## Chain\n",
    "Make an iterator that returns elements from the first iterable until it is exhausted, then proceeds to the next iterable, until all of the iterables are exhausted. Used for treating consecutive sequences as a single sequence."
   ]
  },
  {
   "cell_type": "code",
   "execution_count": null,
   "metadata": {},
   "outputs": [],
   "source": [
    "a = [1,2,3,4,5]\n",
    "b = ['a','b', 'c','d']\n",
    "chain(a,b)"
   ]
  },
  {
   "cell_type": "code",
   "execution_count": null,
   "metadata": {},
   "outputs": [],
   "source": [
    "list(chain(a,b))"
   ]
  },
  {
   "cell_type": "markdown",
   "metadata": {},
   "source": [
    "## Combinations\n",
    "Return r length subsequences of elements from the input iterable\n",
    "\n",
    "The combination tuples are emitted in lexicographic ordering according to the order of the input iterable.\n",
    "So, if the input iterable is sorted, the combination tuples will be produced in sorted order\n",
    "\n",
    "Elements are treated as unique based on their position, not their value. So if the input elements are unique, there will be no repeat values in each combination"
   ]
  },
  {
   "cell_type": "code",
   "execution_count": null,
   "metadata": {},
   "outputs": [],
   "source": [
    "list(combinations(a,2))"
   ]
  },
  {
   "cell_type": "code",
   "execution_count": null,
   "metadata": {},
   "outputs": [],
   "source": [
    "list(combinations(b,3))"
   ]
  },
  {
   "cell_type": "markdown",
   "metadata": {},
   "source": [
    "## combinations_with_replacement\n",
    "Return r length subsequences of elements from the input iterable, allowing individual elements to be repeated more than once"
   ]
  },
  {
   "cell_type": "code",
   "execution_count": null,
   "metadata": {},
   "outputs": [],
   "source": [
    "list(combinations_with_replacement(b,3))"
   ]
  },
  {
   "cell_type": "markdown",
   "metadata": {},
   "source": [
    "## compress\n",
    "Make an iterator that filters elements from data returning only those that have a corresponding element in selectors that evaluates to True.\n",
    "Stops when either the data or selectors iterables has been exhausted"
   ]
  },
  {
   "cell_type": "code",
   "execution_count": 2,
   "metadata": {},
   "outputs": [
    {
     "data": {
      "text/plain": [
       "['a', 'c', 'e', 'g']"
      ]
     },
     "execution_count": 2,
     "metadata": {},
     "output_type": "execute_result"
    }
   ],
   "source": [
    "data = 'abcdefgh'\n",
    "sel = [1,0,1,0,1,0,1,0,]\n",
    "list(compress(data, sel))"
   ]
  },
  {
   "cell_type": "markdown",
   "metadata": {},
   "source": [
    "# Infinite iterables\n",
    "count, cycle\n",
    "\n",
    "count(start=0, step=1)\n",
    "\n",
    "    Make an iterator that returns evenly spaced values starting with number start. Often used as an argument to map() to generate consecutive data points. Also, used with zip() to add sequence numbers.\n",
    "    \n",
    "    cycle(iterable)\n",
    "\n",
    "    Make an iterator returning elements from the iterable and saving a copy of each."
   ]
  },
  {
   "cell_type": "code",
   "execution_count": 9,
   "metadata": {},
   "outputs": [
    {
     "data": {
      "text/plain": [
       "[(2.5, 'a'),\n",
       " (3.0, 'b'),\n",
       " (3.5, 'c'),\n",
       " (4.0, 'd'),\n",
       " (4.5, 'e'),\n",
       " (5.0, 'f'),\n",
       " (5.5, 'g'),\n",
       " (6.0, 'h')]"
      ]
     },
     "execution_count": 9,
     "metadata": {},
     "output_type": "execute_result"
    }
   ],
   "source": [
    "list(zip(count(2.5,0.5), data))"
   ]
  },
  {
   "cell_type": "code",
   "execution_count": 11,
   "metadata": {},
   "outputs": [
    {
     "data": {
      "text/plain": [
       "[5, 6, 6]"
      ]
     },
     "execution_count": 11,
     "metadata": {},
     "output_type": "execute_result"
    }
   ],
   "source": [
    "fruits = ('apple', 'banana', 'cherry')\n",
    "list(map(len, fruits))"
   ]
  },
  {
   "cell_type": "code",
   "execution_count": 15,
   "metadata": {},
   "outputs": [
    {
     "data": {
      "text/plain": [
       "[['a', 'p', 'e', 'p'], ['b', 'n', 'n', 'b'], ['c', 'e', 'r', 'c']]"
      ]
     },
     "execution_count": 15,
     "metadata": {},
     "output_type": "execute_result"
    }
   ],
   "source": [
    "list(map(lambda x,y: list(compress(chain(x,y), sel)), fruits, fruits))"
   ]
  },
  {
   "cell_type": "code",
   "execution_count": null,
   "metadata": {},
   "outputs": [],
   "source": []
  }
 ],
 "metadata": {
  "kernelspec": {
   "display_name": "Python 3",
   "language": "python",
   "name": "python3"
  },
  "language_info": {
   "codemirror_mode": {
    "name": "ipython",
    "version": 3
   },
   "file_extension": ".py",
   "mimetype": "text/x-python",
   "name": "python",
   "nbconvert_exporter": "python",
   "pygments_lexer": "ipython3",
   "version": "3.7.6"
  }
 },
 "nbformat": 4,
 "nbformat_minor": 4
}
